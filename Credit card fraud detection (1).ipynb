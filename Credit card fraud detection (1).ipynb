{
 "cells": [
  {
   "cell_type": "markdown",
   "metadata": {},
   "source": [
    "# Predicting whether a Credit card transaction is Fraudulent or Normal using Machine Learning"
   ]
  },
  {
   "cell_type": "markdown",
   "metadata": {},
   "source": [
    "This notebook will introduce some foundation machine learning and data science concepts by exploring the problem of credit card fraud detection classification.\n"
   ]
  },
  {
   "cell_type": "markdown",
   "metadata": {},
   "source": [
    "# Problem statement"
   ]
  },
  {
   "cell_type": "markdown",
   "metadata": {},
   "source": [
    "In our case, the problem we will be exploring is binary classification (a sample can only be one of two things).\n",
    "\n",
    "This is because we're going to be using a number of differnet features (pieces of information) about a transaction to predict whether it is fraudulent or normal\n",
    "\n",
    "In a statement, we are given the certain parameters of bank account we have to predict whether the transaction is legit or fraudulent.."
   ]
  },
  {
   "cell_type": "markdown",
   "metadata": {},
   "source": [
    "# Preparing the tools"
   ]
  },
  {
   "cell_type": "markdown",
   "metadata": {},
   "source": [
    "The libraries we use in this project are-\n",
    "* Pandas\n",
    "* Numpy\n",
    "* Matplotlib\n",
    "* Sci-kit learn"
   ]
  },
  {
   "cell_type": "code",
   "execution_count": 1,
   "metadata": {},
   "outputs": [],
   "source": [
    "#Importing all the tools which are required.\n",
    "\n",
    "import pandas as pd\n",
    "import numpy as np\n",
    "import matplotlib.pyplot as plt\n",
    "import seaborn as sns\n",
    "\n",
    "\n",
    "#Importing modelling tools.\n",
    "from sklearn.linear_model import LogisticRegression\n",
    "from sklearn.neighbors import KNeighborsClassifier\n",
    "from sklearn.ensemble import RandomForestClassifier\n",
    "\n",
    "#tool to split training and testing data.\n",
    "from sklearn.model_selection import train_test_split\n",
    "from sklearn.model_selection import RandomizedSearchCV\n",
    "from sklearn.model_selection import GridSearchCV\n",
    "from sklearn.model_selection import cross_val_score\n",
    "\n",
    "#importing the evaluation metrics\n",
    "from sklearn.metrics import confusion_matrix\n",
    "from sklearn.metrics import plot_roc_curve\n",
    "from sklearn.metrics import classification_report\n",
    "from sklearn.metrics import accuracy_score, precision_score\n",
    "from sklearn.metrics import f1_score, recall_score"
   ]
  },
  {
   "cell_type": "markdown",
   "metadata": {},
   "source": [
    "## Preparing the Data"
   ]
  },
  {
   "cell_type": "markdown",
   "metadata": {},
   "source": [
    "We have taken this dataset from kaggle .\n",
    "\n",
    "The datbase contains 31 columns of different features like Time, amount and other PCA(principal Component Analysis)\n",
    "\n",
    "Attributes and features are also referred to as independent variables and a target variable can be referred to as a dependent variable.\n",
    "\n",
    "We use the independent variables to predict our dependent variable.\n",
    "\n",
    "Or in our case, the independent variables are various features like Time, amount and the dependent variable is Class(in which we have to predict whether or not the transaction is Fraudulent or legit)"
   ]
  },
  {
   "cell_type": "markdown",
   "metadata": {},
   "source": [
    "## Loading the data"
   ]
  },
  {
   "cell_type": "code",
   "execution_count": 2,
   "metadata": {},
   "outputs": [
    {
     "data": {
      "text/plain": [
       "(284807, 31)"
      ]
     },
     "execution_count": 2,
     "metadata": {},
     "output_type": "execute_result"
    }
   ],
   "source": [
    "#Reading the data.\n",
    "df = pd.read_csv(\"creditcard.csv\")\n",
    "df.shape #(rows, columns)"
   ]
  },
  {
   "cell_type": "markdown",
   "metadata": {},
   "source": [
    "## Data Exploration(Exploratory data analysis or EDA)\n",
    "\n",
    "* In this section we are going to find more about the data and become a subject matter expert on the dataset we're working with.\n",
    "\n",
    "* we do exploratory data analysis (EDA) to start building an intuition of the dataset.\n",
    "\n",
    "\n",
    "* Which type of question we're trying to solve? -> classification problem(In this case)\n",
    "* What kind of data do we have and how do we treat different types?\n",
    "* What's missing from the data and how do we deal with it?\n",
    "* Where are the outliers and why should we care about them?\n",
    "* How can we add, change or remove features to get more out of our data?"
   ]
  },
  {
   "cell_type": "code",
   "execution_count": 3,
   "metadata": {},
   "outputs": [
    {
     "data": {
      "text/html": [
       "<div>\n",
       "<style scoped>\n",
       "    .dataframe tbody tr th:only-of-type {\n",
       "        vertical-align: middle;\n",
       "    }\n",
       "\n",
       "    .dataframe tbody tr th {\n",
       "        vertical-align: top;\n",
       "    }\n",
       "\n",
       "    .dataframe thead th {\n",
       "        text-align: right;\n",
       "    }\n",
       "</style>\n",
       "<table border=\"1\" class=\"dataframe\">\n",
       "  <thead>\n",
       "    <tr style=\"text-align: right;\">\n",
       "      <th></th>\n",
       "      <th>Time</th>\n",
       "      <th>V1</th>\n",
       "      <th>V2</th>\n",
       "      <th>V3</th>\n",
       "      <th>V4</th>\n",
       "      <th>V5</th>\n",
       "      <th>V6</th>\n",
       "      <th>V7</th>\n",
       "      <th>V8</th>\n",
       "      <th>V9</th>\n",
       "      <th>...</th>\n",
       "      <th>V21</th>\n",
       "      <th>V22</th>\n",
       "      <th>V23</th>\n",
       "      <th>V24</th>\n",
       "      <th>V25</th>\n",
       "      <th>V26</th>\n",
       "      <th>V27</th>\n",
       "      <th>V28</th>\n",
       "      <th>Amount</th>\n",
       "      <th>Class</th>\n",
       "    </tr>\n",
       "  </thead>\n",
       "  <tbody>\n",
       "    <tr>\n",
       "      <th>0</th>\n",
       "      <td>0.0</td>\n",
       "      <td>-1.359807</td>\n",
       "      <td>-0.072781</td>\n",
       "      <td>2.536347</td>\n",
       "      <td>1.378155</td>\n",
       "      <td>-0.338321</td>\n",
       "      <td>0.462388</td>\n",
       "      <td>0.239599</td>\n",
       "      <td>0.098698</td>\n",
       "      <td>0.363787</td>\n",
       "      <td>...</td>\n",
       "      <td>-0.018307</td>\n",
       "      <td>0.277838</td>\n",
       "      <td>-0.110474</td>\n",
       "      <td>0.066928</td>\n",
       "      <td>0.128539</td>\n",
       "      <td>-0.189115</td>\n",
       "      <td>0.133558</td>\n",
       "      <td>-0.021053</td>\n",
       "      <td>149.62</td>\n",
       "      <td>0</td>\n",
       "    </tr>\n",
       "    <tr>\n",
       "      <th>1</th>\n",
       "      <td>0.0</td>\n",
       "      <td>1.191857</td>\n",
       "      <td>0.266151</td>\n",
       "      <td>0.166480</td>\n",
       "      <td>0.448154</td>\n",
       "      <td>0.060018</td>\n",
       "      <td>-0.082361</td>\n",
       "      <td>-0.078803</td>\n",
       "      <td>0.085102</td>\n",
       "      <td>-0.255425</td>\n",
       "      <td>...</td>\n",
       "      <td>-0.225775</td>\n",
       "      <td>-0.638672</td>\n",
       "      <td>0.101288</td>\n",
       "      <td>-0.339846</td>\n",
       "      <td>0.167170</td>\n",
       "      <td>0.125895</td>\n",
       "      <td>-0.008983</td>\n",
       "      <td>0.014724</td>\n",
       "      <td>2.69</td>\n",
       "      <td>0</td>\n",
       "    </tr>\n",
       "    <tr>\n",
       "      <th>2</th>\n",
       "      <td>1.0</td>\n",
       "      <td>-1.358354</td>\n",
       "      <td>-1.340163</td>\n",
       "      <td>1.773209</td>\n",
       "      <td>0.379780</td>\n",
       "      <td>-0.503198</td>\n",
       "      <td>1.800499</td>\n",
       "      <td>0.791461</td>\n",
       "      <td>0.247676</td>\n",
       "      <td>-1.514654</td>\n",
       "      <td>...</td>\n",
       "      <td>0.247998</td>\n",
       "      <td>0.771679</td>\n",
       "      <td>0.909412</td>\n",
       "      <td>-0.689281</td>\n",
       "      <td>-0.327642</td>\n",
       "      <td>-0.139097</td>\n",
       "      <td>-0.055353</td>\n",
       "      <td>-0.059752</td>\n",
       "      <td>378.66</td>\n",
       "      <td>0</td>\n",
       "    </tr>\n",
       "    <tr>\n",
       "      <th>3</th>\n",
       "      <td>1.0</td>\n",
       "      <td>-0.966272</td>\n",
       "      <td>-0.185226</td>\n",
       "      <td>1.792993</td>\n",
       "      <td>-0.863291</td>\n",
       "      <td>-0.010309</td>\n",
       "      <td>1.247203</td>\n",
       "      <td>0.237609</td>\n",
       "      <td>0.377436</td>\n",
       "      <td>-1.387024</td>\n",
       "      <td>...</td>\n",
       "      <td>-0.108300</td>\n",
       "      <td>0.005274</td>\n",
       "      <td>-0.190321</td>\n",
       "      <td>-1.175575</td>\n",
       "      <td>0.647376</td>\n",
       "      <td>-0.221929</td>\n",
       "      <td>0.062723</td>\n",
       "      <td>0.061458</td>\n",
       "      <td>123.50</td>\n",
       "      <td>0</td>\n",
       "    </tr>\n",
       "    <tr>\n",
       "      <th>4</th>\n",
       "      <td>2.0</td>\n",
       "      <td>-1.158233</td>\n",
       "      <td>0.877737</td>\n",
       "      <td>1.548718</td>\n",
       "      <td>0.403034</td>\n",
       "      <td>-0.407193</td>\n",
       "      <td>0.095921</td>\n",
       "      <td>0.592941</td>\n",
       "      <td>-0.270533</td>\n",
       "      <td>0.817739</td>\n",
       "      <td>...</td>\n",
       "      <td>-0.009431</td>\n",
       "      <td>0.798278</td>\n",
       "      <td>-0.137458</td>\n",
       "      <td>0.141267</td>\n",
       "      <td>-0.206010</td>\n",
       "      <td>0.502292</td>\n",
       "      <td>0.219422</td>\n",
       "      <td>0.215153</td>\n",
       "      <td>69.99</td>\n",
       "      <td>0</td>\n",
       "    </tr>\n",
       "  </tbody>\n",
       "</table>\n",
       "<p>5 rows × 31 columns</p>\n",
       "</div>"
      ],
      "text/plain": [
       "   Time        V1        V2        V3        V4        V5        V6        V7  \\\n",
       "0   0.0 -1.359807 -0.072781  2.536347  1.378155 -0.338321  0.462388  0.239599   \n",
       "1   0.0  1.191857  0.266151  0.166480  0.448154  0.060018 -0.082361 -0.078803   \n",
       "2   1.0 -1.358354 -1.340163  1.773209  0.379780 -0.503198  1.800499  0.791461   \n",
       "3   1.0 -0.966272 -0.185226  1.792993 -0.863291 -0.010309  1.247203  0.237609   \n",
       "4   2.0 -1.158233  0.877737  1.548718  0.403034 -0.407193  0.095921  0.592941   \n",
       "\n",
       "         V8        V9  ...       V21       V22       V23       V24       V25  \\\n",
       "0  0.098698  0.363787  ... -0.018307  0.277838 -0.110474  0.066928  0.128539   \n",
       "1  0.085102 -0.255425  ... -0.225775 -0.638672  0.101288 -0.339846  0.167170   \n",
       "2  0.247676 -1.514654  ...  0.247998  0.771679  0.909412 -0.689281 -0.327642   \n",
       "3  0.377436 -1.387024  ... -0.108300  0.005274 -0.190321 -1.175575  0.647376   \n",
       "4 -0.270533  0.817739  ... -0.009431  0.798278 -0.137458  0.141267 -0.206010   \n",
       "\n",
       "        V26       V27       V28  Amount  Class  \n",
       "0 -0.189115  0.133558 -0.021053  149.62      0  \n",
       "1  0.125895 -0.008983  0.014724    2.69      0  \n",
       "2 -0.139097 -0.055353 -0.059752  378.66      0  \n",
       "3 -0.221929  0.062723  0.061458  123.50      0  \n",
       "4  0.502292  0.219422  0.215153   69.99      0  \n",
       "\n",
       "[5 rows x 31 columns]"
      ]
     },
     "execution_count": 3,
     "metadata": {},
     "output_type": "execute_result"
    }
   ],
   "source": [
    "df.head()"
   ]
  },
  {
   "cell_type": "code",
   "execution_count": 4,
   "metadata": {},
   "outputs": [
    {
     "data": {
      "text/plain": [
       "0    284315\n",
       "1       492\n",
       "Name: Class, dtype: int64"
      ]
     },
     "execution_count": 4,
     "metadata": {},
     "output_type": "execute_result"
    }
   ],
   "source": [
    "#Distribution of legit and Fraudulent transactions\n",
    "# 1 -> Fraudulent ransaction\n",
    "# 0 -> Legit transaction\n",
    "df[\"Class\"].value_counts()"
   ]
  },
  {
   "cell_type": "code",
   "execution_count": 5,
   "metadata": {},
   "outputs": [
    {
     "data": {
      "text/plain": [
       "<AxesSubplot:>"
      ]
     },
     "execution_count": 5,
     "metadata": {},
     "output_type": "execute_result"
    },
    {
     "data": {
      "image/png": "[encoded data removed]",
      "text/plain": [
       "<Figure size 432x288 with 1 Axes>"
      ]
     },
     "metadata": {
      "needs_background": "light"
     },
     "output_type": "display_data"
    }
   ],
   "source": [
    "#plotting the graph of the data Class\n",
    "df[\"Class\"].value_counts().plot(kind=\"bar\", color=[\"blue\", \"red\"])"
   ]
  },
  {
   "cell_type": "markdown",
   "metadata": {},
   "source": [
    "* As we can see from the data that only 492 transactions are fraud therefore it is negligible compared to the fair transactions therefore the data is not visible in our bar graph. Therefore, This data is called imbalanced data because of the above reason.."
   ]
  },
  {
   "cell_type": "code",
   "execution_count": 6,
   "metadata": {},
   "outputs": [
    {
     "name": "stdout",
     "output_type": "stream",
     "text": [
      "<class 'pandas.core.frame.DataFrame'>\n",
      "RangeIndex: 284807 entries, 0 to 284806\n",
      "Data columns (total 31 columns):\n",
      " #   Column  Non-Null Count   Dtype  \n",
      "---  ------  --------------   -----  \n",
      " 0   Time    284807 non-null  float64\n",
      " 1   V1      284807 non-null  float64\n",
      " 2   V2      284807 non-null  float64\n",
      " 3   V3      284807 non-null  float64\n",
      " 4   V4      284807 non-null  float64\n",
      " 5   V5      284807 non-null  float64\n",
      " 6   V6      284807 non-null  float64\n",
      " 7   V7      284807 non-null  float64\n",
      " 8   V8      284807 non-null  float64\n",
      " 9   V9      284807 non-null  float64\n",
      " 10  V10     284807 non-null  float64\n",
      " 11  V11     284807 non-null  float64\n",
      " 12  V12     284807 non-null  float64\n",
      " 13  V13     284807 non-null  float64\n",
      " 14  V14     284807 non-null  float64\n",
      " 15  V15     284807 non-null  float64\n",
      " 16  V16     284807 non-null  float64\n",
      " 17  V17     284807 non-null  float64\n",
      " 18  V18     284807 non-null  float64\n",
      " 19  V19     284807 non-null  float64\n",
      " 20  V20     284807 non-null  float64\n",
      " 21  V21     284807 non-null  float64\n",
      " 22  V22     284807 non-null  float64\n",
      " 23  V23     284807 non-null  float64\n",
      " 24  V24     284807 non-null  float64\n",
      " 25  V25     284807 non-null  float64\n",
      " 26  V26     284807 non-null  float64\n",
      " 27  V27     284807 non-null  float64\n",
      " 28  V28     284807 non-null  float64\n",
      " 29  Amount  284807 non-null  float64\n",
      " 30  Class   284807 non-null  int64  \n",
      "dtypes: float64(30), int64(1)\n",
      "memory usage: 67.4 MB\n"
     ]
    }
   ],
   "source": [
    "df.info()"
   ]
  },
  {
   "cell_type": "code",
   "execution_count": 7,
   "metadata": {},
   "outputs": [
    {
     "data": {
      "text/plain": [
       "Time      0\n",
       "V1        0\n",
       "V2        0\n",
       "V3        0\n",
       "V4        0\n",
       "V5        0\n",
       "V6        0\n",
       "V7        0\n",
       "V8        0\n",
       "V9        0\n",
       "V10       0\n",
       "V11       0\n",
       "V12       0\n",
       "V13       0\n",
       "V14       0\n",
       "V15       0\n",
       "V16       0\n",
       "V17       0\n",
       "V18       0\n",
       "V19       0\n",
       "V20       0\n",
       "V21       0\n",
       "V22       0\n",
       "V23       0\n",
       "V24       0\n",
       "V25       0\n",
       "V26       0\n",
       "V27       0\n",
       "V28       0\n",
       "Amount    0\n",
       "Class     0\n",
       "dtype: int64"
      ]
     },
     "execution_count": 7,
     "metadata": {},
     "output_type": "execute_result"
    }
   ],
   "source": [
    "df.isna().sum() #To check if data contains any missing value."
   ]
  },
  {
   "cell_type": "markdown",
   "metadata": {},
   "source": [
    "* From this we got all the information of our data(i.e about the datatypes) and we can see that there are no missing data in our dataset and therefore no feature Engineering is required."
   ]
  },
  {
   "cell_type": "code",
   "execution_count": 8,
   "metadata": {},
   "outputs": [
    {
     "data": {
      "text/html": [
       "<div>\n",
       "<style scoped>\n",
       "    .dataframe tbody tr th:only-of-type {\n",
       "        vertical-align: middle;\n",
       "    }\n",
       "\n",
       "    .dataframe tbody tr th {\n",
       "        vertical-align: top;\n",
       "    }\n",
       "\n",
       "    .dataframe thead th {\n",
       "        text-align: right;\n",
       "    }\n",
       "</style>\n",
       "<table border=\"1\" class=\"dataframe\">\n",
       "  <thead>\n",
       "    <tr style=\"text-align: right;\">\n",
       "      <th></th>\n",
       "      <th>Time</th>\n",
       "      <th>V1</th>\n",
       "      <th>V2</th>\n",
       "      <th>V3</th>\n",
       "      <th>V4</th>\n",
       "      <th>V5</th>\n",
       "      <th>V6</th>\n",
       "      <th>V7</th>\n",
       "      <th>V8</th>\n",
       "      <th>V9</th>\n",
       "      <th>...</th>\n",
       "      <th>V21</th>\n",
       "      <th>V22</th>\n",
       "      <th>V23</th>\n",
       "      <th>V24</th>\n",
       "      <th>V25</th>\n",
       "      <th>V26</th>\n",
       "      <th>V27</th>\n",
       "      <th>V28</th>\n",
       "      <th>Amount</th>\n",
       "      <th>Class</th>\n",
       "    </tr>\n",
       "  </thead>\n",
       "  <tbody>\n",
       "    <tr>\n",
       "      <th>count</th>\n",
       "      <td>284807.000000</td>\n",
       "      <td>2.848070e+05</td>\n",
       "      <td>2.848070e+05</td>\n",
       "      <td>2.848070e+05</td>\n",
       "      <td>2.848070e+05</td>\n",
       "      <td>2.848070e+05</td>\n",
       "      <td>2.848070e+05</td>\n",
       "      <td>2.848070e+05</td>\n",
       "      <td>2.848070e+05</td>\n",
       "      <td>2.848070e+05</td>\n",
       "      <td>...</td>\n",
       "      <td>2.848070e+05</td>\n",
       "      <td>2.848070e+05</td>\n",
       "      <td>2.848070e+05</td>\n",
       "      <td>2.848070e+05</td>\n",
       "      <td>2.848070e+05</td>\n",
       "      <td>2.848070e+05</td>\n",
       "      <td>2.848070e+05</td>\n",
       "      <td>2.848070e+05</td>\n",
       "      <td>284807.000000</td>\n",
       "      <td>284807.000000</td>\n",
       "    </tr>\n",
       "    <tr>\n",
       "      <th>mean</th>\n",
       "      <td>94813.859575</td>\n",
       "      <td>3.919560e-15</td>\n",
       "      <td>5.688174e-16</td>\n",
       "      <td>-8.769071e-15</td>\n",
       "      <td>2.782312e-15</td>\n",
       "      <td>-1.552563e-15</td>\n",
       "      <td>2.010663e-15</td>\n",
       "      <td>-1.694249e-15</td>\n",
       "      <td>-1.927028e-16</td>\n",
       "      <td>-3.137024e-15</td>\n",
       "      <td>...</td>\n",
       "      <td>1.537294e-16</td>\n",
       "      <td>7.959909e-16</td>\n",
       "      <td>5.367590e-16</td>\n",
       "      <td>4.458112e-15</td>\n",
       "      <td>1.453003e-15</td>\n",
       "      <td>1.699104e-15</td>\n",
       "      <td>-3.660161e-16</td>\n",
       "      <td>-1.206049e-16</td>\n",
       "      <td>88.349619</td>\n",
       "      <td>0.001727</td>\n",
       "    </tr>\n",
       "    <tr>\n",
       "      <th>std</th>\n",
       "      <td>47488.145955</td>\n",
       "      <td>1.958696e+00</td>\n",
       "      <td>1.651309e+00</td>\n",
       "      <td>1.516255e+00</td>\n",
       "      <td>1.415869e+00</td>\n",
       "      <td>1.380247e+00</td>\n",
       "      <td>1.332271e+00</td>\n",
       "      <td>1.237094e+00</td>\n",
       "      <td>1.194353e+00</td>\n",
       "      <td>1.098632e+00</td>\n",
       "      <td>...</td>\n",
       "      <td>7.345240e-01</td>\n",
       "      <td>7.257016e-01</td>\n",
       "      <td>6.244603e-01</td>\n",
       "      <td>6.056471e-01</td>\n",
       "      <td>5.212781e-01</td>\n",
       "      <td>4.822270e-01</td>\n",
       "      <td>4.036325e-01</td>\n",
       "      <td>3.300833e-01</td>\n",
       "      <td>250.120109</td>\n",
       "      <td>0.041527</td>\n",
       "    </tr>\n",
       "    <tr>\n",
       "      <th>min</th>\n",
       "      <td>0.000000</td>\n",
       "      <td>-5.640751e+01</td>\n",
       "      <td>-7.271573e+01</td>\n",
       "      <td>-4.832559e+01</td>\n",
       "      <td>-5.683171e+00</td>\n",
       "      <td>-1.137433e+02</td>\n",
       "      <td>-2.616051e+01</td>\n",
       "      <td>-4.355724e+01</td>\n",
       "      <td>-7.321672e+01</td>\n",
       "      <td>-1.343407e+01</td>\n",
       "      <td>...</td>\n",
       "      <td>-3.483038e+01</td>\n",
       "      <td>-1.093314e+01</td>\n",
       "      <td>-4.480774e+01</td>\n",
       "      <td>-2.836627e+00</td>\n",
       "      <td>-1.029540e+01</td>\n",
       "      <td>-2.604551e+00</td>\n",
       "      <td>-2.256568e+01</td>\n",
       "      <td>-1.543008e+01</td>\n",
       "      <td>0.000000</td>\n",
       "      <td>0.000000</td>\n",
       "    </tr>\n",
       "    <tr>\n",
       "      <th>25%</th>\n",
       "      <td>54201.500000</td>\n",
       "      <td>-9.203734e-01</td>\n",
       "      <td>-5.985499e-01</td>\n",
       "      <td>-8.903648e-01</td>\n",
       "      <td>-8.486401e-01</td>\n",
       "      <td>-6.915971e-01</td>\n",
       "      <td>-7.682956e-01</td>\n",
       "      <td>-5.540759e-01</td>\n",
       "      <td>-2.086297e-01</td>\n",
       "      <td>-6.430976e-01</td>\n",
       "      <td>...</td>\n",
       "      <td>-2.283949e-01</td>\n",
       "      <td>-5.423504e-01</td>\n",
       "      <td>-1.618463e-01</td>\n",
       "      <td>-3.545861e-01</td>\n",
       "      <td>-3.171451e-01</td>\n",
       "      <td>-3.269839e-01</td>\n",
       "      <td>-7.083953e-02</td>\n",
       "      <td>-5.295979e-02</td>\n",
       "      <td>5.600000</td>\n",
       "      <td>0.000000</td>\n",
       "    </tr>\n",
       "    <tr>\n",
       "      <th>50%</th>\n",
       "      <td>84692.000000</td>\n",
       "      <td>1.810880e-02</td>\n",
       "      <td>6.548556e-02</td>\n",
       "      <td>1.798463e-01</td>\n",
       "      <td>-1.984653e-02</td>\n",
       "      <td>-5.433583e-02</td>\n",
       "      <td>-2.741871e-01</td>\n",
       "      <td>4.010308e-02</td>\n",
       "      <td>2.235804e-02</td>\n",
       "      <td>-5.142873e-02</td>\n",
       "      <td>...</td>\n",
       "      <td>-2.945017e-02</td>\n",
       "      <td>6.781943e-03</td>\n",
       "      <td>-1.119293e-02</td>\n",
       "      <td>4.097606e-02</td>\n",
       "      <td>1.659350e-02</td>\n",
       "      <td>-5.213911e-02</td>\n",
       "      <td>1.342146e-03</td>\n",
       "      <td>1.124383e-02</td>\n",
       "      <td>22.000000</td>\n",
       "      <td>0.000000</td>\n",
       "    </tr>\n",
       "    <tr>\n",
       "      <th>75%</th>\n",
       "      <td>139320.500000</td>\n",
       "      <td>1.315642e+00</td>\n",
       "      <td>8.037239e-01</td>\n",
       "      <td>1.027196e+00</td>\n",
       "      <td>7.433413e-01</td>\n",
       "      <td>6.119264e-01</td>\n",
       "      <td>3.985649e-01</td>\n",
       "      <td>5.704361e-01</td>\n",
       "      <td>3.273459e-01</td>\n",
       "      <td>5.971390e-01</td>\n",
       "      <td>...</td>\n",
       "      <td>1.863772e-01</td>\n",
       "      <td>5.285536e-01</td>\n",
       "      <td>1.476421e-01</td>\n",
       "      <td>4.395266e-01</td>\n",
       "      <td>3.507156e-01</td>\n",
       "      <td>2.409522e-01</td>\n",
       "      <td>9.104512e-02</td>\n",
       "      <td>7.827995e-02</td>\n",
       "      <td>77.165000</td>\n",
       "      <td>0.000000</td>\n",
       "    </tr>\n",
       "    <tr>\n",
       "      <th>max</th>\n",
       "      <td>172792.000000</td>\n",
       "      <td>2.454930e+00</td>\n",
       "      <td>2.205773e+01</td>\n",
       "      <td>9.382558e+00</td>\n",
       "      <td>1.687534e+01</td>\n",
       "      <td>3.480167e+01</td>\n",
       "      <td>7.330163e+01</td>\n",
       "      <td>1.205895e+02</td>\n",
       "      <td>2.000721e+01</td>\n",
       "      <td>1.559499e+01</td>\n",
       "      <td>...</td>\n",
       "      <td>2.720284e+01</td>\n",
       "      <td>1.050309e+01</td>\n",
       "      <td>2.252841e+01</td>\n",
       "      <td>4.584549e+00</td>\n",
       "      <td>7.519589e+00</td>\n",
       "      <td>3.517346e+00</td>\n",
       "      <td>3.161220e+01</td>\n",
       "      <td>3.384781e+01</td>\n",
       "      <td>25691.160000</td>\n",
       "      <td>1.000000</td>\n",
       "    </tr>\n",
       "  </tbody>\n",
       "</table>\n",
       "<p>8 rows × 31 columns</p>\n",
       "</div>"
      ],
      "text/plain": [
       "                Time            V1            V2            V3            V4  \\\n",
       "count  284807.000000  2.848070e+05  2.848070e+05  2.848070e+05  2.848070e+05   \n",
       "mean    94813.859575  3.919560e-15  5.688174e-16 -8.769071e-15  2.782312e-15   \n",
       "std     47488.145955  1.958696e+00  1.651309e+00  1.516255e+00  1.415869e+00   \n",
       "min         0.000000 -5.640751e+01 -7.271573e+01 -4.832559e+01 -5.683171e+00   \n",
       "25%     54201.500000 -9.203734e-01 -5.985499e-01 -8.903648e-01 -8.486401e-01   \n",
       "50%     84692.000000  1.810880e-02  6.548556e-02  1.798463e-01 -1.984653e-02   \n",
       "75%    139320.500000  1.315642e+00  8.037239e-01  1.027196e+00  7.433413e-01   \n",
       "max    172792.000000  2.454930e+00  2.205773e+01  9.382558e+00  1.687534e+01   \n",
       "\n",
       "                 V5            V6            V7            V8            V9  \\\n",
       "count  2.848070e+05  2.848070e+05  2.848070e+05  2.848070e+05  2.848070e+05   \n",
       "mean  -1.552563e-15  2.010663e-15 -1.694249e-15 -1.927028e-16 -3.137024e-15   \n",
       "std    1.380247e+00  1.332271e+00  1.237094e+00  1.194353e+00  1.098632e+00   \n",
       "min   -1.137433e+02 -2.616051e+01 -4.355724e+01 -7.321672e+01 -1.343407e+01   \n",
       "25%   -6.915971e-01 -7.682956e-01 -5.540759e-01 -2.086297e-01 -6.430976e-01   \n",
       "50%   -5.433583e-02 -2.741871e-01  4.010308e-02  2.235804e-02 -5.142873e-02   \n",
       "75%    6.119264e-01  3.985649e-01  5.704361e-01  3.273459e-01  5.971390e-01   \n",
       "max    3.480167e+01  7.330163e+01  1.205895e+02  2.000721e+01  1.559499e+01   \n",
       "\n",
       "       ...           V21           V22           V23           V24  \\\n",
       "count  ...  2.848070e+05  2.848070e+05  2.848070e+05  2.848070e+05   \n",
       "mean   ...  1.537294e-16  7.959909e-16  5.367590e-16  4.458112e-15   \n",
       "std    ...  7.345240e-01  7.257016e-01  6.244603e-01  6.056471e-01   \n",
       "min    ... -3.483038e+01 -1.093314e+01 -4.480774e+01 -2.836627e+00   \n",
       "25%    ... -2.283949e-01 -5.423504e-01 -1.618463e-01 -3.545861e-01   \n",
       "50%    ... -2.945017e-02  6.781943e-03 -1.119293e-02  4.097606e-02   \n",
       "75%    ...  1.863772e-01  5.285536e-01  1.476421e-01  4.395266e-01   \n",
       "max    ...  2.720284e+01  1.050309e+01  2.252841e+01  4.584549e+00   \n",
       "\n",
       "                V25           V26           V27           V28         Amount  \\\n",
       "count  2.848070e+05  2.848070e+05  2.848070e+05  2.848070e+05  284807.000000   \n",
       "mean   1.453003e-15  1.699104e-15 -3.660161e-16 -1.206049e-16      88.349619   \n",
       "std    5.212781e-01  4.822270e-01  4.036325e-01  3.300833e-01     250.120109   \n",
       "min   -1.029540e+01 -2.604551e+00 -2.256568e+01 -1.543008e+01       0.000000   \n",
       "25%   -3.171451e-01 -3.269839e-01 -7.083953e-02 -5.295979e-02       5.600000   \n",
       "50%    1.659350e-02 -5.213911e-02  1.342146e-03  1.124383e-02      22.000000   \n",
       "75%    3.507156e-01  2.409522e-01  9.104512e-02  7.827995e-02      77.165000   \n",
       "max    7.519589e+00  3.517346e+00  3.161220e+01  3.384781e+01   25691.160000   \n",
       "\n",
       "               Class  \n",
       "count  284807.000000  \n",
       "mean        0.001727  \n",
       "std         0.041527  \n",
       "min         0.000000  \n",
       "25%         0.000000  \n",
       "50%         0.000000  \n",
       "75%         0.000000  \n",
       "max         1.000000  \n",
       "\n",
       "[8 rows x 31 columns]"
      ]
     },
     "execution_count": 8,
     "metadata": {},
     "output_type": "execute_result"
    }
   ],
   "source": [
    "df.describe()"
   ]
  },
  {
   "cell_type": "markdown",
   "metadata": {},
   "source": [
    "* This function returns the count, mean, standard deviation maximum values and percentile from our dataset/data of each individual data."
   ]
  },
  {
   "cell_type": "markdown",
   "metadata": {},
   "source": [
    "Lets explore data in pie chart"
   ]
  },
  {
   "cell_type": "code",
   "execution_count": 9,
   "metadata": {},
   "outputs": [
    {
     "data": {
      "image/png": "[encoded data removed]",
      "text/plain": [
       "<Figure size 432x288 with 1 Axes>"
      ]
     },
     "metadata": {},
     "output_type": "display_data"
    }
   ],
   "source": [
    "#visualizing in pie chart\n",
    "labels = 'Not Fraud', 'Fraud'\n",
    "explode = (0, 0.2)\n",
    "\n",
    "fig1, ax1 = plt.subplots()\n",
    "ax1.pie(df['Class'].value_counts(), explode=explode, labels=labels, autopct='%1.1f%%',\n",
    "        shadow=True, startangle=60)\n",
    "ax1.axis('equal')\n",
    "plt.show()"
   ]
  },
  {
   "cell_type": "markdown",
   "metadata": {},
   "source": [
    "From here we observe that the data is highly imbalanced.We will manage this afterwards"
   ]
  },
  {
   "cell_type": "code",
   "execution_count": 10,
   "metadata": {},
   "outputs": [
    {
     "data": {
      "text/plain": [
       " 2.055797    77\n",
       " 1.245674    77\n",
       " 2.053311    62\n",
       " 1.302378    60\n",
       " 2.040211    53\n",
       "             ..\n",
       "-0.069327     1\n",
       "-1.619420     1\n",
       " 1.174923     1\n",
       " 2.157306     1\n",
       " 2.287784     1\n",
       "Name: V1, Length: 275663, dtype: int64"
      ]
     },
     "execution_count": 10,
     "metadata": {},
     "output_type": "execute_result"
    }
   ],
   "source": [
    "# Class Frequency according to time\n",
    "df.V1.value_counts()"
   ]
  },
  {
   "cell_type": "code",
   "execution_count": 11,
   "metadata": {},
   "outputs": [
    {
     "data": {
      "text/html": [
       "<div>\n",
       "<style scoped>\n",
       "    .dataframe tbody tr th:only-of-type {\n",
       "        vertical-align: middle;\n",
       "    }\n",
       "\n",
       "    .dataframe tbody tr th {\n",
       "        vertical-align: top;\n",
       "    }\n",
       "\n",
       "    .dataframe thead th {\n",
       "        text-align: right;\n",
       "    }\n",
       "</style>\n",
       "<table border=\"1\" class=\"dataframe\">\n",
       "  <thead>\n",
       "    <tr style=\"text-align: right;\">\n",
       "      <th>Class</th>\n",
       "      <th>0</th>\n",
       "      <th>1</th>\n",
       "    </tr>\n",
       "    <tr>\n",
       "      <th>V1</th>\n",
       "      <th></th>\n",
       "      <th></th>\n",
       "    </tr>\n",
       "  </thead>\n",
       "  <tbody>\n",
       "    <tr>\n",
       "      <th>-56.407510</th>\n",
       "      <td>1</td>\n",
       "      <td>0</td>\n",
       "    </tr>\n",
       "    <tr>\n",
       "      <th>-46.855047</th>\n",
       "      <td>1</td>\n",
       "      <td>0</td>\n",
       "    </tr>\n",
       "    <tr>\n",
       "      <th>-41.928738</th>\n",
       "      <td>1</td>\n",
       "      <td>0</td>\n",
       "    </tr>\n",
       "    <tr>\n",
       "      <th>-40.470142</th>\n",
       "      <td>1</td>\n",
       "      <td>0</td>\n",
       "    </tr>\n",
       "    <tr>\n",
       "      <th>-40.042537</th>\n",
       "      <td>1</td>\n",
       "      <td>0</td>\n",
       "    </tr>\n",
       "    <tr>\n",
       "      <th>...</th>\n",
       "      <td>...</td>\n",
       "      <td>...</td>\n",
       "    </tr>\n",
       "    <tr>\n",
       "      <th>2.430507</th>\n",
       "      <td>1</td>\n",
       "      <td>0</td>\n",
       "    </tr>\n",
       "    <tr>\n",
       "      <th>2.439207</th>\n",
       "      <td>1</td>\n",
       "      <td>0</td>\n",
       "    </tr>\n",
       "    <tr>\n",
       "      <th>2.446505</th>\n",
       "      <td>1</td>\n",
       "      <td>0</td>\n",
       "    </tr>\n",
       "    <tr>\n",
       "      <th>2.451888</th>\n",
       "      <td>1</td>\n",
       "      <td>0</td>\n",
       "    </tr>\n",
       "    <tr>\n",
       "      <th>2.454930</th>\n",
       "      <td>1</td>\n",
       "      <td>0</td>\n",
       "    </tr>\n",
       "  </tbody>\n",
       "</table>\n",
       "<p>275663 rows × 2 columns</p>\n",
       "</div>"
      ],
      "text/plain": [
       "Class       0  1\n",
       "V1              \n",
       "-56.407510  1  0\n",
       "-46.855047  1  0\n",
       "-41.928738  1  0\n",
       "-40.470142  1  0\n",
       "-40.042537  1  0\n",
       "...        .. ..\n",
       " 2.430507   1  0\n",
       " 2.439207   1  0\n",
       " 2.446505   1  0\n",
       " 2.451888   1  0\n",
       " 2.454930   1  0\n",
       "\n",
       "[275663 rows x 2 columns]"
      ]
     },
     "execution_count": 11,
     "metadata": {},
     "output_type": "execute_result"
    }
   ],
   "source": [
    "pd.crosstab(df.V1, df.Class)"
   ]
  },
  {
   "cell_type": "markdown",
   "metadata": {},
   "source": [
    "* From all these informations we can say that the data we got is actually Unbalanced.Usually, An unbalanced target column, meaning some classes have far more samples, can be harder to model than a balanced set.Therefore, we can't feed this type of data into our machine learning model because it cannot recognize the fraudulent data as it is very less compared to the legit data.So, to overcome this we will sample our data which will be done later"
   ]
  },
  {
   "cell_type": "code",
   "execution_count": 12,
   "metadata": {},
   "outputs": [
    {
     "data": {
      "text/plain": [
       "<AxesSubplot:ylabel='Frequency'>"
      ]
     },
     "execution_count": 12,
     "metadata": {},
     "output_type": "execute_result"
    },
    {
     "data": {
      "image/png": "[encoded data removed]",
      "text/plain": [
       "<Figure size 432x288 with 1 Axes>"
      ]
     },
     "metadata": {
      "needs_background": "light"
     },
     "output_type": "display_data"
    }
   ],
   "source": [
    "df.V1.plot.hist()"
   ]
  },
  {
   "cell_type": "code",
   "execution_count": 13,
   "metadata": {},
   "outputs": [
    {
     "data": {
      "text/html": [
       "<div>\n",
       "<style scoped>\n",
       "    .dataframe tbody tr th:only-of-type {\n",
       "        vertical-align: middle;\n",
       "    }\n",
       "\n",
       "    .dataframe tbody tr th {\n",
       "        vertical-align: top;\n",
       "    }\n",
       "\n",
       "    .dataframe thead th {\n",
       "        text-align: right;\n",
       "    }\n",
       "</style>\n",
       "<table border=\"1\" class=\"dataframe\">\n",
       "  <thead>\n",
       "    <tr style=\"text-align: right;\">\n",
       "      <th>Class</th>\n",
       "      <th>0</th>\n",
       "      <th>1</th>\n",
       "    </tr>\n",
       "    <tr>\n",
       "      <th>Amount</th>\n",
       "      <th></th>\n",
       "      <th></th>\n",
       "    </tr>\n",
       "  </thead>\n",
       "  <tbody>\n",
       "    <tr>\n",
       "      <th>0.00</th>\n",
       "      <td>1798</td>\n",
       "      <td>27</td>\n",
       "    </tr>\n",
       "    <tr>\n",
       "      <th>0.01</th>\n",
       "      <td>713</td>\n",
       "      <td>5</td>\n",
       "    </tr>\n",
       "    <tr>\n",
       "      <th>0.02</th>\n",
       "      <td>85</td>\n",
       "      <td>0</td>\n",
       "    </tr>\n",
       "    <tr>\n",
       "      <th>0.03</th>\n",
       "      <td>3</td>\n",
       "      <td>0</td>\n",
       "    </tr>\n",
       "    <tr>\n",
       "      <th>0.04</th>\n",
       "      <td>11</td>\n",
       "      <td>0</td>\n",
       "    </tr>\n",
       "    <tr>\n",
       "      <th>...</th>\n",
       "      <td>...</td>\n",
       "      <td>...</td>\n",
       "    </tr>\n",
       "    <tr>\n",
       "      <th>11898.09</th>\n",
       "      <td>1</td>\n",
       "      <td>0</td>\n",
       "    </tr>\n",
       "    <tr>\n",
       "      <th>12910.93</th>\n",
       "      <td>1</td>\n",
       "      <td>0</td>\n",
       "    </tr>\n",
       "    <tr>\n",
       "      <th>18910.00</th>\n",
       "      <td>1</td>\n",
       "      <td>0</td>\n",
       "    </tr>\n",
       "    <tr>\n",
       "      <th>19656.53</th>\n",
       "      <td>1</td>\n",
       "      <td>0</td>\n",
       "    </tr>\n",
       "    <tr>\n",
       "      <th>25691.16</th>\n",
       "      <td>1</td>\n",
       "      <td>0</td>\n",
       "    </tr>\n",
       "  </tbody>\n",
       "</table>\n",
       "<p>32767 rows × 2 columns</p>\n",
       "</div>"
      ],
      "text/plain": [
       "Class        0   1\n",
       "Amount            \n",
       "0.00      1798  27\n",
       "0.01       713   5\n",
       "0.02        85   0\n",
       "0.03         3   0\n",
       "0.04        11   0\n",
       "...        ...  ..\n",
       "11898.09     1   0\n",
       "12910.93     1   0\n",
       "18910.00     1   0\n",
       "19656.53     1   0\n",
       "25691.16     1   0\n",
       "\n",
       "[32767 rows x 2 columns]"
      ]
     },
     "execution_count": 13,
     "metadata": {},
     "output_type": "execute_result"
    }
   ],
   "source": [
    "#comparing amount with class\n",
    "pd.crosstab(df.Amount, df.Class)"
   ]
  },
  {
   "cell_type": "code",
   "execution_count": 14,
   "metadata": {},
   "outputs": [
    {
     "data": {
      "text/html": [
       "<div>\n",
       "<style scoped>\n",
       "    .dataframe tbody tr th:only-of-type {\n",
       "        vertical-align: middle;\n",
       "    }\n",
       "\n",
       "    .dataframe tbody tr th {\n",
       "        vertical-align: top;\n",
       "    }\n",
       "\n",
       "    .dataframe thead th {\n",
       "        text-align: right;\n",
       "    }\n",
       "</style>\n",
       "<table border=\"1\" class=\"dataframe\">\n",
       "  <thead>\n",
       "    <tr style=\"text-align: right;\">\n",
       "      <th></th>\n",
       "      <th>Time</th>\n",
       "      <th>V1</th>\n",
       "      <th>V2</th>\n",
       "      <th>V3</th>\n",
       "      <th>V4</th>\n",
       "      <th>V5</th>\n",
       "      <th>V6</th>\n",
       "      <th>V7</th>\n",
       "      <th>V8</th>\n",
       "      <th>V9</th>\n",
       "      <th>...</th>\n",
       "      <th>V20</th>\n",
       "      <th>V21</th>\n",
       "      <th>V22</th>\n",
       "      <th>V23</th>\n",
       "      <th>V24</th>\n",
       "      <th>V25</th>\n",
       "      <th>V26</th>\n",
       "      <th>V27</th>\n",
       "      <th>V28</th>\n",
       "      <th>Amount</th>\n",
       "    </tr>\n",
       "    <tr>\n",
       "      <th>Class</th>\n",
       "      <th></th>\n",
       "      <th></th>\n",
       "      <th></th>\n",
       "      <th></th>\n",
       "      <th></th>\n",
       "      <th></th>\n",
       "      <th></th>\n",
       "      <th></th>\n",
       "      <th></th>\n",
       "      <th></th>\n",
       "      <th></th>\n",
       "      <th></th>\n",
       "      <th></th>\n",
       "      <th></th>\n",
       "      <th></th>\n",
       "      <th></th>\n",
       "      <th></th>\n",
       "      <th></th>\n",
       "      <th></th>\n",
       "      <th></th>\n",
       "      <th></th>\n",
       "    </tr>\n",
       "  </thead>\n",
       "  <tbody>\n",
       "    <tr>\n",
       "      <th>0</th>\n",
       "      <td>94838.202258</td>\n",
       "      <td>0.008258</td>\n",
       "      <td>-0.006271</td>\n",
       "      <td>0.012171</td>\n",
       "      <td>-0.007860</td>\n",
       "      <td>0.005453</td>\n",
       "      <td>0.002419</td>\n",
       "      <td>0.009637</td>\n",
       "      <td>-0.000987</td>\n",
       "      <td>0.004467</td>\n",
       "      <td>...</td>\n",
       "      <td>-0.000644</td>\n",
       "      <td>-0.001235</td>\n",
       "      <td>-0.000024</td>\n",
       "      <td>0.000070</td>\n",
       "      <td>0.000182</td>\n",
       "      <td>-0.000072</td>\n",
       "      <td>-0.000089</td>\n",
       "      <td>-0.000295</td>\n",
       "      <td>-0.000131</td>\n",
       "      <td>88.291022</td>\n",
       "    </tr>\n",
       "    <tr>\n",
       "      <th>1</th>\n",
       "      <td>80746.806911</td>\n",
       "      <td>-4.771948</td>\n",
       "      <td>3.623778</td>\n",
       "      <td>-7.033281</td>\n",
       "      <td>4.542029</td>\n",
       "      <td>-3.151225</td>\n",
       "      <td>-1.397737</td>\n",
       "      <td>-5.568731</td>\n",
       "      <td>0.570636</td>\n",
       "      <td>-2.581123</td>\n",
       "      <td>...</td>\n",
       "      <td>0.372319</td>\n",
       "      <td>0.713588</td>\n",
       "      <td>0.014049</td>\n",
       "      <td>-0.040308</td>\n",
       "      <td>-0.105130</td>\n",
       "      <td>0.041449</td>\n",
       "      <td>0.051648</td>\n",
       "      <td>0.170575</td>\n",
       "      <td>0.075667</td>\n",
       "      <td>122.211321</td>\n",
       "    </tr>\n",
       "  </tbody>\n",
       "</table>\n",
       "<p>2 rows × 30 columns</p>\n",
       "</div>"
      ],
      "text/plain": [
       "               Time        V1        V2        V3        V4        V5  \\\n",
       "Class                                                                   \n",
       "0      94838.202258  0.008258 -0.006271  0.012171 -0.007860  0.005453   \n",
       "1      80746.806911 -4.771948  3.623778 -7.033281  4.542029 -3.151225   \n",
       "\n",
       "             V6        V7        V8        V9  ...       V20       V21  \\\n",
       "Class                                          ...                       \n",
       "0      0.002419  0.009637 -0.000987  0.004467  ... -0.000644 -0.001235   \n",
       "1     -1.397737 -5.568731  0.570636 -2.581123  ...  0.372319  0.713588   \n",
       "\n",
       "            V22       V23       V24       V25       V26       V27       V28  \\\n",
       "Class                                                                         \n",
       "0     -0.000024  0.000070  0.000182 -0.000072 -0.000089 -0.000295 -0.000131   \n",
       "1      0.014049 -0.040308 -0.105130  0.041449  0.051648  0.170575  0.075667   \n",
       "\n",
       "           Amount  \n",
       "Class              \n",
       "0       88.291022  \n",
       "1      122.211321  \n",
       "\n",
       "[2 rows x 30 columns]"
      ]
     },
     "execution_count": 14,
     "metadata": {},
     "output_type": "execute_result"
    }
   ],
   "source": [
    "# comparing the values for both the transactions\n",
    "df.groupby('Class').mean() #It compares the mean of classes for all columns based on 0 and 1..."
   ]
  },
  {
   "cell_type": "markdown",
   "metadata": {},
   "source": [
    "* In the above cell we can see a wide difference between two transactions and this difference is important to us as this is how our model can predict whether our transacyion is legit or not"
   ]
  },
  {
   "cell_type": "code",
   "execution_count": 15,
   "metadata": {},
   "outputs": [
    {
     "data": {
      "text/plain": [
       "<AxesSubplot:ylabel='Frequency'>"
      ]
     },
     "execution_count": 15,
     "metadata": {},
     "output_type": "execute_result"
    },
    {
     "data": {
      "image/png": "[encoded data removed]",
      "text/plain": [
       "<Figure size 432x288 with 1 Axes>"
      ]
     },
     "metadata": {
      "needs_background": "light"
     },
     "output_type": "display_data"
    }
   ],
   "source": [
    "df.Time.plot.hist()"
   ]
  },
  {
   "cell_type": "code",
   "execution_count": 16,
   "metadata": {},
   "outputs": [
    {
     "data": {
      "image/png": "[encoded data removed]",
      "text/plain": [
       "<Figure size 432x288 with 1 Axes>"
      ]
     },
     "metadata": {
      "needs_background": "light"
     },
     "output_type": "display_data"
    }
   ],
   "source": [
    "#plotting the scatterplot values for fraud transaction\n",
    "plt.scatter(df.Time[df.Class == 1], \n",
    "            df.Amount[df.Class == 1], \n",
    "            marker = '^',\n",
    "            c = \"salmon\")\n",
    "plt.xlabel('Time')\n",
    "plt.ylabel('Amount');"
   ]
  },
  {
   "cell_type": "code",
   "execution_count": 17,
   "metadata": {},
   "outputs": [
    {
     "data": {
      "image/png": "[encoded data removed]",
      "text/plain": [
       "<Figure size 432x288 with 1 Axes>"
      ]
     },
     "metadata": {
      "needs_background": "light"
     },
     "output_type": "display_data"
    }
   ],
   "source": [
    "#plotting the scatterplot values for legit transaction\n",
    "plt.scatter(df.Time[df.Class==0], \n",
    "            df.Amount[df.Class==0],\n",
    "            marker = '>',\n",
    "            c=\"lightgreen\")\n",
    "plt.xlabel('Time')\n",
    "plt.ylabel('Amount');\n"
   ]
  },
  {
   "cell_type": "code",
   "execution_count": 18,
   "metadata": {},
   "outputs": [
    {
     "data": {
      "text/plain": [
       "((284315, 31), (492, 31))"
      ]
     },
     "execution_count": 18,
     "metadata": {},
     "output_type": "execute_result"
    }
   ],
   "source": [
    "# Separarting the data for separate class analysis\n",
    "normal = df[df.Class == 0]\n",
    "fraud = df[df.Class == 1]\n",
    "\n",
    "#lets look at the shape of the above data\n",
    "normal.shape, fraud.shape"
   ]
  },
  {
   "cell_type": "code",
   "execution_count": 19,
   "metadata": {},
   "outputs": [
    {
     "data": {
      "text/plain": [
       "count    284315.000000\n",
       "mean         88.291022\n",
       "std         250.105092\n",
       "min           0.000000\n",
       "25%           5.650000\n",
       "50%          22.000000\n",
       "75%          77.050000\n",
       "max       25691.160000\n",
       "Name: Amount, dtype: float64"
      ]
     },
     "execution_count": 19,
     "metadata": {},
     "output_type": "execute_result"
    }
   ],
   "source": [
    "# statistical measures of the data separately \n",
    "normal.Amount.describe()"
   ]
  },
  {
   "cell_type": "code",
   "execution_count": 20,
   "metadata": {},
   "outputs": [
    {
     "data": {
      "text/plain": [
       "count     492.000000\n",
       "mean      122.211321\n",
       "std       256.683288\n",
       "min         0.000000\n",
       "25%         1.000000\n",
       "50%         9.250000\n",
       "75%       105.890000\n",
       "max      2125.870000\n",
       "Name: Amount, dtype: float64"
      ]
     },
     "execution_count": 20,
     "metadata": {},
     "output_type": "execute_result"
    }
   ],
   "source": [
    "fraud.Amount.describe()"
   ]
  },
  {
   "cell_type": "code",
   "execution_count": 21,
   "metadata": {},
   "outputs": [
    {
     "data": {
      "image/png": "[encoded data removed]",
      "text/plain": [
       "<Figure size 864x288 with 2 Axes>"
      ]
     },
     "metadata": {
      "needs_background": "light"
     },
     "output_type": "display_data"
    }
   ],
   "source": [
    "# now checking Time value in case of Fraud and Normal Transaction compared according to Number of transactions.\n",
    "fig, (axis_1, axis_2) = plt.subplots(2, 1, sharex=True, figsize=(12,4))\n",
    "bins = 50\n",
    "\n",
    "axis_1.hist(fraud.Time, bins = bins)\n",
    "axis_1.set_title('Fraud')\n",
    "\n",
    "axis_2.hist(normal.Time, bins = bins)\n",
    "axis_2.set_title('Normal (Non-Fraud)')\n",
    "\n",
    "plt.xlabel('Time (in Seconds)')\n",
    "plt.ylabel('Number of Transactions')\n",
    "plt.show()\n",
    "# We can see that in both cases , feature time looks similar. but if we look carefully, we can see that Normal \n",
    "# transactions are kind of uniformly distributed whereas the shape of Fraud transaction is not"
   ]
  },
  {
   "cell_type": "code",
   "execution_count": 22,
   "metadata": {},
   "outputs": [
    {
     "data": {
      "image/png": "[encoded data removed]",
      "text/plain": [
       "<Figure size 864x288 with 2 Axes>"
      ]
     },
     "metadata": {
      "needs_background": "light"
     },
     "output_type": "display_data"
    }
   ],
   "source": [
    "# now checking Amount in case of Fraud and Normal Transaction compared according to Number of transactions.\n",
    "\n",
    "fig, (axis_1, axis_2) = plt.subplots(2, 1, sharex=True, figsize=(12,4))\n",
    "\n",
    "bins = 30\n",
    "\n",
    "axis_1.hist(fraud.Amount[df.Class == 1], bins = bins)\n",
    "axis_1.set_title('Fraud')\n",
    "\n",
    "axis_2.hist(normal.Amount[df.Class == 0], bins = bins)\n",
    "axis_2.set_title('Normal (Non-Fraud)')\n",
    "\n",
    "plt.xlabel('Amount')\n",
    "plt.ylabel('Number of Transactions')\n",
    "plt.yscale(\"log\")\n",
    "plt.show()\n",
    "\n",
    "# we can see here that fraud transactions are of smaller amount. but this cant be used solely because normal transactions \n",
    "# too have a lot of transactions of smaller amount. so this kind of helps in a sense that we can say that if the amount\n",
    "# is not large then its 'probably' not a fraud transaction, but obviously, fraud and normal transactions cant be \n",
    "# distinguished only according to amount."
   ]
  },
  {
   "cell_type": "markdown",
   "metadata": {},
   "source": [
    "## Correlation matrix"
   ]
  },
  {
   "cell_type": "code",
   "execution_count": 23,
   "metadata": {},
   "outputs": [
    {
     "data": {
      "image/png": "[encoded data removed]",
      "text/plain": [
       "<Figure size 2880x720 with 2 Axes>"
      ]
     },
     "metadata": {
      "needs_background": "light"
     },
     "output_type": "display_data"
    }
   ],
   "source": [
    "# checking the correlation matrix of both combined fraud and normal transactions\n",
    "plt.figure(figsize = (40,10))\n",
    "sns.heatmap(df.corr(), annot = True, cmap=\"tab20c\")\n",
    "plt.show()"
   ]
  },
  {
   "cell_type": "markdown",
   "metadata": {},
   "source": [
    "Now, Enough of Exploratory data analysis(EDA) we have looked into few curves and figured out how all the data columns are related to each other and we have also observed which features contributes the most for the right values of the classes through confusion matrix"
   ]
  },
  {
   "cell_type": "markdown",
   "metadata": {},
   "source": [
    "Now we will sample our data, As already discussed above the data which we got is actually imbalanced dataset(as there is very less fraudulent data compared to the legit data , and for this reason our model cannot recognise the fraudulent data), so to optimise/overcome this we will sample(Undersampling) our data.."
   ]
  },
  {
   "cell_type": "markdown",
   "metadata": {},
   "source": [
    "we can undersample our data by building a dataset which contains equal ditributions of Normal and fraudulent transactions that means we will take any random data from the normal transaction(which contains same rows as fraud transactions) and then we will join/concatenate the datas and then perform train test split and other works on it.."
   ]
  },
  {
   "cell_type": "markdown",
   "metadata": {},
   "source": [
    "### Undersampling the data"
   ]
  },
  {
   "cell_type": "code",
   "execution_count": 24,
   "metadata": {},
   "outputs": [
    {
     "data": {
      "text/plain": [
       "(492, 31)"
      ]
     },
     "execution_count": 24,
     "metadata": {},
     "output_type": "execute_result"
    }
   ],
   "source": [
    "#Lets check our fraud data\n",
    "fraud.shape"
   ]
  },
  {
   "cell_type": "markdown",
   "metadata": {},
   "source": [
    "so we need 492 random data from the normal transaction set as well.."
   ]
  },
  {
   "cell_type": "code",
   "execution_count": 25,
   "metadata": {},
   "outputs": [],
   "source": [
    "#Sampling our random data from normal transaction\n",
    "normal_sample = normal.sample(n=492) "
   ]
  },
  {
   "cell_type": "code",
   "execution_count": 26,
   "metadata": {},
   "outputs": [],
   "source": [
    "# so our data is sampled now so lets concatenate our data\n",
    "new_data = pd.concat([normal_sample, fraud], axis=0)"
   ]
  },
  {
   "cell_type": "code",
   "execution_count": 27,
   "metadata": {},
   "outputs": [
    {
     "data": {
      "text/html": [
       "<div>\n",
       "<style scoped>\n",
       "    .dataframe tbody tr th:only-of-type {\n",
       "        vertical-align: middle;\n",
       "    }\n",
       "\n",
       "    .dataframe tbody tr th {\n",
       "        vertical-align: top;\n",
       "    }\n",
       "\n",
       "    .dataframe thead th {\n",
       "        text-align: right;\n",
       "    }\n",
       "</style>\n",
       "<table border=\"1\" class=\"dataframe\">\n",
       "  <thead>\n",
       "    <tr style=\"text-align: right;\">\n",
       "      <th></th>\n",
       "      <th>Time</th>\n",
       "      <th>V1</th>\n",
       "      <th>V2</th>\n",
       "      <th>V3</th>\n",
       "      <th>V4</th>\n",
       "      <th>V5</th>\n",
       "      <th>V6</th>\n",
       "      <th>V7</th>\n",
       "      <th>V8</th>\n",
       "      <th>V9</th>\n",
       "      <th>...</th>\n",
       "      <th>V21</th>\n",
       "      <th>V22</th>\n",
       "      <th>V23</th>\n",
       "      <th>V24</th>\n",
       "      <th>V25</th>\n",
       "      <th>V26</th>\n",
       "      <th>V27</th>\n",
       "      <th>V28</th>\n",
       "      <th>Amount</th>\n",
       "      <th>Class</th>\n",
       "    </tr>\n",
       "  </thead>\n",
       "  <tbody>\n",
       "    <tr>\n",
       "      <th>158037</th>\n",
       "      <td>110829.0</td>\n",
       "      <td>2.127946</td>\n",
       "      <td>0.179753</td>\n",
       "      <td>-2.189511</td>\n",
       "      <td>0.125166</td>\n",
       "      <td>0.835948</td>\n",
       "      <td>-1.246992</td>\n",
       "      <td>0.681395</td>\n",
       "      <td>-0.595654</td>\n",
       "      <td>1.498708</td>\n",
       "      <td>...</td>\n",
       "      <td>-0.012414</td>\n",
       "      <td>0.283045</td>\n",
       "      <td>-0.033538</td>\n",
       "      <td>0.572355</td>\n",
       "      <td>0.453356</td>\n",
       "      <td>0.176771</td>\n",
       "      <td>-0.121577</td>\n",
       "      <td>-0.077481</td>\n",
       "      <td>20.37</td>\n",
       "      <td>0</td>\n",
       "    </tr>\n",
       "    <tr>\n",
       "      <th>246632</th>\n",
       "      <td>153252.0</td>\n",
       "      <td>-0.520715</td>\n",
       "      <td>-0.177780</td>\n",
       "      <td>0.544353</td>\n",
       "      <td>-0.618474</td>\n",
       "      <td>0.537042</td>\n",
       "      <td>-0.965691</td>\n",
       "      <td>0.714617</td>\n",
       "      <td>-0.057018</td>\n",
       "      <td>0.474255</td>\n",
       "      <td>...</td>\n",
       "      <td>-0.069440</td>\n",
       "      <td>-0.367536</td>\n",
       "      <td>0.088954</td>\n",
       "      <td>-0.201488</td>\n",
       "      <td>0.215760</td>\n",
       "      <td>-0.068404</td>\n",
       "      <td>-0.075772</td>\n",
       "      <td>-0.019904</td>\n",
       "      <td>80.00</td>\n",
       "      <td>0</td>\n",
       "    </tr>\n",
       "    <tr>\n",
       "      <th>75905</th>\n",
       "      <td>56302.0</td>\n",
       "      <td>1.151128</td>\n",
       "      <td>-0.082384</td>\n",
       "      <td>1.270232</td>\n",
       "      <td>1.350025</td>\n",
       "      <td>-1.043314</td>\n",
       "      <td>-0.216287</td>\n",
       "      <td>-0.605943</td>\n",
       "      <td>0.129997</td>\n",
       "      <td>0.995549</td>\n",
       "      <td>...</td>\n",
       "      <td>-0.069918</td>\n",
       "      <td>-0.029885</td>\n",
       "      <td>0.003545</td>\n",
       "      <td>0.377232</td>\n",
       "      <td>0.391446</td>\n",
       "      <td>-0.407028</td>\n",
       "      <td>0.067863</td>\n",
       "      <td>0.036976</td>\n",
       "      <td>9.99</td>\n",
       "      <td>0</td>\n",
       "    </tr>\n",
       "    <tr>\n",
       "      <th>236346</th>\n",
       "      <td>148770.0</td>\n",
       "      <td>1.993451</td>\n",
       "      <td>-0.527785</td>\n",
       "      <td>-0.277094</td>\n",
       "      <td>0.483470</td>\n",
       "      <td>-0.892861</td>\n",
       "      <td>-0.547632</td>\n",
       "      <td>-0.719819</td>\n",
       "      <td>0.004556</td>\n",
       "      <td>1.426141</td>\n",
       "      <td>...</td>\n",
       "      <td>0.141505</td>\n",
       "      <td>0.582788</td>\n",
       "      <td>0.156875</td>\n",
       "      <td>-0.079033</td>\n",
       "      <td>-0.296208</td>\n",
       "      <td>0.578742</td>\n",
       "      <td>-0.026094</td>\n",
       "      <td>-0.049971</td>\n",
       "      <td>11.50</td>\n",
       "      <td>0</td>\n",
       "    </tr>\n",
       "    <tr>\n",
       "      <th>259269</th>\n",
       "      <td>159039.0</td>\n",
       "      <td>1.982780</td>\n",
       "      <td>-0.252463</td>\n",
       "      <td>-0.724556</td>\n",
       "      <td>0.137818</td>\n",
       "      <td>-0.471947</td>\n",
       "      <td>-0.969843</td>\n",
       "      <td>-0.191855</td>\n",
       "      <td>-0.056126</td>\n",
       "      <td>0.467028</td>\n",
       "      <td>...</td>\n",
       "      <td>-0.410893</td>\n",
       "      <td>-1.313772</td>\n",
       "      <td>0.561030</td>\n",
       "      <td>-0.008573</td>\n",
       "      <td>-0.811124</td>\n",
       "      <td>-0.001203</td>\n",
       "      <td>-0.081215</td>\n",
       "      <td>-0.058634</td>\n",
       "      <td>12.06</td>\n",
       "      <td>0</td>\n",
       "    </tr>\n",
       "    <tr>\n",
       "      <th>...</th>\n",
       "      <td>...</td>\n",
       "      <td>...</td>\n",
       "      <td>...</td>\n",
       "      <td>...</td>\n",
       "      <td>...</td>\n",
       "      <td>...</td>\n",
       "      <td>...</td>\n",
       "      <td>...</td>\n",
       "      <td>...</td>\n",
       "      <td>...</td>\n",
       "      <td>...</td>\n",
       "      <td>...</td>\n",
       "      <td>...</td>\n",
       "      <td>...</td>\n",
       "      <td>...</td>\n",
       "      <td>...</td>\n",
       "      <td>...</td>\n",
       "      <td>...</td>\n",
       "      <td>...</td>\n",
       "      <td>...</td>\n",
       "      <td>...</td>\n",
       "    </tr>\n",
       "    <tr>\n",
       "      <th>279863</th>\n",
       "      <td>169142.0</td>\n",
       "      <td>-1.927883</td>\n",
       "      <td>1.125653</td>\n",
       "      <td>-4.518331</td>\n",
       "      <td>1.749293</td>\n",
       "      <td>-1.566487</td>\n",
       "      <td>-2.010494</td>\n",
       "      <td>-0.882850</td>\n",
       "      <td>0.697211</td>\n",
       "      <td>-2.064945</td>\n",
       "      <td>...</td>\n",
       "      <td>0.778584</td>\n",
       "      <td>-0.319189</td>\n",
       "      <td>0.639419</td>\n",
       "      <td>-0.294885</td>\n",
       "      <td>0.537503</td>\n",
       "      <td>0.788395</td>\n",
       "      <td>0.292680</td>\n",
       "      <td>0.147968</td>\n",
       "      <td>390.00</td>\n",
       "      <td>1</td>\n",
       "    </tr>\n",
       "    <tr>\n",
       "      <th>280143</th>\n",
       "      <td>169347.0</td>\n",
       "      <td>1.378559</td>\n",
       "      <td>1.289381</td>\n",
       "      <td>-5.004247</td>\n",
       "      <td>1.411850</td>\n",
       "      <td>0.442581</td>\n",
       "      <td>-1.326536</td>\n",
       "      <td>-1.413170</td>\n",
       "      <td>0.248525</td>\n",
       "      <td>-1.127396</td>\n",
       "      <td>...</td>\n",
       "      <td>0.370612</td>\n",
       "      <td>0.028234</td>\n",
       "      <td>-0.145640</td>\n",
       "      <td>-0.081049</td>\n",
       "      <td>0.521875</td>\n",
       "      <td>0.739467</td>\n",
       "      <td>0.389152</td>\n",
       "      <td>0.186637</td>\n",
       "      <td>0.76</td>\n",
       "      <td>1</td>\n",
       "    </tr>\n",
       "    <tr>\n",
       "      <th>280149</th>\n",
       "      <td>169351.0</td>\n",
       "      <td>-0.676143</td>\n",
       "      <td>1.126366</td>\n",
       "      <td>-2.213700</td>\n",
       "      <td>0.468308</td>\n",
       "      <td>-1.120541</td>\n",
       "      <td>-0.003346</td>\n",
       "      <td>-2.234739</td>\n",
       "      <td>1.210158</td>\n",
       "      <td>-0.652250</td>\n",
       "      <td>...</td>\n",
       "      <td>0.751826</td>\n",
       "      <td>0.834108</td>\n",
       "      <td>0.190944</td>\n",
       "      <td>0.032070</td>\n",
       "      <td>-0.739695</td>\n",
       "      <td>0.471111</td>\n",
       "      <td>0.385107</td>\n",
       "      <td>0.194361</td>\n",
       "      <td>77.89</td>\n",
       "      <td>1</td>\n",
       "    </tr>\n",
       "    <tr>\n",
       "      <th>281144</th>\n",
       "      <td>169966.0</td>\n",
       "      <td>-3.113832</td>\n",
       "      <td>0.585864</td>\n",
       "      <td>-5.399730</td>\n",
       "      <td>1.817092</td>\n",
       "      <td>-0.840618</td>\n",
       "      <td>-2.943548</td>\n",
       "      <td>-2.208002</td>\n",
       "      <td>1.058733</td>\n",
       "      <td>-1.632333</td>\n",
       "      <td>...</td>\n",
       "      <td>0.583276</td>\n",
       "      <td>-0.269209</td>\n",
       "      <td>-0.456108</td>\n",
       "      <td>-0.183659</td>\n",
       "      <td>-0.328168</td>\n",
       "      <td>0.606116</td>\n",
       "      <td>0.884876</td>\n",
       "      <td>-0.253700</td>\n",
       "      <td>245.00</td>\n",
       "      <td>1</td>\n",
       "    </tr>\n",
       "    <tr>\n",
       "      <th>281674</th>\n",
       "      <td>170348.0</td>\n",
       "      <td>1.991976</td>\n",
       "      <td>0.158476</td>\n",
       "      <td>-2.583441</td>\n",
       "      <td>0.408670</td>\n",
       "      <td>1.151147</td>\n",
       "      <td>-0.096695</td>\n",
       "      <td>0.223050</td>\n",
       "      <td>-0.068384</td>\n",
       "      <td>0.577829</td>\n",
       "      <td>...</td>\n",
       "      <td>-0.164350</td>\n",
       "      <td>-0.295135</td>\n",
       "      <td>-0.072173</td>\n",
       "      <td>-0.450261</td>\n",
       "      <td>0.313267</td>\n",
       "      <td>-0.289617</td>\n",
       "      <td>0.002988</td>\n",
       "      <td>-0.015309</td>\n",
       "      <td>42.53</td>\n",
       "      <td>1</td>\n",
       "    </tr>\n",
       "  </tbody>\n",
       "</table>\n",
       "<p>984 rows × 31 columns</p>\n",
       "</div>"
      ],
      "text/plain": [
       "            Time        V1        V2        V3        V4        V5        V6  \\\n",
       "158037  110829.0  2.127946  0.179753 -2.189511  0.125166  0.835948 -1.246992   \n",
       "246632  153252.0 -0.520715 -0.177780  0.544353 -0.618474  0.537042 -0.965691   \n",
       "75905    56302.0  1.151128 -0.082384  1.270232  1.350025 -1.043314 -0.216287   \n",
       "236346  148770.0  1.993451 -0.527785 -0.277094  0.483470 -0.892861 -0.547632   \n",
       "259269  159039.0  1.982780 -0.252463 -0.724556  0.137818 -0.471947 -0.969843   \n",
       "...          ...       ...       ...       ...       ...       ...       ...   \n",
       "279863  169142.0 -1.927883  1.125653 -4.518331  1.749293 -1.566487 -2.010494   \n",
       "280143  169347.0  1.378559  1.289381 -5.004247  1.411850  0.442581 -1.326536   \n",
       "280149  169351.0 -0.676143  1.126366 -2.213700  0.468308 -1.120541 -0.003346   \n",
       "281144  169966.0 -3.113832  0.585864 -5.399730  1.817092 -0.840618 -2.943548   \n",
       "281674  170348.0  1.991976  0.158476 -2.583441  0.408670  1.151147 -0.096695   \n",
       "\n",
       "              V7        V8        V9  ...       V21       V22       V23  \\\n",
       "158037  0.681395 -0.595654  1.498708  ... -0.012414  0.283045 -0.033538   \n",
       "246632  0.714617 -0.057018  0.474255  ... -0.069440 -0.367536  0.088954   \n",
       "75905  -0.605943  0.129997  0.995549  ... -0.069918 -0.029885  0.003545   \n",
       "236346 -0.719819  0.004556  1.426141  ...  0.141505  0.582788  0.156875   \n",
       "259269 -0.191855 -0.056126  0.467028  ... -0.410893 -1.313772  0.561030   \n",
       "...          ...       ...       ...  ...       ...       ...       ...   \n",
       "279863 -0.882850  0.697211 -2.064945  ...  0.778584 -0.319189  0.639419   \n",
       "280143 -1.413170  0.248525 -1.127396  ...  0.370612  0.028234 -0.145640   \n",
       "280149 -2.234739  1.210158 -0.652250  ...  0.751826  0.834108  0.190944   \n",
       "281144 -2.208002  1.058733 -1.632333  ...  0.583276 -0.269209 -0.456108   \n",
       "281674  0.223050 -0.068384  0.577829  ... -0.164350 -0.295135 -0.072173   \n",
       "\n",
       "             V24       V25       V26       V27       V28  Amount  Class  \n",
       "158037  0.572355  0.453356  0.176771 -0.121577 -0.077481   20.37      0  \n",
       "246632 -0.201488  0.215760 -0.068404 -0.075772 -0.019904   80.00      0  \n",
       "75905   0.377232  0.391446 -0.407028  0.067863  0.036976    9.99      0  \n",
       "236346 -0.079033 -0.296208  0.578742 -0.026094 -0.049971   11.50      0  \n",
       "259269 -0.008573 -0.811124 -0.001203 -0.081215 -0.058634   12.06      0  \n",
       "...          ...       ...       ...       ...       ...     ...    ...  \n",
       "279863 -0.294885  0.537503  0.788395  0.292680  0.147968  390.00      1  \n",
       "280143 -0.081049  0.521875  0.739467  0.389152  0.186637    0.76      1  \n",
       "280149  0.032070 -0.739695  0.471111  0.385107  0.194361   77.89      1  \n",
       "281144 -0.183659 -0.328168  0.606116  0.884876 -0.253700  245.00      1  \n",
       "281674 -0.450261  0.313267 -0.289617  0.002988 -0.015309   42.53      1  \n",
       "\n",
       "[984 rows x 31 columns]"
      ]
     },
     "execution_count": 27,
     "metadata": {},
     "output_type": "execute_result"
    }
   ],
   "source": [
    "#lets check our new data\n",
    "new_data"
   ]
  },
  {
   "cell_type": "code",
   "execution_count": 28,
   "metadata": {},
   "outputs": [
    {
     "data": {
      "text/plain": [
       "1    492\n",
       "0    492\n",
       "Name: Class, dtype: int64"
      ]
     },
     "execution_count": 28,
     "metadata": {},
     "output_type": "execute_result"
    }
   ],
   "source": [
    "# lets check the value counts of 0 and 1 whether its equally sampled or not\n",
    "new_data.Class.value_counts()"
   ]
  },
  {
   "cell_type": "markdown",
   "metadata": {},
   "source": [
    "Now we can see that our data is sampled equally i.e(1 -> 492, 0 -> 492) now, what we do is we will split our data into training and testing split so that we can train our data in training split and test our data in testing split...."
   ]
  },
  {
   "cell_type": "markdown",
   "metadata": {},
   "source": [
    "### Splitting the data into training and testing split"
   ]
  },
  {
   "cell_type": "markdown",
   "metadata": {},
   "source": [
    "We're trying to predict our Class variable using all of the other variables.\n",
    "\n",
    "To do this, we'll split the Class variable from the rest."
   ]
  },
  {
   "cell_type": "code",
   "execution_count": 29,
   "metadata": {},
   "outputs": [
    {
     "data": {
      "text/html": [
       "<div>\n",
       "<style scoped>\n",
       "    .dataframe tbody tr th:only-of-type {\n",
       "        vertical-align: middle;\n",
       "    }\n",
       "\n",
       "    .dataframe tbody tr th {\n",
       "        vertical-align: top;\n",
       "    }\n",
       "\n",
       "    .dataframe thead th {\n",
       "        text-align: right;\n",
       "    }\n",
       "</style>\n",
       "<table border=\"1\" class=\"dataframe\">\n",
       "  <thead>\n",
       "    <tr style=\"text-align: right;\">\n",
       "      <th></th>\n",
       "      <th>Time</th>\n",
       "      <th>V1</th>\n",
       "      <th>V2</th>\n",
       "      <th>V3</th>\n",
       "      <th>V4</th>\n",
       "      <th>V5</th>\n",
       "      <th>V6</th>\n",
       "      <th>V7</th>\n",
       "      <th>V8</th>\n",
       "      <th>V9</th>\n",
       "      <th>...</th>\n",
       "      <th>V21</th>\n",
       "      <th>V22</th>\n",
       "      <th>V23</th>\n",
       "      <th>V24</th>\n",
       "      <th>V25</th>\n",
       "      <th>V26</th>\n",
       "      <th>V27</th>\n",
       "      <th>V28</th>\n",
       "      <th>Amount</th>\n",
       "      <th>Class</th>\n",
       "    </tr>\n",
       "  </thead>\n",
       "  <tbody>\n",
       "    <tr>\n",
       "      <th>158037</th>\n",
       "      <td>110829.0</td>\n",
       "      <td>2.127946</td>\n",
       "      <td>0.179753</td>\n",
       "      <td>-2.189511</td>\n",
       "      <td>0.125166</td>\n",
       "      <td>0.835948</td>\n",
       "      <td>-1.246992</td>\n",
       "      <td>0.681395</td>\n",
       "      <td>-0.595654</td>\n",
       "      <td>1.498708</td>\n",
       "      <td>...</td>\n",
       "      <td>-0.012414</td>\n",
       "      <td>0.283045</td>\n",
       "      <td>-0.033538</td>\n",
       "      <td>0.572355</td>\n",
       "      <td>0.453356</td>\n",
       "      <td>0.176771</td>\n",
       "      <td>-0.121577</td>\n",
       "      <td>-0.077481</td>\n",
       "      <td>20.37</td>\n",
       "      <td>0</td>\n",
       "    </tr>\n",
       "    <tr>\n",
       "      <th>246632</th>\n",
       "      <td>153252.0</td>\n",
       "      <td>-0.520715</td>\n",
       "      <td>-0.177780</td>\n",
       "      <td>0.544353</td>\n",
       "      <td>-0.618474</td>\n",
       "      <td>0.537042</td>\n",
       "      <td>-0.965691</td>\n",
       "      <td>0.714617</td>\n",
       "      <td>-0.057018</td>\n",
       "      <td>0.474255</td>\n",
       "      <td>...</td>\n",
       "      <td>-0.069440</td>\n",
       "      <td>-0.367536</td>\n",
       "      <td>0.088954</td>\n",
       "      <td>-0.201488</td>\n",
       "      <td>0.215760</td>\n",
       "      <td>-0.068404</td>\n",
       "      <td>-0.075772</td>\n",
       "      <td>-0.019904</td>\n",
       "      <td>80.00</td>\n",
       "      <td>0</td>\n",
       "    </tr>\n",
       "    <tr>\n",
       "      <th>75905</th>\n",
       "      <td>56302.0</td>\n",
       "      <td>1.151128</td>\n",
       "      <td>-0.082384</td>\n",
       "      <td>1.270232</td>\n",
       "      <td>1.350025</td>\n",
       "      <td>-1.043314</td>\n",
       "      <td>-0.216287</td>\n",
       "      <td>-0.605943</td>\n",
       "      <td>0.129997</td>\n",
       "      <td>0.995549</td>\n",
       "      <td>...</td>\n",
       "      <td>-0.069918</td>\n",
       "      <td>-0.029885</td>\n",
       "      <td>0.003545</td>\n",
       "      <td>0.377232</td>\n",
       "      <td>0.391446</td>\n",
       "      <td>-0.407028</td>\n",
       "      <td>0.067863</td>\n",
       "      <td>0.036976</td>\n",
       "      <td>9.99</td>\n",
       "      <td>0</td>\n",
       "    </tr>\n",
       "    <tr>\n",
       "      <th>236346</th>\n",
       "      <td>148770.0</td>\n",
       "      <td>1.993451</td>\n",
       "      <td>-0.527785</td>\n",
       "      <td>-0.277094</td>\n",
       "      <td>0.483470</td>\n",
       "      <td>-0.892861</td>\n",
       "      <td>-0.547632</td>\n",
       "      <td>-0.719819</td>\n",
       "      <td>0.004556</td>\n",
       "      <td>1.426141</td>\n",
       "      <td>...</td>\n",
       "      <td>0.141505</td>\n",
       "      <td>0.582788</td>\n",
       "      <td>0.156875</td>\n",
       "      <td>-0.079033</td>\n",
       "      <td>-0.296208</td>\n",
       "      <td>0.578742</td>\n",
       "      <td>-0.026094</td>\n",
       "      <td>-0.049971</td>\n",
       "      <td>11.50</td>\n",
       "      <td>0</td>\n",
       "    </tr>\n",
       "    <tr>\n",
       "      <th>259269</th>\n",
       "      <td>159039.0</td>\n",
       "      <td>1.982780</td>\n",
       "      <td>-0.252463</td>\n",
       "      <td>-0.724556</td>\n",
       "      <td>0.137818</td>\n",
       "      <td>-0.471947</td>\n",
       "      <td>-0.969843</td>\n",
       "      <td>-0.191855</td>\n",
       "      <td>-0.056126</td>\n",
       "      <td>0.467028</td>\n",
       "      <td>...</td>\n",
       "      <td>-0.410893</td>\n",
       "      <td>-1.313772</td>\n",
       "      <td>0.561030</td>\n",
       "      <td>-0.008573</td>\n",
       "      <td>-0.811124</td>\n",
       "      <td>-0.001203</td>\n",
       "      <td>-0.081215</td>\n",
       "      <td>-0.058634</td>\n",
       "      <td>12.06</td>\n",
       "      <td>0</td>\n",
       "    </tr>\n",
       "  </tbody>\n",
       "</table>\n",
       "<p>5 rows × 31 columns</p>\n",
       "</div>"
      ],
      "text/plain": [
       "            Time        V1        V2        V3        V4        V5        V6  \\\n",
       "158037  110829.0  2.127946  0.179753 -2.189511  0.125166  0.835948 -1.246992   \n",
       "246632  153252.0 -0.520715 -0.177780  0.544353 -0.618474  0.537042 -0.965691   \n",
       "75905    56302.0  1.151128 -0.082384  1.270232  1.350025 -1.043314 -0.216287   \n",
       "236346  148770.0  1.993451 -0.527785 -0.277094  0.483470 -0.892861 -0.547632   \n",
       "259269  159039.0  1.982780 -0.252463 -0.724556  0.137818 -0.471947 -0.969843   \n",
       "\n",
       "              V7        V8        V9  ...       V21       V22       V23  \\\n",
       "158037  0.681395 -0.595654  1.498708  ... -0.012414  0.283045 -0.033538   \n",
       "246632  0.714617 -0.057018  0.474255  ... -0.069440 -0.367536  0.088954   \n",
       "75905  -0.605943  0.129997  0.995549  ... -0.069918 -0.029885  0.003545   \n",
       "236346 -0.719819  0.004556  1.426141  ...  0.141505  0.582788  0.156875   \n",
       "259269 -0.191855 -0.056126  0.467028  ... -0.410893 -1.313772  0.561030   \n",
       "\n",
       "             V24       V25       V26       V27       V28  Amount  Class  \n",
       "158037  0.572355  0.453356  0.176771 -0.121577 -0.077481   20.37      0  \n",
       "246632 -0.201488  0.215760 -0.068404 -0.075772 -0.019904   80.00      0  \n",
       "75905   0.377232  0.391446 -0.407028  0.067863  0.036976    9.99      0  \n",
       "236346 -0.079033 -0.296208  0.578742 -0.026094 -0.049971   11.50      0  \n",
       "259269 -0.008573 -0.811124 -0.001203 -0.081215 -0.058634   12.06      0  \n",
       "\n",
       "[5 rows x 31 columns]"
      ]
     },
     "execution_count": 29,
     "metadata": {},
     "output_type": "execute_result"
    }
   ],
   "source": [
    "new_data.head()"
   ]
  },
  {
   "cell_type": "code",
   "execution_count": 30,
   "metadata": {},
   "outputs": [],
   "source": [
    "X = new_data.drop(\"Class\", axis=1) #Everything except Class\n",
    "\n",
    "y = new_data.Class #only Class"
   ]
  },
  {
   "cell_type": "code",
   "execution_count": 31,
   "metadata": {},
   "outputs": [
    {
     "data": {
      "text/html": [
       "<div>\n",
       "<style scoped>\n",
       "    .dataframe tbody tr th:only-of-type {\n",
       "        vertical-align: middle;\n",
       "    }\n",
       "\n",
       "    .dataframe tbody tr th {\n",
       "        vertical-align: top;\n",
       "    }\n",
       "\n",
       "    .dataframe thead th {\n",
       "        text-align: right;\n",
       "    }\n",
       "</style>\n",
       "<table border=\"1\" class=\"dataframe\">\n",
       "  <thead>\n",
       "    <tr style=\"text-align: right;\">\n",
       "      <th></th>\n",
       "      <th>Time</th>\n",
       "      <th>V1</th>\n",
       "      <th>V2</th>\n",
       "      <th>V3</th>\n",
       "      <th>V4</th>\n",
       "      <th>V5</th>\n",
       "      <th>V6</th>\n",
       "      <th>V7</th>\n",
       "      <th>V8</th>\n",
       "      <th>V9</th>\n",
       "      <th>...</th>\n",
       "      <th>V20</th>\n",
       "      <th>V21</th>\n",
       "      <th>V22</th>\n",
       "      <th>V23</th>\n",
       "      <th>V24</th>\n",
       "      <th>V25</th>\n",
       "      <th>V26</th>\n",
       "      <th>V27</th>\n",
       "      <th>V28</th>\n",
       "      <th>Amount</th>\n",
       "    </tr>\n",
       "  </thead>\n",
       "  <tbody>\n",
       "    <tr>\n",
       "      <th>158037</th>\n",
       "      <td>110829.0</td>\n",
       "      <td>2.127946</td>\n",
       "      <td>0.179753</td>\n",
       "      <td>-2.189511</td>\n",
       "      <td>0.125166</td>\n",
       "      <td>0.835948</td>\n",
       "      <td>-1.246992</td>\n",
       "      <td>0.681395</td>\n",
       "      <td>-0.595654</td>\n",
       "      <td>1.498708</td>\n",
       "      <td>...</td>\n",
       "      <td>-0.221842</td>\n",
       "      <td>-0.012414</td>\n",
       "      <td>0.283045</td>\n",
       "      <td>-0.033538</td>\n",
       "      <td>0.572355</td>\n",
       "      <td>0.453356</td>\n",
       "      <td>0.176771</td>\n",
       "      <td>-0.121577</td>\n",
       "      <td>-0.077481</td>\n",
       "      <td>20.37</td>\n",
       "    </tr>\n",
       "    <tr>\n",
       "      <th>246632</th>\n",
       "      <td>153252.0</td>\n",
       "      <td>-0.520715</td>\n",
       "      <td>-0.177780</td>\n",
       "      <td>0.544353</td>\n",
       "      <td>-0.618474</td>\n",
       "      <td>0.537042</td>\n",
       "      <td>-0.965691</td>\n",
       "      <td>0.714617</td>\n",
       "      <td>-0.057018</td>\n",
       "      <td>0.474255</td>\n",
       "      <td>...</td>\n",
       "      <td>0.046702</td>\n",
       "      <td>-0.069440</td>\n",
       "      <td>-0.367536</td>\n",
       "      <td>0.088954</td>\n",
       "      <td>-0.201488</td>\n",
       "      <td>0.215760</td>\n",
       "      <td>-0.068404</td>\n",
       "      <td>-0.075772</td>\n",
       "      <td>-0.019904</td>\n",
       "      <td>80.00</td>\n",
       "    </tr>\n",
       "    <tr>\n",
       "      <th>75905</th>\n",
       "      <td>56302.0</td>\n",
       "      <td>1.151128</td>\n",
       "      <td>-0.082384</td>\n",
       "      <td>1.270232</td>\n",
       "      <td>1.350025</td>\n",
       "      <td>-1.043314</td>\n",
       "      <td>-0.216287</td>\n",
       "      <td>-0.605943</td>\n",
       "      <td>0.129997</td>\n",
       "      <td>0.995549</td>\n",
       "      <td>...</td>\n",
       "      <td>-0.176780</td>\n",
       "      <td>-0.069918</td>\n",
       "      <td>-0.029885</td>\n",
       "      <td>0.003545</td>\n",
       "      <td>0.377232</td>\n",
       "      <td>0.391446</td>\n",
       "      <td>-0.407028</td>\n",
       "      <td>0.067863</td>\n",
       "      <td>0.036976</td>\n",
       "      <td>9.99</td>\n",
       "    </tr>\n",
       "    <tr>\n",
       "      <th>236346</th>\n",
       "      <td>148770.0</td>\n",
       "      <td>1.993451</td>\n",
       "      <td>-0.527785</td>\n",
       "      <td>-0.277094</td>\n",
       "      <td>0.483470</td>\n",
       "      <td>-0.892861</td>\n",
       "      <td>-0.547632</td>\n",
       "      <td>-0.719819</td>\n",
       "      <td>0.004556</td>\n",
       "      <td>1.426141</td>\n",
       "      <td>...</td>\n",
       "      <td>-0.247968</td>\n",
       "      <td>0.141505</td>\n",
       "      <td>0.582788</td>\n",
       "      <td>0.156875</td>\n",
       "      <td>-0.079033</td>\n",
       "      <td>-0.296208</td>\n",
       "      <td>0.578742</td>\n",
       "      <td>-0.026094</td>\n",
       "      <td>-0.049971</td>\n",
       "      <td>11.50</td>\n",
       "    </tr>\n",
       "    <tr>\n",
       "      <th>259269</th>\n",
       "      <td>159039.0</td>\n",
       "      <td>1.982780</td>\n",
       "      <td>-0.252463</td>\n",
       "      <td>-0.724556</td>\n",
       "      <td>0.137818</td>\n",
       "      <td>-0.471947</td>\n",
       "      <td>-0.969843</td>\n",
       "      <td>-0.191855</td>\n",
       "      <td>-0.056126</td>\n",
       "      <td>0.467028</td>\n",
       "      <td>...</td>\n",
       "      <td>-0.257683</td>\n",
       "      <td>-0.410893</td>\n",
       "      <td>-1.313772</td>\n",
       "      <td>0.561030</td>\n",
       "      <td>-0.008573</td>\n",
       "      <td>-0.811124</td>\n",
       "      <td>-0.001203</td>\n",
       "      <td>-0.081215</td>\n",
       "      <td>-0.058634</td>\n",
       "      <td>12.06</td>\n",
       "    </tr>\n",
       "  </tbody>\n",
       "</table>\n",
       "<p>5 rows × 30 columns</p>\n",
       "</div>"
      ],
      "text/plain": [
       "            Time        V1        V2        V3        V4        V5        V6  \\\n",
       "158037  110829.0  2.127946  0.179753 -2.189511  0.125166  0.835948 -1.246992   \n",
       "246632  153252.0 -0.520715 -0.177780  0.544353 -0.618474  0.537042 -0.965691   \n",
       "75905    56302.0  1.151128 -0.082384  1.270232  1.350025 -1.043314 -0.216287   \n",
       "236346  148770.0  1.993451 -0.527785 -0.277094  0.483470 -0.892861 -0.547632   \n",
       "259269  159039.0  1.982780 -0.252463 -0.724556  0.137818 -0.471947 -0.969843   \n",
       "\n",
       "              V7        V8        V9  ...       V20       V21       V22  \\\n",
       "158037  0.681395 -0.595654  1.498708  ... -0.221842 -0.012414  0.283045   \n",
       "246632  0.714617 -0.057018  0.474255  ...  0.046702 -0.069440 -0.367536   \n",
       "75905  -0.605943  0.129997  0.995549  ... -0.176780 -0.069918 -0.029885   \n",
       "236346 -0.719819  0.004556  1.426141  ... -0.247968  0.141505  0.582788   \n",
       "259269 -0.191855 -0.056126  0.467028  ... -0.257683 -0.410893 -1.313772   \n",
       "\n",
       "             V23       V24       V25       V26       V27       V28  Amount  \n",
       "158037 -0.033538  0.572355  0.453356  0.176771 -0.121577 -0.077481   20.37  \n",
       "246632  0.088954 -0.201488  0.215760 -0.068404 -0.075772 -0.019904   80.00  \n",
       "75905   0.003545  0.377232  0.391446 -0.407028  0.067863  0.036976    9.99  \n",
       "236346  0.156875 -0.079033 -0.296208  0.578742 -0.026094 -0.049971   11.50  \n",
       "259269  0.561030 -0.008573 -0.811124 -0.001203 -0.081215 -0.058634   12.06  \n",
       "\n",
       "[5 rows x 30 columns]"
      ]
     },
     "execution_count": 31,
     "metadata": {},
     "output_type": "execute_result"
    }
   ],
   "source": [
    "X.head()"
   ]
  },
  {
   "cell_type": "code",
   "execution_count": 32,
   "metadata": {},
   "outputs": [
    {
     "data": {
      "text/plain": [
       "158037    0\n",
       "246632    0\n",
       "75905     0\n",
       "236346    0\n",
       "259269    0\n",
       "Name: Class, dtype: int64"
      ]
     },
     "execution_count": 32,
     "metadata": {},
     "output_type": "execute_result"
    }
   ],
   "source": [
    "y.head()"
   ]
  },
  {
   "cell_type": "code",
   "execution_count": 33,
   "metadata": {},
   "outputs": [],
   "source": [
    "# Now lets split our data into train and test data.. we will be taking 80% data on the training data and 20%\n",
    "# data on the testing data\n",
    "np.random.seed(42) # Random seed for reproducibility\n",
    "\n",
    "X_train, X_test, y_train, y_test = train_test_split(X, y, test_size=0.2)"
   ]
  },
  {
   "cell_type": "code",
   "execution_count": 34,
   "metadata": {},
   "outputs": [
    {
     "data": {
      "text/plain": [
       "((787, 30), (787,), (197, 30), (197,))"
      ]
     },
     "execution_count": 34,
     "metadata": {},
     "output_type": "execute_result"
    }
   ],
   "source": [
    "# looking at the size of the data\n",
    "X_train.shape, y_train.shape, X_test.shape, y_test.shape"
   ]
  },
  {
   "cell_type": "code",
   "execution_count": 35,
   "metadata": {},
   "outputs": [
    {
     "data": {
      "text/html": [
       "<div>\n",
       "<style scoped>\n",
       "    .dataframe tbody tr th:only-of-type {\n",
       "        vertical-align: middle;\n",
       "    }\n",
       "\n",
       "    .dataframe tbody tr th {\n",
       "        vertical-align: top;\n",
       "    }\n",
       "\n",
       "    .dataframe thead th {\n",
       "        text-align: right;\n",
       "    }\n",
       "</style>\n",
       "<table border=\"1\" class=\"dataframe\">\n",
       "  <thead>\n",
       "    <tr style=\"text-align: right;\">\n",
       "      <th></th>\n",
       "      <th>Time</th>\n",
       "      <th>V1</th>\n",
       "      <th>V2</th>\n",
       "      <th>V3</th>\n",
       "      <th>V4</th>\n",
       "      <th>V5</th>\n",
       "      <th>V6</th>\n",
       "      <th>V7</th>\n",
       "      <th>V8</th>\n",
       "      <th>V9</th>\n",
       "      <th>...</th>\n",
       "      <th>V20</th>\n",
       "      <th>V21</th>\n",
       "      <th>V22</th>\n",
       "      <th>V23</th>\n",
       "      <th>V24</th>\n",
       "      <th>V25</th>\n",
       "      <th>V26</th>\n",
       "      <th>V27</th>\n",
       "      <th>V28</th>\n",
       "      <th>Amount</th>\n",
       "    </tr>\n",
       "  </thead>\n",
       "  <tbody>\n",
       "    <tr>\n",
       "      <th>258403</th>\n",
       "      <td>158638.0</td>\n",
       "      <td>-5.976119</td>\n",
       "      <td>-7.196980</td>\n",
       "      <td>-5.388316</td>\n",
       "      <td>5.104799</td>\n",
       "      <td>4.676533</td>\n",
       "      <td>-5.566870</td>\n",
       "      <td>-4.291180</td>\n",
       "      <td>0.876531</td>\n",
       "      <td>-1.075478</td>\n",
       "      <td>...</td>\n",
       "      <td>3.136338</td>\n",
       "      <td>1.459369</td>\n",
       "      <td>-0.136262</td>\n",
       "      <td>0.848177</td>\n",
       "      <td>-0.269916</td>\n",
       "      <td>-1.095060</td>\n",
       "      <td>-0.710905</td>\n",
       "      <td>0.565846</td>\n",
       "      <td>-1.034107</td>\n",
       "      <td>296.00</td>\n",
       "    </tr>\n",
       "    <tr>\n",
       "      <th>142557</th>\n",
       "      <td>84789.0</td>\n",
       "      <td>-1.430864</td>\n",
       "      <td>-0.802529</td>\n",
       "      <td>1.123320</td>\n",
       "      <td>0.389760</td>\n",
       "      <td>-0.281214</td>\n",
       "      <td>-0.055123</td>\n",
       "      <td>1.326232</td>\n",
       "      <td>0.195700</td>\n",
       "      <td>-0.546890</td>\n",
       "      <td>...</td>\n",
       "      <td>0.634184</td>\n",
       "      <td>0.325575</td>\n",
       "      <td>0.014002</td>\n",
       "      <td>0.844946</td>\n",
       "      <td>0.114963</td>\n",
       "      <td>0.156365</td>\n",
       "      <td>-0.619437</td>\n",
       "      <td>-0.120351</td>\n",
       "      <td>0.035594</td>\n",
       "      <td>354.33</td>\n",
       "    </tr>\n",
       "    <tr>\n",
       "      <th>255257</th>\n",
       "      <td>157139.0</td>\n",
       "      <td>0.412406</td>\n",
       "      <td>0.670973</td>\n",
       "      <td>-0.613035</td>\n",
       "      <td>-0.389548</td>\n",
       "      <td>0.429526</td>\n",
       "      <td>-0.237394</td>\n",
       "      <td>-0.520405</td>\n",
       "      <td>-2.928694</td>\n",
       "      <td>-0.296535</td>\n",
       "      <td>...</td>\n",
       "      <td>0.623364</td>\n",
       "      <td>-1.572601</td>\n",
       "      <td>-0.527239</td>\n",
       "      <td>-0.103350</td>\n",
       "      <td>-0.625461</td>\n",
       "      <td>0.494593</td>\n",
       "      <td>0.247957</td>\n",
       "      <td>-0.036392</td>\n",
       "      <td>0.147128</td>\n",
       "      <td>44.99</td>\n",
       "    </tr>\n",
       "    <tr>\n",
       "      <th>213116</th>\n",
       "      <td>139117.0</td>\n",
       "      <td>-3.975939</td>\n",
       "      <td>-1.244939</td>\n",
       "      <td>-3.707414</td>\n",
       "      <td>4.544772</td>\n",
       "      <td>4.050676</td>\n",
       "      <td>-3.407679</td>\n",
       "      <td>-5.063118</td>\n",
       "      <td>1.007042</td>\n",
       "      <td>-3.190158</td>\n",
       "      <td>...</td>\n",
       "      <td>2.109403</td>\n",
       "      <td>1.059737</td>\n",
       "      <td>-0.037395</td>\n",
       "      <td>0.348707</td>\n",
       "      <td>-0.162929</td>\n",
       "      <td>0.410531</td>\n",
       "      <td>-0.123612</td>\n",
       "      <td>0.877424</td>\n",
       "      <td>0.667568</td>\n",
       "      <td>8.30</td>\n",
       "    </tr>\n",
       "    <tr>\n",
       "      <th>9509</th>\n",
       "      <td>14152.0</td>\n",
       "      <td>-4.710529</td>\n",
       "      <td>8.636214</td>\n",
       "      <td>-15.496222</td>\n",
       "      <td>10.313349</td>\n",
       "      <td>-4.351341</td>\n",
       "      <td>-3.322689</td>\n",
       "      <td>-10.788373</td>\n",
       "      <td>5.060381</td>\n",
       "      <td>-5.689311</td>\n",
       "      <td>...</td>\n",
       "      <td>1.434240</td>\n",
       "      <td>1.990545</td>\n",
       "      <td>0.223785</td>\n",
       "      <td>0.554408</td>\n",
       "      <td>-1.204042</td>\n",
       "      <td>-0.450685</td>\n",
       "      <td>0.641836</td>\n",
       "      <td>1.605958</td>\n",
       "      <td>0.721644</td>\n",
       "      <td>1.00</td>\n",
       "    </tr>\n",
       "  </tbody>\n",
       "</table>\n",
       "<p>5 rows × 30 columns</p>\n",
       "</div>"
      ],
      "text/plain": [
       "            Time        V1        V2         V3         V4        V5  \\\n",
       "258403  158638.0 -5.976119 -7.196980  -5.388316   5.104799  4.676533   \n",
       "142557   84789.0 -1.430864 -0.802529   1.123320   0.389760 -0.281214   \n",
       "255257  157139.0  0.412406  0.670973  -0.613035  -0.389548  0.429526   \n",
       "213116  139117.0 -3.975939 -1.244939  -3.707414   4.544772  4.050676   \n",
       "9509     14152.0 -4.710529  8.636214 -15.496222  10.313349 -4.351341   \n",
       "\n",
       "              V6         V7        V8        V9  ...       V20       V21  \\\n",
       "258403 -5.566870  -4.291180  0.876531 -1.075478  ...  3.136338  1.459369   \n",
       "142557 -0.055123   1.326232  0.195700 -0.546890  ...  0.634184  0.325575   \n",
       "255257 -0.237394  -0.520405 -2.928694 -0.296535  ...  0.623364 -1.572601   \n",
       "213116 -3.407679  -5.063118  1.007042 -3.190158  ...  2.109403  1.059737   \n",
       "9509   -3.322689 -10.788373  5.060381 -5.689311  ...  1.434240  1.990545   \n",
       "\n",
       "             V22       V23       V24       V25       V26       V27       V28  \\\n",
       "258403 -0.136262  0.848177 -0.269916 -1.095060 -0.710905  0.565846 -1.034107   \n",
       "142557  0.014002  0.844946  0.114963  0.156365 -0.619437 -0.120351  0.035594   \n",
       "255257 -0.527239 -0.103350 -0.625461  0.494593  0.247957 -0.036392  0.147128   \n",
       "213116 -0.037395  0.348707 -0.162929  0.410531 -0.123612  0.877424  0.667568   \n",
       "9509    0.223785  0.554408 -1.204042 -0.450685  0.641836  1.605958  0.721644   \n",
       "\n",
       "        Amount  \n",
       "258403  296.00  \n",
       "142557  354.33  \n",
       "255257   44.99  \n",
       "213116    8.30  \n",
       "9509      1.00  \n",
       "\n",
       "[5 rows x 30 columns]"
      ]
     },
     "execution_count": 35,
     "metadata": {},
     "output_type": "execute_result"
    }
   ],
   "source": [
    "X_train.head()"
   ]
  },
  {
   "cell_type": "code",
   "execution_count": 36,
   "metadata": {},
   "outputs": [
    {
     "data": {
      "text/plain": [
       "(array([1, 1, 0, 1, 1, 0, 1, 0, 1, 0, 0, 1, 0, 0, 1, 1, 0, 1, 1, 0, 0, 0,\n",
       "        1, 1, 0, 0, 0, 1, 0, 1, 1, 0, 0, 0, 0, 0, 0, 1, 0, 0, 0, 1, 1, 0,\n",
       "        0, 1, 0, 1, 1, 1, 1, 0, 1, 0, 0, 0, 1, 1, 1, 0, 1, 0, 0, 0, 1, 1,\n",
       "        0, 1, 0, 1], dtype=int64),\n",
       " 787)"
      ]
     },
     "execution_count": 36,
     "metadata": {},
     "output_type": "execute_result"
    }
   ],
   "source": [
    "np.array(y_train[:70]), len(y_train)"
   ]
  },
  {
   "cell_type": "code",
   "execution_count": 37,
   "metadata": {},
   "outputs": [
    {
     "data": {
      "text/html": [
       "<div>\n",
       "<style scoped>\n",
       "    .dataframe tbody tr th:only-of-type {\n",
       "        vertical-align: middle;\n",
       "    }\n",
       "\n",
       "    .dataframe tbody tr th {\n",
       "        vertical-align: top;\n",
       "    }\n",
       "\n",
       "    .dataframe thead th {\n",
       "        text-align: right;\n",
       "    }\n",
       "</style>\n",
       "<table border=\"1\" class=\"dataframe\">\n",
       "  <thead>\n",
       "    <tr style=\"text-align: right;\">\n",
       "      <th></th>\n",
       "      <th>Time</th>\n",
       "      <th>V1</th>\n",
       "      <th>V2</th>\n",
       "      <th>V3</th>\n",
       "      <th>V4</th>\n",
       "      <th>V5</th>\n",
       "      <th>V6</th>\n",
       "      <th>V7</th>\n",
       "      <th>V8</th>\n",
       "      <th>V9</th>\n",
       "      <th>...</th>\n",
       "      <th>V20</th>\n",
       "      <th>V21</th>\n",
       "      <th>V22</th>\n",
       "      <th>V23</th>\n",
       "      <th>V24</th>\n",
       "      <th>V25</th>\n",
       "      <th>V26</th>\n",
       "      <th>V27</th>\n",
       "      <th>V28</th>\n",
       "      <th>Amount</th>\n",
       "    </tr>\n",
       "  </thead>\n",
       "  <tbody>\n",
       "    <tr>\n",
       "      <th>42756</th>\n",
       "      <td>41233.0</td>\n",
       "      <td>-10.645800</td>\n",
       "      <td>5.918307</td>\n",
       "      <td>-11.671043</td>\n",
       "      <td>8.807369</td>\n",
       "      <td>-7.975501</td>\n",
       "      <td>-3.586806</td>\n",
       "      <td>-13.616797</td>\n",
       "      <td>6.428169</td>\n",
       "      <td>-7.368451</td>\n",
       "      <td>...</td>\n",
       "      <td>-0.046170</td>\n",
       "      <td>2.571970</td>\n",
       "      <td>0.206809</td>\n",
       "      <td>-1.667801</td>\n",
       "      <td>0.558419</td>\n",
       "      <td>-0.027898</td>\n",
       "      <td>0.354254</td>\n",
       "      <td>0.273329</td>\n",
       "      <td>-0.152908</td>\n",
       "      <td>0.0</td>\n",
       "    </tr>\n",
       "    <tr>\n",
       "      <th>144263</th>\n",
       "      <td>85982.0</td>\n",
       "      <td>-0.591776</td>\n",
       "      <td>0.488047</td>\n",
       "      <td>1.904447</td>\n",
       "      <td>0.430275</td>\n",
       "      <td>0.492191</td>\n",
       "      <td>-0.646362</td>\n",
       "      <td>0.720185</td>\n",
       "      <td>-0.192084</td>\n",
       "      <td>0.220844</td>\n",
       "      <td>...</td>\n",
       "      <td>-0.087302</td>\n",
       "      <td>0.018675</td>\n",
       "      <td>0.335267</td>\n",
       "      <td>-0.236607</td>\n",
       "      <td>0.394413</td>\n",
       "      <td>0.020226</td>\n",
       "      <td>-0.514748</td>\n",
       "      <td>-0.025463</td>\n",
       "      <td>-0.074144</td>\n",
       "      <td>1.0</td>\n",
       "    </tr>\n",
       "    <tr>\n",
       "      <th>111690</th>\n",
       "      <td>72327.0</td>\n",
       "      <td>-4.198735</td>\n",
       "      <td>0.194121</td>\n",
       "      <td>-3.917586</td>\n",
       "      <td>3.920748</td>\n",
       "      <td>-1.875486</td>\n",
       "      <td>-2.118933</td>\n",
       "      <td>-3.614445</td>\n",
       "      <td>1.687884</td>\n",
       "      <td>-2.189871</td>\n",
       "      <td>...</td>\n",
       "      <td>1.003350</td>\n",
       "      <td>0.801312</td>\n",
       "      <td>-0.183001</td>\n",
       "      <td>-0.440387</td>\n",
       "      <td>0.292539</td>\n",
       "      <td>-0.144967</td>\n",
       "      <td>-0.251744</td>\n",
       "      <td>1.249414</td>\n",
       "      <td>-0.131525</td>\n",
       "      <td>238.9</td>\n",
       "    </tr>\n",
       "    <tr>\n",
       "      <th>245077</th>\n",
       "      <td>152598.0</td>\n",
       "      <td>0.631670</td>\n",
       "      <td>-4.507367</td>\n",
       "      <td>-2.518337</td>\n",
       "      <td>-1.687783</td>\n",
       "      <td>-0.132850</td>\n",
       "      <td>4.369624</td>\n",
       "      <td>-1.063966</td>\n",
       "      <td>0.853060</td>\n",
       "      <td>-0.717894</td>\n",
       "      <td>...</td>\n",
       "      <td>1.287540</td>\n",
       "      <td>-0.056155</td>\n",
       "      <td>-1.449865</td>\n",
       "      <td>-0.232752</td>\n",
       "      <td>0.690979</td>\n",
       "      <td>-0.780149</td>\n",
       "      <td>-0.540451</td>\n",
       "      <td>-0.081099</td>\n",
       "      <td>0.099420</td>\n",
       "      <td>835.0</td>\n",
       "    </tr>\n",
       "    <tr>\n",
       "      <th>65222</th>\n",
       "      <td>51487.0</td>\n",
       "      <td>1.112297</td>\n",
       "      <td>0.301477</td>\n",
       "      <td>0.647222</td>\n",
       "      <td>1.105496</td>\n",
       "      <td>-0.196237</td>\n",
       "      <td>-0.172865</td>\n",
       "      <td>-0.021068</td>\n",
       "      <td>0.075548</td>\n",
       "      <td>-0.371650</td>\n",
       "      <td>...</td>\n",
       "      <td>-0.124678</td>\n",
       "      <td>-0.128861</td>\n",
       "      <td>-0.376166</td>\n",
       "      <td>0.135988</td>\n",
       "      <td>0.186292</td>\n",
       "      <td>0.246186</td>\n",
       "      <td>-0.617239</td>\n",
       "      <td>0.038054</td>\n",
       "      <td>0.020486</td>\n",
       "      <td>10.0</td>\n",
       "    </tr>\n",
       "  </tbody>\n",
       "</table>\n",
       "<p>5 rows × 30 columns</p>\n",
       "</div>"
      ],
      "text/plain": [
       "            Time         V1        V2         V3        V4        V5  \\\n",
       "42756    41233.0 -10.645800  5.918307 -11.671043  8.807369 -7.975501   \n",
       "144263   85982.0  -0.591776  0.488047   1.904447  0.430275  0.492191   \n",
       "111690   72327.0  -4.198735  0.194121  -3.917586  3.920748 -1.875486   \n",
       "245077  152598.0   0.631670 -4.507367  -2.518337 -1.687783 -0.132850   \n",
       "65222    51487.0   1.112297  0.301477   0.647222  1.105496 -0.196237   \n",
       "\n",
       "              V6         V7        V8        V9  ...       V20       V21  \\\n",
       "42756  -3.586806 -13.616797  6.428169 -7.368451  ... -0.046170  2.571970   \n",
       "144263 -0.646362   0.720185 -0.192084  0.220844  ... -0.087302  0.018675   \n",
       "111690 -2.118933  -3.614445  1.687884 -2.189871  ...  1.003350  0.801312   \n",
       "245077  4.369624  -1.063966  0.853060 -0.717894  ...  1.287540 -0.056155   \n",
       "65222  -0.172865  -0.021068  0.075548 -0.371650  ... -0.124678 -0.128861   \n",
       "\n",
       "             V22       V23       V24       V25       V26       V27       V28  \\\n",
       "42756   0.206809 -1.667801  0.558419 -0.027898  0.354254  0.273329 -0.152908   \n",
       "144263  0.335267 -0.236607  0.394413  0.020226 -0.514748 -0.025463 -0.074144   \n",
       "111690 -0.183001 -0.440387  0.292539 -0.144967 -0.251744  1.249414 -0.131525   \n",
       "245077 -1.449865 -0.232752  0.690979 -0.780149 -0.540451 -0.081099  0.099420   \n",
       "65222  -0.376166  0.135988  0.186292  0.246186 -0.617239  0.038054  0.020486   \n",
       "\n",
       "        Amount  \n",
       "42756      0.0  \n",
       "144263     1.0  \n",
       "111690   238.9  \n",
       "245077   835.0  \n",
       "65222     10.0  \n",
       "\n",
       "[5 rows x 30 columns]"
      ]
     },
     "execution_count": 37,
     "metadata": {},
     "output_type": "execute_result"
    }
   ],
   "source": [
    "X_test.head()"
   ]
  },
  {
   "cell_type": "code",
   "execution_count": 38,
   "metadata": {},
   "outputs": [
    {
     "data": {
      "text/plain": [
       "(array([1, 0, 1, 0, 0, 1, 1, 0, 1, 1, 0, 1, 1, 1, 0, 0, 0, 1, 1, 0, 0, 0,\n",
       "        1, 0, 1, 0, 0, 0, 0, 0, 0, 0, 0, 0, 1, 0, 0, 0, 0, 0, 0, 0, 1, 0,\n",
       "        1, 1, 1, 0, 0, 1, 1, 0, 1, 1, 1, 1, 1, 0, 1, 1, 0, 0, 0, 0, 0, 0,\n",
       "        1, 0, 0, 1, 0, 0, 0, 1, 1, 0, 1, 0, 1, 0, 1, 1, 1, 1, 0, 1, 0, 1,\n",
       "        1, 1, 0, 0, 1, 1, 1, 1, 1, 1, 1, 1, 1, 1, 0, 1, 1, 1, 0, 1, 1, 1,\n",
       "        1, 0, 1, 0, 1, 0, 0, 1, 0, 1, 0, 1, 0, 1, 1, 1, 1, 0, 0, 1, 1, 1,\n",
       "        0, 0, 1, 0, 0, 0, 1, 1, 1, 1, 1, 0, 1, 0, 0, 0, 0, 0, 0, 0, 0, 1,\n",
       "        0, 1, 1, 0, 1, 0, 0, 0, 0, 1, 1, 1, 1, 1, 0, 0, 1, 1, 0, 0, 0, 0,\n",
       "        0, 0, 1, 0, 1, 1, 0, 0, 0, 0, 0, 1, 1, 1, 1, 1, 0, 0, 1, 0, 1],\n",
       "       dtype=int64),\n",
       " 197)"
      ]
     },
     "execution_count": 38,
     "metadata": {},
     "output_type": "execute_result"
    }
   ],
   "source": [
    "np.array(y_test), len(y_test)"
   ]
  },
  {
   "cell_type": "markdown",
   "metadata": {},
   "source": [
    "## Modelling our data\n",
    "\n",
    "* In this section we will try to train and test our data which we have already splitted above, and for training the data we will use Sci-kit learn ML models \n",
    "* mainly we are going to use three types of models and based on best accuracy we will obtain from the test data we will choose that model for this project,\n",
    "* Three models we will use in this project for training and testing are-\n",
    "  * Logistic Regression\n",
    "  * K nearest neighbors\n",
    "  * Random forest classifier\n",
    "* All the above models are the classification models, and as we are working on the classifiaction problems these models are only used mainly."
   ]
  },
  {
   "cell_type": "code",
   "execution_count": 39,
   "metadata": {},
   "outputs": [
    {
     "name": "stdout",
     "output_type": "stream",
     "text": [
      "Training the data using LogisticRegression...\n",
      "Training the data using KNeighborsClassifier...\n",
      "Training the data using RandomForestClassifier...\n"
     ]
    },
    {
     "data": {
      "text/plain": [
       "{'LogisticRegression': 0.9289340101522843,\n",
       " 'KNeighborsClassifier': 0.6446700507614214,\n",
       " 'RandomForestClassifier': 0.934010152284264}"
      ]
     },
     "execution_count": 39,
     "metadata": {},
     "output_type": "execute_result"
    }
   ],
   "source": [
    "np.random.seed(42)\n",
    "#creating a dictionary of models\n",
    "models = {\"LogisticRegression\": LogisticRegression(),\n",
    "          \"KNeighborsClassifier\": KNeighborsClassifier(),\n",
    "          \"RandomForestClassifier\": RandomForestClassifier()}\n",
    "# empty dictionary to store the scores and results\n",
    "results = {}\n",
    "\n",
    "#looping through all the models and training it..\n",
    "for model_names, model in models.items():\n",
    "    print(f\"Training the data using {model_names}...\")\n",
    "    model.fit(X_train, y_train) # training the data\n",
    "    \n",
    "    results[model_names] = model.score(X_test, y_test)\n",
    "results # stores the scores of the data"
   ]
  },
  {
   "cell_type": "markdown",
   "metadata": {},
   "source": [
    "From above scores we can see that our Logistic Regression has an accuracy of about 0.9289(92%) and perfect model has an accuracy of 1.0,\n",
    "Now lets evaluate all the models and check which gives perfect accuracy"
   ]
  },
  {
   "cell_type": "markdown",
   "metadata": {},
   "source": [
    "### Model comparison"
   ]
  },
  {
   "cell_type": "code",
   "execution_count": 40,
   "metadata": {},
   "outputs": [
    {
     "data": {
      "text/plain": [
       "<AxesSubplot:>"
      ]
     },
     "execution_count": 40,
     "metadata": {},
     "output_type": "execute_result"
    },
    {
     "data": {
      "image/png": "[encoded data removed]",
      "text/plain": [
       "<Figure size 432x288 with 1 Axes>"
      ]
     },
     "metadata": {
      "needs_background": "light"
     },
     "output_type": "display_data"
    }
   ],
   "source": [
    "model_compare = pd.DataFrame(results, index=[\"Accuracy\"])\n",
    "model_compare.T.plot.bar()"
   ]
  },
  {
   "cell_type": "markdown",
   "metadata": {},
   "source": [
    "## Hyperparameter tuning and Cross-validation"
   ]
  },
  {
   "cell_type": "markdown",
   "metadata": {},
   "source": [
    "Each model we use has a series of dials we can turn to dictate how they perform. Changing these values may increase or decrease model performance."
   ]
  },
  {
   "cell_type": "markdown",
   "metadata": {},
   "source": [
    "To test different hyperparameters, we could use a validation set but since we don't have much data, we'll use cross-validation.\n",
    "\n",
    "The most common type of cross-validation is k-fold. It involves splitting your data into k-fold's and then testing a model on each. Default value for k is 5\n",
    "\n",
    "There are 3 ways to tune our hyperparameters\n",
    "* By hand\n",
    "* Using RandomizedSearchCV\n",
    "* Using GridSearchCV\n",
    "\n",
    "At first we will look how can we tune our hyperparameters in hand,\n",
    "Lets try with the KneighborsClassifier model :)"
   ]
  },
  {
   "cell_type": "markdown",
   "metadata": {},
   "source": [
    "### Tuning KNeighborsClassifier with hyperparameters by hand"
   ]
  },
  {
   "cell_type": "markdown",
   "metadata": {},
   "source": [
    "There's one main hyperparameter we can tune for the K-Nearest Neighbors (KNN) algorithm, and that is number of neighbours. The default is 5 (n_neigbors=5)."
   ]
  },
  {
   "cell_type": "markdown",
   "metadata": {},
   "source": [
    "KNN works by assuming dots which are closer together belong to the same class. If n_neighbors=5 then it assume a dot with the 5 closest dots around it are in the same class"
   ]
  },
  {
   "cell_type": "markdown",
   "metadata": {},
   "source": [
    "Now,in here lets try a different n_neighbors"
   ]
  },
  {
   "cell_type": "code",
   "execution_count": 41,
   "metadata": {},
   "outputs": [
    {
     "data": {
      "text/plain": [
       "(array([1.        , 0.85006353, 0.82973316, 0.78398983, 0.76493011,\n",
       "        0.74968234, 0.7407878 , 0.71664549, 0.71283355, 0.70520966,\n",
       "        0.69758577, 0.68742058, 0.68869123, 0.6797967 , 0.68360864,\n",
       "        0.68869123, 0.66963151, 0.66581957, 0.66327827, 0.64930114]),\n",
       " array([0.6142132 , 0.6142132 , 0.65989848, 0.65482234, 0.64467005,\n",
       "        0.59898477, 0.58883249, 0.58375635, 0.56345178, 0.62436548,\n",
       "        0.56852792, 0.59390863, 0.55837563, 0.56345178, 0.56852792,\n",
       "        0.6142132 , 0.57360406, 0.58375635, 0.58375635, 0.5786802 ]))"
      ]
     },
     "execution_count": 41,
     "metadata": {},
     "output_type": "execute_result"
    }
   ],
   "source": [
    "#create a list of train scores\n",
    "train_scores = []\n",
    "\n",
    "#create a list of test scores\n",
    "test_scores = []\n",
    "\n",
    "#Create a list of different values for n_neighbors\n",
    "neighbors = np.arange(1, 21, 1)\n",
    "\n",
    "#set the model\n",
    "knn = KNeighborsClassifier()\n",
    "\n",
    "\n",
    "for i in neighbors:\n",
    "    #setting the hypermeter\n",
    "    knn.set_params(n_neighbors=i)\n",
    "    \n",
    "    knn.fit(X_train, y_train)#fitting the data\n",
    "    \n",
    "    # Update the training scores\n",
    "    train_scores.append(knn.score(X_train, y_train))\n",
    "    \n",
    "    # Update the testing scores\n",
    "    test_scores.append(knn.score(X_test, y_test))\n",
    "    \n",
    "np.array(train_scores[:20]), np.array(test_scores[:20])"
   ]
  },
  {
   "cell_type": "markdown",
   "metadata": {},
   "source": [
    "These data are actually tough to understand so lets plot a graph with this data"
   ]
  },
  {
   "cell_type": "code",
   "execution_count": 42,
   "metadata": {},
   "outputs": [
    {
     "name": "stdout",
     "output_type": "stream",
     "text": [
      "Max test score percentage of this model is 65.99\n"
     ]
    },
    {
     "data": {
      "image/png": "[encoded data removed]",
      "text/plain": [
       "<Figure size 432x288 with 1 Axes>"
      ]
     },
     "metadata": {
      "needs_background": "light"
     },
     "output_type": "display_data"
    }
   ],
   "source": [
    "plt.plot(neighbors, train_scores, label=\"Training score\")\n",
    "plt.plot(neighbors, test_scores, label=\"Testing score\")\n",
    "plt.xticks(np.arange(1, 21, 1))\n",
    "plt.xlabel(\"No. of neighbors\")\n",
    "plt.ylabel(\"Model scores\")\n",
    "plt.legend()\n",
    "\n",
    "print(f\"Max test score percentage of this model is {max(test_scores)*100:.2f}\")"
   ]
  },
  {
   "cell_type": "markdown",
   "metadata": {},
   "source": [
    "Looking at the graph, n_neighbors = 5 seems best.\n",
    "\n",
    "Even knowing this, the KNN's model performance didn't get upgraded(indeed remains same) near what LogisticRegression or the RandomForestClassifier did.\n",
    "\n",
    "Because of this, we'll discard KNN and focus on the other two.\n",
    "\n",
    "We've tuned KNN by hand but let's see how we can LogisticsRegression and RandomForestClassifier using RandomizedSearchCV.\n",
    "\n",
    "Instead of us having to manually try different hyperparameters by hand, RandomizedSearchCV tries a number of different combinations, evaluates them and saves the best."
   ]
  },
  {
   "cell_type": "markdown",
   "metadata": {},
   "source": [
    "### Tuning with RandomizedSearchCV in logisticRegression"
   ]
  },
  {
   "cell_type": "code",
   "execution_count": 43,
   "metadata": {},
   "outputs": [],
   "source": [
    "#setting up the hyperparameters for logistic regression\n",
    "log_reg_rs = {\"C\": np.logspace(-4, 4, 20),\n",
    "              \"solver\": [\"liblinear\", \"newton-cg\", \"lbfgs\"]}\n",
    "\n",
    "\n",
    "#setting up the hyperparameters for random forest classifier\n",
    "rf_rs = {\"n_estimators\": np.arange(10, 1000, 50),\n",
    "         \"max_depth\": [None, 3, 5, 8, 10],\n",
    "         \"min_samples_split\": np.arange(2, 40, 2),\n",
    "         \"min_samples_leaf\": np.arange(1, 40, 2)}"
   ]
  },
  {
   "cell_type": "markdown",
   "metadata": {},
   "source": [
    "Now let's use RandomizedSearchCV to try and tune our LogisticRegression model.\n",
    "\n",
    "We'll pass it the different hyperparameters from log_reg_grid as well as set n_iter = 20. This means, RandomizedSearchCV will try 20 different combinations of hyperparameters from log_reg_grid and save the best ones."
   ]
  },
  {
   "cell_type": "code",
   "execution_count": 44,
   "metadata": {},
   "outputs": [
    {
     "name": "stdout",
     "output_type": "stream",
     "text": [
      "Fitting 5 folds for each of 20 candidates, totalling 100 fits\n"
     ]
    },
    {
     "name": "stderr",
     "output_type": "stream",
     "text": [
      "[Parallel(n_jobs=1)]: Using backend SequentialBackend with 1 concurrent workers.\n",
      "C:\\Users\\ajaya\\anaconda3\\lib\\site-packages\\scipy\\optimize\\linesearch.py:477: LineSearchWarning: The line search algorithm did not converge\n",
      "  warn('The line search algorithm did not converge', LineSearchWarning)\n",
      "C:\\Users\\ajaya\\anaconda3\\lib\\site-packages\\scipy\\optimize\\linesearch.py:327: LineSearchWarning: The line search algorithm did not converge\n",
      "  warn('The line search algorithm did not converge', LineSearchWarning)\n",
      "C:\\Users\\ajaya\\anaconda3\\lib\\site-packages\\scipy\\optimize\\linesearch.py:477: LineSearchWarning: The line search algorithm did not converge\n",
      "  warn('The line search algorithm did not converge', LineSearchWarning)\n",
      "C:\\Users\\ajaya\\anaconda3\\lib\\site-packages\\scipy\\optimize\\linesearch.py:327: LineSearchWarning: The line search algorithm did not converge\n",
      "  warn('The line search algorithm did not converge', LineSearchWarning)\n",
      "C:\\Users\\ajaya\\anaconda3\\lib\\site-packages\\scipy\\optimize\\linesearch.py:477: LineSearchWarning: The line search algorithm did not converge\n",
      "  warn('The line search algorithm did not converge', LineSearchWarning)\n",
      "C:\\Users\\ajaya\\anaconda3\\lib\\site-packages\\scipy\\optimize\\linesearch.py:327: LineSearchWarning: The line search algorithm did not converge\n",
      "  warn('The line search algorithm did not converge', LineSearchWarning)\n",
      "C:\\Users\\ajaya\\anaconda3\\lib\\site-packages\\scipy\\optimize\\linesearch.py:477: LineSearchWarning: The line search algorithm did not converge\n",
      "  warn('The line search algorithm did not converge', LineSearchWarning)\n",
      "C:\\Users\\ajaya\\anaconda3\\lib\\site-packages\\scipy\\optimize\\linesearch.py:327: LineSearchWarning: The line search algorithm did not converge\n",
      "  warn('The line search algorithm did not converge', LineSearchWarning)\n",
      "C:\\Users\\ajaya\\anaconda3\\lib\\site-packages\\scipy\\optimize\\linesearch.py:437: LineSearchWarning: Rounding errors prevent the line search from converging\n",
      "  warn(msg, LineSearchWarning)\n",
      "C:\\Users\\ajaya\\anaconda3\\lib\\site-packages\\scipy\\optimize\\linesearch.py:327: LineSearchWarning: The line search algorithm did not converge\n",
      "  warn('The line search algorithm did not converge', LineSearchWarning)\n",
      "C:\\Users\\ajaya\\anaconda3\\lib\\site-packages\\sklearn\\utils\\optimize.py:204: UserWarning: Line Search failed\n",
      "  warnings.warn('Line Search failed')\n",
      "C:\\Users\\ajaya\\anaconda3\\lib\\site-packages\\scipy\\optimize\\linesearch.py:477: LineSearchWarning: The line search algorithm did not converge\n",
      "  warn('The line search algorithm did not converge', LineSearchWarning)\n",
      "C:\\Users\\ajaya\\anaconda3\\lib\\site-packages\\scipy\\optimize\\linesearch.py:327: LineSearchWarning: The line search algorithm did not converge\n",
      "  warn('The line search algorithm did not converge', LineSearchWarning)\n",
      "C:\\Users\\ajaya\\anaconda3\\lib\\site-packages\\scipy\\optimize\\linesearch.py:477: LineSearchWarning: The line search algorithm did not converge\n",
      "  warn('The line search algorithm did not converge', LineSearchWarning)\n",
      "C:\\Users\\ajaya\\anaconda3\\lib\\site-packages\\scipy\\optimize\\linesearch.py:327: LineSearchWarning: The line search algorithm did not converge\n",
      "  warn('The line search algorithm did not converge', LineSearchWarning)\n",
      "C:\\Users\\ajaya\\anaconda3\\lib\\site-packages\\scipy\\optimize\\linesearch.py:477: LineSearchWarning: The line search algorithm did not converge\n",
      "  warn('The line search algorithm did not converge', LineSearchWarning)\n",
      "C:\\Users\\ajaya\\anaconda3\\lib\\site-packages\\scipy\\optimize\\linesearch.py:327: LineSearchWarning: The line search algorithm did not converge\n",
      "  warn('The line search algorithm did not converge', LineSearchWarning)\n",
      "C:\\Users\\ajaya\\anaconda3\\lib\\site-packages\\scipy\\optimize\\linesearch.py:477: LineSearchWarning: The line search algorithm did not converge\n",
      "  warn('The line search algorithm did not converge', LineSearchWarning)\n",
      "C:\\Users\\ajaya\\anaconda3\\lib\\site-packages\\scipy\\optimize\\linesearch.py:327: LineSearchWarning: The line search algorithm did not converge\n",
      "  warn('The line search algorithm did not converge', LineSearchWarning)\n",
      "C:\\Users\\ajaya\\anaconda3\\lib\\site-packages\\scipy\\optimize\\linesearch.py:477: LineSearchWarning: The line search algorithm did not converge\n",
      "  warn('The line search algorithm did not converge', LineSearchWarning)\n",
      "C:\\Users\\ajaya\\anaconda3\\lib\\site-packages\\scipy\\optimize\\linesearch.py:327: LineSearchWarning: The line search algorithm did not converge\n",
      "  warn('The line search algorithm did not converge', LineSearchWarning)\n",
      "C:\\Users\\ajaya\\anaconda3\\lib\\site-packages\\scipy\\optimize\\linesearch.py:477: LineSearchWarning: The line search algorithm did not converge\n",
      "  warn('The line search algorithm did not converge', LineSearchWarning)\n",
      "C:\\Users\\ajaya\\anaconda3\\lib\\site-packages\\scipy\\optimize\\linesearch.py:327: LineSearchWarning: The line search algorithm did not converge\n",
      "  warn('The line search algorithm did not converge', LineSearchWarning)\n",
      "C:\\Users\\ajaya\\anaconda3\\lib\\site-packages\\scipy\\optimize\\linesearch.py:477: LineSearchWarning: The line search algorithm did not converge\n",
      "  warn('The line search algorithm did not converge', LineSearchWarning)\n",
      "C:\\Users\\ajaya\\anaconda3\\lib\\site-packages\\scipy\\optimize\\linesearch.py:327: LineSearchWarning: The line search algorithm did not converge\n",
      "  warn('The line search algorithm did not converge', LineSearchWarning)\n",
      "C:\\Users\\ajaya\\anaconda3\\lib\\site-packages\\scipy\\optimize\\linesearch.py:437: LineSearchWarning: Rounding errors prevent the line search from converging\n",
      "  warn(msg, LineSearchWarning)\n",
      "C:\\Users\\ajaya\\anaconda3\\lib\\site-packages\\scipy\\optimize\\linesearch.py:327: LineSearchWarning: The line search algorithm did not converge\n",
      "  warn('The line search algorithm did not converge', LineSearchWarning)\n",
      "C:\\Users\\ajaya\\anaconda3\\lib\\site-packages\\sklearn\\utils\\optimize.py:204: UserWarning: Line Search failed\n",
      "  warnings.warn('Line Search failed')\n",
      "C:\\Users\\ajaya\\anaconda3\\lib\\site-packages\\scipy\\optimize\\linesearch.py:477: LineSearchWarning: The line search algorithm did not converge\n",
      "  warn('The line search algorithm did not converge', LineSearchWarning)\n",
      "C:\\Users\\ajaya\\anaconda3\\lib\\site-packages\\scipy\\optimize\\linesearch.py:327: LineSearchWarning: The line search algorithm did not converge\n",
      "  warn('The line search algorithm did not converge', LineSearchWarning)\n",
      "C:\\Users\\ajaya\\anaconda3\\lib\\site-packages\\scipy\\optimize\\linesearch.py:437: LineSearchWarning: Rounding errors prevent the line search from converging\n",
      "  warn(msg, LineSearchWarning)\n",
      "C:\\Users\\ajaya\\anaconda3\\lib\\site-packages\\scipy\\optimize\\linesearch.py:327: LineSearchWarning: The line search algorithm did not converge\n",
      "  warn('The line search algorithm did not converge', LineSearchWarning)\n",
      "C:\\Users\\ajaya\\anaconda3\\lib\\site-packages\\sklearn\\utils\\optimize.py:204: UserWarning: Line Search failed\n",
      "  warnings.warn('Line Search failed')\n",
      "C:\\Users\\ajaya\\anaconda3\\lib\\site-packages\\scipy\\optimize\\linesearch.py:477: LineSearchWarning: The line search algorithm did not converge\n",
      "  warn('The line search algorithm did not converge', LineSearchWarning)\n",
      "C:\\Users\\ajaya\\anaconda3\\lib\\site-packages\\scipy\\optimize\\linesearch.py:327: LineSearchWarning: The line search algorithm did not converge\n",
      "  warn('The line search algorithm did not converge', LineSearchWarning)\n",
      "C:\\Users\\ajaya\\anaconda3\\lib\\site-packages\\scipy\\optimize\\linesearch.py:477: LineSearchWarning: The line search algorithm did not converge\n",
      "  warn('The line search algorithm did not converge', LineSearchWarning)\n",
      "C:\\Users\\ajaya\\anaconda3\\lib\\site-packages\\scipy\\optimize\\linesearch.py:327: LineSearchWarning: The line search algorithm did not converge\n",
      "  warn('The line search algorithm did not converge', LineSearchWarning)\n",
      "C:\\Users\\ajaya\\anaconda3\\lib\\site-packages\\scipy\\optimize\\linesearch.py:477: LineSearchWarning: The line search algorithm did not converge\n",
      "  warn('The line search algorithm did not converge', LineSearchWarning)\n",
      "C:\\Users\\ajaya\\anaconda3\\lib\\site-packages\\scipy\\optimize\\linesearch.py:327: LineSearchWarning: The line search algorithm did not converge\n",
      "  warn('The line search algorithm did not converge', LineSearchWarning)\n",
      "C:\\Users\\ajaya\\anaconda3\\lib\\site-packages\\scipy\\optimize\\linesearch.py:477: LineSearchWarning: The line search algorithm did not converge\n",
      "  warn('The line search algorithm did not converge', LineSearchWarning)\n",
      "C:\\Users\\ajaya\\anaconda3\\lib\\site-packages\\scipy\\optimize\\linesearch.py:327: LineSearchWarning: The line search algorithm did not converge\n",
      "  warn('The line search algorithm did not converge', LineSearchWarning)\n",
      "C:\\Users\\ajaya\\anaconda3\\lib\\site-packages\\scipy\\optimize\\linesearch.py:477: LineSearchWarning: The line search algorithm did not converge\n",
      "  warn('The line search algorithm did not converge', LineSearchWarning)\n",
      "C:\\Users\\ajaya\\anaconda3\\lib\\site-packages\\scipy\\optimize\\linesearch.py:327: LineSearchWarning: The line search algorithm did not converge\n",
      "  warn('The line search algorithm did not converge', LineSearchWarning)\n",
      "C:\\Users\\ajaya\\anaconda3\\lib\\site-packages\\scipy\\optimize\\linesearch.py:437: LineSearchWarning: Rounding errors prevent the line search from converging\n",
      "  warn(msg, LineSearchWarning)\n",
      "C:\\Users\\ajaya\\anaconda3\\lib\\site-packages\\scipy\\optimize\\linesearch.py:327: LineSearchWarning: The line search algorithm did not converge\n",
      "  warn('The line search algorithm did not converge', LineSearchWarning)\n",
      "C:\\Users\\ajaya\\anaconda3\\lib\\site-packages\\sklearn\\utils\\optimize.py:204: UserWarning: Line Search failed\n",
      "  warnings.warn('Line Search failed')\n",
      "C:\\Users\\ajaya\\anaconda3\\lib\\site-packages\\scipy\\optimize\\linesearch.py:477: LineSearchWarning: The line search algorithm did not converge\n",
      "  warn('The line search algorithm did not converge', LineSearchWarning)\n",
      "C:\\Users\\ajaya\\anaconda3\\lib\\site-packages\\scipy\\optimize\\linesearch.py:327: LineSearchWarning: The line search algorithm did not converge\n",
      "  warn('The line search algorithm did not converge', LineSearchWarning)\n",
      "C:\\Users\\ajaya\\anaconda3\\lib\\site-packages\\scipy\\optimize\\linesearch.py:477: LineSearchWarning: The line search algorithm did not converge\n",
      "  warn('The line search algorithm did not converge', LineSearchWarning)\n",
      "C:\\Users\\ajaya\\anaconda3\\lib\\site-packages\\scipy\\optimize\\linesearch.py:327: LineSearchWarning: The line search algorithm did not converge\n",
      "  warn('The line search algorithm did not converge', LineSearchWarning)\n",
      "C:\\Users\\ajaya\\anaconda3\\lib\\site-packages\\scipy\\optimize\\linesearch.py:477: LineSearchWarning: The line search algorithm did not converge\n",
      "  warn('The line search algorithm did not converge', LineSearchWarning)\n",
      "C:\\Users\\ajaya\\anaconda3\\lib\\site-packages\\scipy\\optimize\\linesearch.py:327: LineSearchWarning: The line search algorithm did not converge\n",
      "  warn('The line search algorithm did not converge', LineSearchWarning)\n",
      "C:\\Users\\ajaya\\anaconda3\\lib\\site-packages\\scipy\\optimize\\linesearch.py:477: LineSearchWarning: The line search algorithm did not converge\n",
      "  warn('The line search algorithm did not converge', LineSearchWarning)\n",
      "C:\\Users\\ajaya\\anaconda3\\lib\\site-packages\\scipy\\optimize\\linesearch.py:327: LineSearchWarning: The line search algorithm did not converge\n",
      "  warn('The line search algorithm did not converge', LineSearchWarning)\n",
      "C:\\Users\\ajaya\\anaconda3\\lib\\site-packages\\scipy\\optimize\\linesearch.py:477: LineSearchWarning: The line search algorithm did not converge\n",
      "  warn('The line search algorithm did not converge', LineSearchWarning)\n",
      "C:\\Users\\ajaya\\anaconda3\\lib\\site-packages\\scipy\\optimize\\linesearch.py:327: LineSearchWarning: The line search algorithm did not converge\n",
      "  warn('The line search algorithm did not converge', LineSearchWarning)\n",
      "C:\\Users\\ajaya\\anaconda3\\lib\\site-packages\\sklearn\\utils\\optimize.py:211: ConvergenceWarning: newton-cg failed to converge. Increase the number of iterations.\n",
      "  warnings.warn(\"newton-cg failed to converge. Increase the \"\n",
      "C:\\Users\\ajaya\\anaconda3\\lib\\site-packages\\scipy\\optimize\\linesearch.py:477: LineSearchWarning: The line search algorithm did not converge\n",
      "  warn('The line search algorithm did not converge', LineSearchWarning)\n",
      "C:\\Users\\ajaya\\anaconda3\\lib\\site-packages\\scipy\\optimize\\linesearch.py:327: LineSearchWarning: The line search algorithm did not converge\n",
      "  warn('The line search algorithm did not converge', LineSearchWarning)\n",
      "C:\\Users\\ajaya\\anaconda3\\lib\\site-packages\\scipy\\optimize\\linesearch.py:477: LineSearchWarning: The line search algorithm did not converge\n",
      "  warn('The line search algorithm did not converge', LineSearchWarning)\n",
      "C:\\Users\\ajaya\\anaconda3\\lib\\site-packages\\scipy\\optimize\\linesearch.py:327: LineSearchWarning: The line search algorithm did not converge\n",
      "  warn('The line search algorithm did not converge', LineSearchWarning)\n",
      "C:\\Users\\ajaya\\anaconda3\\lib\\site-packages\\sklearn\\utils\\optimize.py:211: ConvergenceWarning: newton-cg failed to converge. Increase the number of iterations.\n",
      "  warnings.warn(\"newton-cg failed to converge. Increase the \"\n",
      "C:\\Users\\ajaya\\anaconda3\\lib\\site-packages\\scipy\\optimize\\linesearch.py:477: LineSearchWarning: The line search algorithm did not converge\n",
      "  warn('The line search algorithm did not converge', LineSearchWarning)\n",
      "C:\\Users\\ajaya\\anaconda3\\lib\\site-packages\\scipy\\optimize\\linesearch.py:327: LineSearchWarning: The line search algorithm did not converge\n",
      "  warn('The line search algorithm did not converge', LineSearchWarning)\n",
      "C:\\Users\\ajaya\\anaconda3\\lib\\site-packages\\scipy\\optimize\\linesearch.py:477: LineSearchWarning: The line search algorithm did not converge\n",
      "  warn('The line search algorithm did not converge', LineSearchWarning)\n",
      "C:\\Users\\ajaya\\anaconda3\\lib\\site-packages\\scipy\\optimize\\linesearch.py:327: LineSearchWarning: The line search algorithm did not converge\n",
      "  warn('The line search algorithm did not converge', LineSearchWarning)\n",
      "C:\\Users\\ajaya\\anaconda3\\lib\\site-packages\\scipy\\optimize\\linesearch.py:477: LineSearchWarning: The line search algorithm did not converge\n",
      "  warn('The line search algorithm did not converge', LineSearchWarning)\n",
      "C:\\Users\\ajaya\\anaconda3\\lib\\site-packages\\scipy\\optimize\\linesearch.py:327: LineSearchWarning: The line search algorithm did not converge\n",
      "  warn('The line search algorithm did not converge', LineSearchWarning)\n",
      "C:\\Users\\ajaya\\anaconda3\\lib\\site-packages\\scipy\\optimize\\linesearch.py:477: LineSearchWarning: The line search algorithm did not converge\n",
      "  warn('The line search algorithm did not converge', LineSearchWarning)\n",
      "C:\\Users\\ajaya\\anaconda3\\lib\\site-packages\\scipy\\optimize\\linesearch.py:327: LineSearchWarning: The line search algorithm did not converge\n",
      "  warn('The line search algorithm did not converge', LineSearchWarning)\n",
      "C:\\Users\\ajaya\\anaconda3\\lib\\site-packages\\sklearn\\utils\\optimize.py:211: ConvergenceWarning: newton-cg failed to converge. Increase the number of iterations.\n",
      "  warnings.warn(\"newton-cg failed to converge. Increase the \"\n",
      "C:\\Users\\ajaya\\anaconda3\\lib\\site-packages\\scipy\\optimize\\linesearch.py:477: LineSearchWarning: The line search algorithm did not converge\n",
      "  warn('The line search algorithm did not converge', LineSearchWarning)\n",
      "C:\\Users\\ajaya\\anaconda3\\lib\\site-packages\\scipy\\optimize\\linesearch.py:327: LineSearchWarning: The line search algorithm did not converge\n",
      "  warn('The line search algorithm did not converge', LineSearchWarning)\n",
      "C:\\Users\\ajaya\\anaconda3\\lib\\site-packages\\scipy\\optimize\\linesearch.py:477: LineSearchWarning: The line search algorithm did not converge\n",
      "  warn('The line search algorithm did not converge', LineSearchWarning)\n",
      "C:\\Users\\ajaya\\anaconda3\\lib\\site-packages\\scipy\\optimize\\linesearch.py:327: LineSearchWarning: The line search algorithm did not converge\n",
      "  warn('The line search algorithm did not converge', LineSearchWarning)\n",
      "C:\\Users\\ajaya\\anaconda3\\lib\\site-packages\\sklearn\\utils\\optimize.py:211: ConvergenceWarning: newton-cg failed to converge. Increase the number of iterations.\n",
      "  warnings.warn(\"newton-cg failed to converge. Increase the \"\n",
      "C:\\Users\\ajaya\\anaconda3\\lib\\site-packages\\scipy\\optimize\\linesearch.py:477: LineSearchWarning: The line search algorithm did not converge\n",
      "  warn('The line search algorithm did not converge', LineSearchWarning)\n",
      "C:\\Users\\ajaya\\anaconda3\\lib\\site-packages\\scipy\\optimize\\linesearch.py:327: LineSearchWarning: The line search algorithm did not converge\n",
      "  warn('The line search algorithm did not converge', LineSearchWarning)\n",
      "C:\\Users\\ajaya\\anaconda3\\lib\\site-packages\\scipy\\optimize\\linesearch.py:477: LineSearchWarning: The line search algorithm did not converge\n",
      "  warn('The line search algorithm did not converge', LineSearchWarning)\n",
      "C:\\Users\\ajaya\\anaconda3\\lib\\site-packages\\scipy\\optimize\\linesearch.py:327: LineSearchWarning: The line search algorithm did not converge\n",
      "  warn('The line search algorithm did not converge', LineSearchWarning)\n",
      "C:\\Users\\ajaya\\anaconda3\\lib\\site-packages\\scipy\\optimize\\linesearch.py:477: LineSearchWarning: The line search algorithm did not converge\n",
      "  warn('The line search algorithm did not converge', LineSearchWarning)\n",
      "C:\\Users\\ajaya\\anaconda3\\lib\\site-packages\\scipy\\optimize\\linesearch.py:327: LineSearchWarning: The line search algorithm did not converge\n",
      "  warn('The line search algorithm did not converge', LineSearchWarning)\n",
      "C:\\Users\\ajaya\\anaconda3\\lib\\site-packages\\sklearn\\utils\\optimize.py:211: ConvergenceWarning: newton-cg failed to converge. Increase the number of iterations.\n",
      "  warnings.warn(\"newton-cg failed to converge. Increase the \"\n",
      "C:\\Users\\ajaya\\anaconda3\\lib\\site-packages\\sklearn\\linear_model\\_logistic.py:762: ConvergenceWarning: lbfgs failed to converge (status=1):\n",
      "STOP: TOTAL NO. of ITERATIONS REACHED LIMIT.\n",
      "\n",
      "Increase the number of iterations (max_iter) or scale the data as shown in:\n",
      "    https://scikit-learn.org/stable/modules/preprocessing.html\n",
      "Please also refer to the documentation for alternative solver options:\n",
      "    https://scikit-learn.org/stable/modules/linear_model.html#logistic-regression\n",
      "  n_iter_i = _check_optimize_result(\n",
      "C:\\Users\\ajaya\\anaconda3\\lib\\site-packages\\scipy\\optimize\\linesearch.py:477: LineSearchWarning: The line search algorithm did not converge\n",
      "  warn('The line search algorithm did not converge', LineSearchWarning)\n",
      "C:\\Users\\ajaya\\anaconda3\\lib\\site-packages\\scipy\\optimize\\linesearch.py:327: LineSearchWarning: The line search algorithm did not converge\n",
      "  warn('The line search algorithm did not converge', LineSearchWarning)\n",
      "C:\\Users\\ajaya\\anaconda3\\lib\\site-packages\\scipy\\optimize\\linesearch.py:477: LineSearchWarning: The line search algorithm did not converge\n",
      "  warn('The line search algorithm did not converge', LineSearchWarning)\n",
      "C:\\Users\\ajaya\\anaconda3\\lib\\site-packages\\scipy\\optimize\\linesearch.py:327: LineSearchWarning: The line search algorithm did not converge\n",
      "  warn('The line search algorithm did not converge', LineSearchWarning)\n",
      "C:\\Users\\ajaya\\anaconda3\\lib\\site-packages\\scipy\\optimize\\linesearch.py:477: LineSearchWarning: The line search algorithm did not converge\n",
      "  warn('The line search algorithm did not converge', LineSearchWarning)\n",
      "C:\\Users\\ajaya\\anaconda3\\lib\\site-packages\\scipy\\optimize\\linesearch.py:327: LineSearchWarning: The line search algorithm did not converge\n",
      "  warn('The line search algorithm did not converge', LineSearchWarning)\n",
      "C:\\Users\\ajaya\\anaconda3\\lib\\site-packages\\scipy\\optimize\\linesearch.py:477: LineSearchWarning: The line search algorithm did not converge\n",
      "  warn('The line search algorithm did not converge', LineSearchWarning)\n",
      "C:\\Users\\ajaya\\anaconda3\\lib\\site-packages\\scipy\\optimize\\linesearch.py:327: LineSearchWarning: The line search algorithm did not converge\n",
      "  warn('The line search algorithm did not converge', LineSearchWarning)\n",
      "C:\\Users\\ajaya\\anaconda3\\lib\\site-packages\\sklearn\\utils\\optimize.py:211: ConvergenceWarning: newton-cg failed to converge. Increase the number of iterations.\n",
      "  warnings.warn(\"newton-cg failed to converge. Increase the \"\n",
      "C:\\Users\\ajaya\\anaconda3\\lib\\site-packages\\scipy\\optimize\\linesearch.py:477: LineSearchWarning: The line search algorithm did not converge\n",
      "  warn('The line search algorithm did not converge', LineSearchWarning)\n",
      "C:\\Users\\ajaya\\anaconda3\\lib\\site-packages\\scipy\\optimize\\linesearch.py:327: LineSearchWarning: The line search algorithm did not converge\n",
      "  warn('The line search algorithm did not converge', LineSearchWarning)\n",
      "C:\\Users\\ajaya\\anaconda3\\lib\\site-packages\\scipy\\optimize\\linesearch.py:477: LineSearchWarning: The line search algorithm did not converge\n",
      "  warn('The line search algorithm did not converge', LineSearchWarning)\n",
      "C:\\Users\\ajaya\\anaconda3\\lib\\site-packages\\scipy\\optimize\\linesearch.py:327: LineSearchWarning: The line search algorithm did not converge\n",
      "  warn('The line search algorithm did not converge', LineSearchWarning)\n",
      "C:\\Users\\ajaya\\anaconda3\\lib\\site-packages\\scipy\\optimize\\linesearch.py:477: LineSearchWarning: The line search algorithm did not converge\n",
      "  warn('The line search algorithm did not converge', LineSearchWarning)\n",
      "C:\\Users\\ajaya\\anaconda3\\lib\\site-packages\\scipy\\optimize\\linesearch.py:327: LineSearchWarning: The line search algorithm did not converge\n",
      "  warn('The line search algorithm did not converge', LineSearchWarning)\n",
      "C:\\Users\\ajaya\\anaconda3\\lib\\site-packages\\scipy\\optimize\\linesearch.py:477: LineSearchWarning: The line search algorithm did not converge\n",
      "  warn('The line search algorithm did not converge', LineSearchWarning)\n",
      "C:\\Users\\ajaya\\anaconda3\\lib\\site-packages\\scipy\\optimize\\linesearch.py:327: LineSearchWarning: The line search algorithm did not converge\n",
      "  warn('The line search algorithm did not converge', LineSearchWarning)\n",
      "C:\\Users\\ajaya\\anaconda3\\lib\\site-packages\\scipy\\optimize\\linesearch.py:477: LineSearchWarning: The line search algorithm did not converge\n",
      "  warn('The line search algorithm did not converge', LineSearchWarning)\n",
      "C:\\Users\\ajaya\\anaconda3\\lib\\site-packages\\scipy\\optimize\\linesearch.py:327: LineSearchWarning: The line search algorithm did not converge\n",
      "  warn('The line search algorithm did not converge', LineSearchWarning)\n",
      "C:\\Users\\ajaya\\anaconda3\\lib\\site-packages\\sklearn\\utils\\optimize.py:211: ConvergenceWarning: newton-cg failed to converge. Increase the number of iterations.\n",
      "  warnings.warn(\"newton-cg failed to converge. Increase the \"\n",
      "C:\\Users\\ajaya\\anaconda3\\lib\\site-packages\\scipy\\optimize\\linesearch.py:477: LineSearchWarning: The line search algorithm did not converge\n",
      "  warn('The line search algorithm did not converge', LineSearchWarning)\n",
      "C:\\Users\\ajaya\\anaconda3\\lib\\site-packages\\scipy\\optimize\\linesearch.py:327: LineSearchWarning: The line search algorithm did not converge\n",
      "  warn('The line search algorithm did not converge', LineSearchWarning)\n",
      "C:\\Users\\ajaya\\anaconda3\\lib\\site-packages\\sklearn\\utils\\optimize.py:211: ConvergenceWarning: newton-cg failed to converge. Increase the number of iterations.\n",
      "  warnings.warn(\"newton-cg failed to converge. Increase the \"\n",
      "C:\\Users\\ajaya\\anaconda3\\lib\\site-packages\\sklearn\\utils\\optimize.py:211: ConvergenceWarning: newton-cg failed to converge. Increase the number of iterations.\n",
      "  warnings.warn(\"newton-cg failed to converge. Increase the \"\n",
      "C:\\Users\\ajaya\\anaconda3\\lib\\site-packages\\scipy\\optimize\\linesearch.py:477: LineSearchWarning: The line search algorithm did not converge\n",
      "  warn('The line search algorithm did not converge', LineSearchWarning)\n",
      "C:\\Users\\ajaya\\anaconda3\\lib\\site-packages\\scipy\\optimize\\linesearch.py:327: LineSearchWarning: The line search algorithm did not converge\n",
      "  warn('The line search algorithm did not converge', LineSearchWarning)\n",
      "C:\\Users\\ajaya\\anaconda3\\lib\\site-packages\\scipy\\optimize\\linesearch.py:477: LineSearchWarning: The line search algorithm did not converge\n",
      "  warn('The line search algorithm did not converge', LineSearchWarning)\n",
      "C:\\Users\\ajaya\\anaconda3\\lib\\site-packages\\scipy\\optimize\\linesearch.py:327: LineSearchWarning: The line search algorithm did not converge\n",
      "  warn('The line search algorithm did not converge', LineSearchWarning)\n",
      "C:\\Users\\ajaya\\anaconda3\\lib\\site-packages\\scipy\\optimize\\linesearch.py:477: LineSearchWarning: The line search algorithm did not converge\n",
      "  warn('The line search algorithm did not converge', LineSearchWarning)\n",
      "C:\\Users\\ajaya\\anaconda3\\lib\\site-packages\\scipy\\optimize\\linesearch.py:327: LineSearchWarning: The line search algorithm did not converge\n",
      "  warn('The line search algorithm did not converge', LineSearchWarning)\n",
      "C:\\Users\\ajaya\\anaconda3\\lib\\site-packages\\scipy\\optimize\\linesearch.py:477: LineSearchWarning: The line search algorithm did not converge\n",
      "  warn('The line search algorithm did not converge', LineSearchWarning)\n",
      "C:\\Users\\ajaya\\anaconda3\\lib\\site-packages\\scipy\\optimize\\linesearch.py:327: LineSearchWarning: The line search algorithm did not converge\n",
      "  warn('The line search algorithm did not converge', LineSearchWarning)\n",
      "C:\\Users\\ajaya\\anaconda3\\lib\\site-packages\\scipy\\optimize\\linesearch.py:477: LineSearchWarning: The line search algorithm did not converge\n",
      "  warn('The line search algorithm did not converge', LineSearchWarning)\n",
      "C:\\Users\\ajaya\\anaconda3\\lib\\site-packages\\scipy\\optimize\\linesearch.py:327: LineSearchWarning: The line search algorithm did not converge\n",
      "  warn('The line search algorithm did not converge', LineSearchWarning)\n",
      "C:\\Users\\ajaya\\anaconda3\\lib\\site-packages\\scipy\\optimize\\linesearch.py:477: LineSearchWarning: The line search algorithm did not converge\n",
      "  warn('The line search algorithm did not converge', LineSearchWarning)\n",
      "C:\\Users\\ajaya\\anaconda3\\lib\\site-packages\\scipy\\optimize\\linesearch.py:327: LineSearchWarning: The line search algorithm did not converge\n",
      "  warn('The line search algorithm did not converge', LineSearchWarning)\n",
      "C:\\Users\\ajaya\\anaconda3\\lib\\site-packages\\scipy\\optimize\\linesearch.py:477: LineSearchWarning: The line search algorithm did not converge\n",
      "  warn('The line search algorithm did not converge', LineSearchWarning)\n",
      "C:\\Users\\ajaya\\anaconda3\\lib\\site-packages\\scipy\\optimize\\linesearch.py:327: LineSearchWarning: The line search algorithm did not converge\n",
      "  warn('The line search algorithm did not converge', LineSearchWarning)\n",
      "C:\\Users\\ajaya\\anaconda3\\lib\\site-packages\\sklearn\\utils\\optimize.py:211: ConvergenceWarning: newton-cg failed to converge. Increase the number of iterations.\n",
      "  warnings.warn(\"newton-cg failed to converge. Increase the \"\n",
      "C:\\Users\\ajaya\\anaconda3\\lib\\site-packages\\scipy\\optimize\\linesearch.py:477: LineSearchWarning: The line search algorithm did not converge\n",
      "  warn('The line search algorithm did not converge', LineSearchWarning)\n",
      "C:\\Users\\ajaya\\anaconda3\\lib\\site-packages\\scipy\\optimize\\linesearch.py:327: LineSearchWarning: The line search algorithm did not converge\n",
      "  warn('The line search algorithm did not converge', LineSearchWarning)\n",
      "C:\\Users\\ajaya\\anaconda3\\lib\\site-packages\\sklearn\\utils\\optimize.py:211: ConvergenceWarning: newton-cg failed to converge. Increase the number of iterations.\n",
      "  warnings.warn(\"newton-cg failed to converge. Increase the \"\n",
      "C:\\Users\\ajaya\\anaconda3\\lib\\site-packages\\scipy\\optimize\\linesearch.py:477: LineSearchWarning: The line search algorithm did not converge\n",
      "  warn('The line search algorithm did not converge', LineSearchWarning)\n",
      "C:\\Users\\ajaya\\anaconda3\\lib\\site-packages\\scipy\\optimize\\linesearch.py:327: LineSearchWarning: The line search algorithm did not converge\n",
      "  warn('The line search algorithm did not converge', LineSearchWarning)\n",
      "C:\\Users\\ajaya\\anaconda3\\lib\\site-packages\\sklearn\\utils\\optimize.py:211: ConvergenceWarning: newton-cg failed to converge. Increase the number of iterations.\n",
      "  warnings.warn(\"newton-cg failed to converge. Increase the \"\n",
      "C:\\Users\\ajaya\\anaconda3\\lib\\site-packages\\scipy\\optimize\\linesearch.py:477: LineSearchWarning: The line search algorithm did not converge\n",
      "  warn('The line search algorithm did not converge', LineSearchWarning)\n",
      "C:\\Users\\ajaya\\anaconda3\\lib\\site-packages\\scipy\\optimize\\linesearch.py:327: LineSearchWarning: The line search algorithm did not converge\n",
      "  warn('The line search algorithm did not converge', LineSearchWarning)\n",
      "C:\\Users\\ajaya\\anaconda3\\lib\\site-packages\\scipy\\optimize\\linesearch.py:477: LineSearchWarning: The line search algorithm did not converge\n",
      "  warn('The line search algorithm did not converge', LineSearchWarning)\n",
      "C:\\Users\\ajaya\\anaconda3\\lib\\site-packages\\scipy\\optimize\\linesearch.py:327: LineSearchWarning: The line search algorithm did not converge\n",
      "  warn('The line search algorithm did not converge', LineSearchWarning)\n",
      "C:\\Users\\ajaya\\anaconda3\\lib\\site-packages\\scipy\\optimize\\linesearch.py:477: LineSearchWarning: The line search algorithm did not converge\n",
      "  warn('The line search algorithm did not converge', LineSearchWarning)\n",
      "C:\\Users\\ajaya\\anaconda3\\lib\\site-packages\\scipy\\optimize\\linesearch.py:327: LineSearchWarning: The line search algorithm did not converge\n",
      "  warn('The line search algorithm did not converge', LineSearchWarning)\n",
      "C:\\Users\\ajaya\\anaconda3\\lib\\site-packages\\scipy\\optimize\\linesearch.py:477: LineSearchWarning: The line search algorithm did not converge\n",
      "  warn('The line search algorithm did not converge', LineSearchWarning)\n",
      "C:\\Users\\ajaya\\anaconda3\\lib\\site-packages\\scipy\\optimize\\linesearch.py:327: LineSearchWarning: The line search algorithm did not converge\n",
      "  warn('The line search algorithm did not converge', LineSearchWarning)\n",
      "C:\\Users\\ajaya\\anaconda3\\lib\\site-packages\\scipy\\optimize\\linesearch.py:477: LineSearchWarning: The line search algorithm did not converge\n",
      "  warn('The line search algorithm did not converge', LineSearchWarning)\n",
      "C:\\Users\\ajaya\\anaconda3\\lib\\site-packages\\scipy\\optimize\\linesearch.py:327: LineSearchWarning: The line search algorithm did not converge\n",
      "  warn('The line search algorithm did not converge', LineSearchWarning)\n",
      "C:\\Users\\ajaya\\anaconda3\\lib\\site-packages\\sklearn\\utils\\optimize.py:211: ConvergenceWarning: newton-cg failed to converge. Increase the number of iterations.\n",
      "  warnings.warn(\"newton-cg failed to converge. Increase the \"\n",
      "C:\\Users\\ajaya\\anaconda3\\lib\\site-packages\\sklearn\\utils\\optimize.py:211: ConvergenceWarning: newton-cg failed to converge. Increase the number of iterations.\n",
      "  warnings.warn(\"newton-cg failed to converge. Increase the \"\n",
      "C:\\Users\\ajaya\\anaconda3\\lib\\site-packages\\scipy\\optimize\\linesearch.py:477: LineSearchWarning: The line search algorithm did not converge\n",
      "  warn('The line search algorithm did not converge', LineSearchWarning)\n",
      "C:\\Users\\ajaya\\anaconda3\\lib\\site-packages\\scipy\\optimize\\linesearch.py:327: LineSearchWarning: The line search algorithm did not converge\n",
      "  warn('The line search algorithm did not converge', LineSearchWarning)\n",
      "C:\\Users\\ajaya\\anaconda3\\lib\\site-packages\\scipy\\optimize\\linesearch.py:477: LineSearchWarning: The line search algorithm did not converge\n",
      "  warn('The line search algorithm did not converge', LineSearchWarning)\n",
      "C:\\Users\\ajaya\\anaconda3\\lib\\site-packages\\scipy\\optimize\\linesearch.py:327: LineSearchWarning: The line search algorithm did not converge\n",
      "  warn('The line search algorithm did not converge', LineSearchWarning)\n",
      "C:\\Users\\ajaya\\anaconda3\\lib\\site-packages\\scipy\\optimize\\linesearch.py:477: LineSearchWarning: The line search algorithm did not converge\n",
      "  warn('The line search algorithm did not converge', LineSearchWarning)\n",
      "C:\\Users\\ajaya\\anaconda3\\lib\\site-packages\\scipy\\optimize\\linesearch.py:327: LineSearchWarning: The line search algorithm did not converge\n",
      "  warn('The line search algorithm did not converge', LineSearchWarning)\n",
      "C:\\Users\\ajaya\\anaconda3\\lib\\site-packages\\scipy\\optimize\\linesearch.py:477: LineSearchWarning: The line search algorithm did not converge\n",
      "  warn('The line search algorithm did not converge', LineSearchWarning)\n",
      "C:\\Users\\ajaya\\anaconda3\\lib\\site-packages\\scipy\\optimize\\linesearch.py:327: LineSearchWarning: The line search algorithm did not converge\n",
      "  warn('The line search algorithm did not converge', LineSearchWarning)\n",
      "C:\\Users\\ajaya\\anaconda3\\lib\\site-packages\\scipy\\optimize\\linesearch.py:477: LineSearchWarning: The line search algorithm did not converge\n",
      "  warn('The line search algorithm did not converge', LineSearchWarning)\n",
      "C:\\Users\\ajaya\\anaconda3\\lib\\site-packages\\scipy\\optimize\\linesearch.py:327: LineSearchWarning: The line search algorithm did not converge\n",
      "  warn('The line search algorithm did not converge', LineSearchWarning)\n",
      "C:\\Users\\ajaya\\anaconda3\\lib\\site-packages\\sklearn\\utils\\optimize.py:211: ConvergenceWarning: newton-cg failed to converge. Increase the number of iterations.\n",
      "  warnings.warn(\"newton-cg failed to converge. Increase the \"\n",
      "C:\\Users\\ajaya\\anaconda3\\lib\\site-packages\\sklearn\\linear_model\\_logistic.py:762: ConvergenceWarning: lbfgs failed to converge (status=1):\n",
      "STOP: TOTAL NO. of ITERATIONS REACHED LIMIT.\n",
      "\n",
      "Increase the number of iterations (max_iter) or scale the data as shown in:\n",
      "    https://scikit-learn.org/stable/modules/preprocessing.html\n",
      "Please also refer to the documentation for alternative solver options:\n",
      "    https://scikit-learn.org/stable/modules/linear_model.html#logistic-regression\n",
      "  n_iter_i = _check_optimize_result(\n",
      "C:\\Users\\ajaya\\anaconda3\\lib\\site-packages\\scipy\\optimize\\linesearch.py:477: LineSearchWarning: The line search algorithm did not converge\n",
      "  warn('The line search algorithm did not converge', LineSearchWarning)\n",
      "C:\\Users\\ajaya\\anaconda3\\lib\\site-packages\\scipy\\optimize\\linesearch.py:327: LineSearchWarning: The line search algorithm did not converge\n",
      "  warn('The line search algorithm did not converge', LineSearchWarning)\n",
      "C:\\Users\\ajaya\\anaconda3\\lib\\site-packages\\scipy\\optimize\\linesearch.py:477: LineSearchWarning: The line search algorithm did not converge\n",
      "  warn('The line search algorithm did not converge', LineSearchWarning)\n",
      "C:\\Users\\ajaya\\anaconda3\\lib\\site-packages\\scipy\\optimize\\linesearch.py:327: LineSearchWarning: The line search algorithm did not converge\n",
      "  warn('The line search algorithm did not converge', LineSearchWarning)\n",
      "C:\\Users\\ajaya\\anaconda3\\lib\\site-packages\\sklearn\\utils\\optimize.py:211: ConvergenceWarning: newton-cg failed to converge. Increase the number of iterations.\n",
      "  warnings.warn(\"newton-cg failed to converge. Increase the \"\n",
      "C:\\Users\\ajaya\\anaconda3\\lib\\site-packages\\scipy\\optimize\\linesearch.py:477: LineSearchWarning: The line search algorithm did not converge\n",
      "  warn('The line search algorithm did not converge', LineSearchWarning)\n",
      "C:\\Users\\ajaya\\anaconda3\\lib\\site-packages\\scipy\\optimize\\linesearch.py:327: LineSearchWarning: The line search algorithm did not converge\n",
      "  warn('The line search algorithm did not converge', LineSearchWarning)\n",
      "C:\\Users\\ajaya\\anaconda3\\lib\\site-packages\\scipy\\optimize\\linesearch.py:477: LineSearchWarning: The line search algorithm did not converge\n",
      "  warn('The line search algorithm did not converge', LineSearchWarning)\n",
      "C:\\Users\\ajaya\\anaconda3\\lib\\site-packages\\scipy\\optimize\\linesearch.py:327: LineSearchWarning: The line search algorithm did not converge\n",
      "  warn('The line search algorithm did not converge', LineSearchWarning)\n",
      "C:\\Users\\ajaya\\anaconda3\\lib\\site-packages\\sklearn\\utils\\optimize.py:211: ConvergenceWarning: newton-cg failed to converge. Increase the number of iterations.\n",
      "  warnings.warn(\"newton-cg failed to converge. Increase the \"\n",
      "C:\\Users\\ajaya\\anaconda3\\lib\\site-packages\\scipy\\optimize\\linesearch.py:477: LineSearchWarning: The line search algorithm did not converge\n",
      "  warn('The line search algorithm did not converge', LineSearchWarning)\n",
      "C:\\Users\\ajaya\\anaconda3\\lib\\site-packages\\scipy\\optimize\\linesearch.py:327: LineSearchWarning: The line search algorithm did not converge\n",
      "  warn('The line search algorithm did not converge', LineSearchWarning)\n",
      "C:\\Users\\ajaya\\anaconda3\\lib\\site-packages\\scipy\\optimize\\linesearch.py:477: LineSearchWarning: The line search algorithm did not converge\n",
      "  warn('The line search algorithm did not converge', LineSearchWarning)\n",
      "C:\\Users\\ajaya\\anaconda3\\lib\\site-packages\\scipy\\optimize\\linesearch.py:327: LineSearchWarning: The line search algorithm did not converge\n",
      "  warn('The line search algorithm did not converge', LineSearchWarning)\n",
      "C:\\Users\\ajaya\\anaconda3\\lib\\site-packages\\sklearn\\utils\\optimize.py:211: ConvergenceWarning: newton-cg failed to converge. Increase the number of iterations.\n",
      "  warnings.warn(\"newton-cg failed to converge. Increase the \"\n",
      "C:\\Users\\ajaya\\anaconda3\\lib\\site-packages\\sklearn\\utils\\optimize.py:211: ConvergenceWarning: newton-cg failed to converge. Increase the number of iterations.\n",
      "  warnings.warn(\"newton-cg failed to converge. Increase the \"\n",
      "C:\\Users\\ajaya\\anaconda3\\lib\\site-packages\\scipy\\optimize\\linesearch.py:477: LineSearchWarning: The line search algorithm did not converge\n",
      "  warn('The line search algorithm did not converge', LineSearchWarning)\n",
      "C:\\Users\\ajaya\\anaconda3\\lib\\site-packages\\scipy\\optimize\\linesearch.py:327: LineSearchWarning: The line search algorithm did not converge\n",
      "  warn('The line search algorithm did not converge', LineSearchWarning)\n",
      "C:\\Users\\ajaya\\anaconda3\\lib\\site-packages\\scipy\\optimize\\linesearch.py:477: LineSearchWarning: The line search algorithm did not converge\n",
      "  warn('The line search algorithm did not converge', LineSearchWarning)\n",
      "C:\\Users\\ajaya\\anaconda3\\lib\\site-packages\\scipy\\optimize\\linesearch.py:327: LineSearchWarning: The line search algorithm did not converge\n",
      "  warn('The line search algorithm did not converge', LineSearchWarning)\n",
      "C:\\Users\\ajaya\\anaconda3\\lib\\site-packages\\sklearn\\utils\\optimize.py:211: ConvergenceWarning: newton-cg failed to converge. Increase the number of iterations.\n",
      "  warnings.warn(\"newton-cg failed to converge. Increase the \"\n",
      "C:\\Users\\ajaya\\anaconda3\\lib\\site-packages\\scipy\\optimize\\linesearch.py:477: LineSearchWarning: The line search algorithm did not converge\n",
      "  warn('The line search algorithm did not converge', LineSearchWarning)\n",
      "C:\\Users\\ajaya\\anaconda3\\lib\\site-packages\\scipy\\optimize\\linesearch.py:327: LineSearchWarning: The line search algorithm did not converge\n",
      "  warn('The line search algorithm did not converge', LineSearchWarning)\n",
      "C:\\Users\\ajaya\\anaconda3\\lib\\site-packages\\scipy\\optimize\\linesearch.py:477: LineSearchWarning: The line search algorithm did not converge\n",
      "  warn('The line search algorithm did not converge', LineSearchWarning)\n",
      "C:\\Users\\ajaya\\anaconda3\\lib\\site-packages\\scipy\\optimize\\linesearch.py:327: LineSearchWarning: The line search algorithm did not converge\n",
      "  warn('The line search algorithm did not converge', LineSearchWarning)\n",
      "C:\\Users\\ajaya\\anaconda3\\lib\\site-packages\\scipy\\optimize\\linesearch.py:477: LineSearchWarning: The line search algorithm did not converge\n",
      "  warn('The line search algorithm did not converge', LineSearchWarning)\n",
      "C:\\Users\\ajaya\\anaconda3\\lib\\site-packages\\scipy\\optimize\\linesearch.py:327: LineSearchWarning: The line search algorithm did not converge\n",
      "  warn('The line search algorithm did not converge', LineSearchWarning)\n",
      "C:\\Users\\ajaya\\anaconda3\\lib\\site-packages\\scipy\\optimize\\linesearch.py:477: LineSearchWarning: The line search algorithm did not converge\n",
      "  warn('The line search algorithm did not converge', LineSearchWarning)\n",
      "C:\\Users\\ajaya\\anaconda3\\lib\\site-packages\\scipy\\optimize\\linesearch.py:327: LineSearchWarning: The line search algorithm did not converge\n",
      "  warn('The line search algorithm did not converge', LineSearchWarning)\n",
      "C:\\Users\\ajaya\\anaconda3\\lib\\site-packages\\scipy\\optimize\\linesearch.py:477: LineSearchWarning: The line search algorithm did not converge\n",
      "  warn('The line search algorithm did not converge', LineSearchWarning)\n",
      "C:\\Users\\ajaya\\anaconda3\\lib\\site-packages\\scipy\\optimize\\linesearch.py:327: LineSearchWarning: The line search algorithm did not converge\n",
      "  warn('The line search algorithm did not converge', LineSearchWarning)\n",
      "C:\\Users\\ajaya\\anaconda3\\lib\\site-packages\\scipy\\optimize\\linesearch.py:477: LineSearchWarning: The line search algorithm did not converge\n",
      "  warn('The line search algorithm did not converge', LineSearchWarning)\n",
      "C:\\Users\\ajaya\\anaconda3\\lib\\site-packages\\scipy\\optimize\\linesearch.py:327: LineSearchWarning: The line search algorithm did not converge\n",
      "  warn('The line search algorithm did not converge', LineSearchWarning)\n",
      "C:\\Users\\ajaya\\anaconda3\\lib\\site-packages\\scipy\\optimize\\linesearch.py:477: LineSearchWarning: The line search algorithm did not converge\n",
      "  warn('The line search algorithm did not converge', LineSearchWarning)\n",
      "C:\\Users\\ajaya\\anaconda3\\lib\\site-packages\\scipy\\optimize\\linesearch.py:327: LineSearchWarning: The line search algorithm did not converge\n",
      "  warn('The line search algorithm did not converge', LineSearchWarning)\n",
      "C:\\Users\\ajaya\\anaconda3\\lib\\site-packages\\scipy\\optimize\\linesearch.py:477: LineSearchWarning: The line search algorithm did not converge\n",
      "  warn('The line search algorithm did not converge', LineSearchWarning)\n",
      "C:\\Users\\ajaya\\anaconda3\\lib\\site-packages\\scipy\\optimize\\linesearch.py:327: LineSearchWarning: The line search algorithm did not converge\n",
      "  warn('The line search algorithm did not converge', LineSearchWarning)\n",
      "C:\\Users\\ajaya\\anaconda3\\lib\\site-packages\\scipy\\optimize\\linesearch.py:477: LineSearchWarning: The line search algorithm did not converge\n",
      "  warn('The line search algorithm did not converge', LineSearchWarning)\n",
      "C:\\Users\\ajaya\\anaconda3\\lib\\site-packages\\scipy\\optimize\\linesearch.py:327: LineSearchWarning: The line search algorithm did not converge\n",
      "  warn('The line search algorithm did not converge', LineSearchWarning)\n",
      "C:\\Users\\ajaya\\anaconda3\\lib\\site-packages\\scipy\\optimize\\linesearch.py:477: LineSearchWarning: The line search algorithm did not converge\n",
      "  warn('The line search algorithm did not converge', LineSearchWarning)\n",
      "C:\\Users\\ajaya\\anaconda3\\lib\\site-packages\\scipy\\optimize\\linesearch.py:327: LineSearchWarning: The line search algorithm did not converge\n",
      "  warn('The line search algorithm did not converge', LineSearchWarning)\n",
      "C:\\Users\\ajaya\\anaconda3\\lib\\site-packages\\scipy\\optimize\\linesearch.py:477: LineSearchWarning: The line search algorithm did not converge\n",
      "  warn('The line search algorithm did not converge', LineSearchWarning)\n",
      "C:\\Users\\ajaya\\anaconda3\\lib\\site-packages\\scipy\\optimize\\linesearch.py:327: LineSearchWarning: The line search algorithm did not converge\n",
      "  warn('The line search algorithm did not converge', LineSearchWarning)\n",
      "C:\\Users\\ajaya\\anaconda3\\lib\\site-packages\\scipy\\optimize\\linesearch.py:477: LineSearchWarning: The line search algorithm did not converge\n",
      "  warn('The line search algorithm did not converge', LineSearchWarning)\n",
      "C:\\Users\\ajaya\\anaconda3\\lib\\site-packages\\scipy\\optimize\\linesearch.py:327: LineSearchWarning: The line search algorithm did not converge\n",
      "  warn('The line search algorithm did not converge', LineSearchWarning)\n",
      "C:\\Users\\ajaya\\anaconda3\\lib\\site-packages\\scipy\\optimize\\linesearch.py:477: LineSearchWarning: The line search algorithm did not converge\n",
      "  warn('The line search algorithm did not converge', LineSearchWarning)\n",
      "C:\\Users\\ajaya\\anaconda3\\lib\\site-packages\\scipy\\optimize\\linesearch.py:327: LineSearchWarning: The line search algorithm did not converge\n",
      "  warn('The line search algorithm did not converge', LineSearchWarning)\n",
      "C:\\Users\\ajaya\\anaconda3\\lib\\site-packages\\scipy\\optimize\\linesearch.py:477: LineSearchWarning: The line search algorithm did not converge\n",
      "  warn('The line search algorithm did not converge', LineSearchWarning)\n",
      "C:\\Users\\ajaya\\anaconda3\\lib\\site-packages\\scipy\\optimize\\linesearch.py:327: LineSearchWarning: The line search algorithm did not converge\n",
      "  warn('The line search algorithm did not converge', LineSearchWarning)\n",
      "C:\\Users\\ajaya\\anaconda3\\lib\\site-packages\\scipy\\optimize\\linesearch.py:477: LineSearchWarning: The line search algorithm did not converge\n",
      "  warn('The line search algorithm did not converge', LineSearchWarning)\n",
      "C:\\Users\\ajaya\\anaconda3\\lib\\site-packages\\scipy\\optimize\\linesearch.py:327: LineSearchWarning: The line search algorithm did not converge\n",
      "  warn('The line search algorithm did not converge', LineSearchWarning)\n",
      "C:\\Users\\ajaya\\anaconda3\\lib\\site-packages\\scipy\\optimize\\linesearch.py:477: LineSearchWarning: The line search algorithm did not converge\n",
      "  warn('The line search algorithm did not converge', LineSearchWarning)\n",
      "C:\\Users\\ajaya\\anaconda3\\lib\\site-packages\\scipy\\optimize\\linesearch.py:327: LineSearchWarning: The line search algorithm did not converge\n",
      "  warn('The line search algorithm did not converge', LineSearchWarning)\n",
      "C:\\Users\\ajaya\\anaconda3\\lib\\site-packages\\scipy\\optimize\\linesearch.py:477: LineSearchWarning: The line search algorithm did not converge\n",
      "  warn('The line search algorithm did not converge', LineSearchWarning)\n",
      "C:\\Users\\ajaya\\anaconda3\\lib\\site-packages\\scipy\\optimize\\linesearch.py:327: LineSearchWarning: The line search algorithm did not converge\n",
      "  warn('The line search algorithm did not converge', LineSearchWarning)\n",
      "C:\\Users\\ajaya\\anaconda3\\lib\\site-packages\\scipy\\optimize\\linesearch.py:477: LineSearchWarning: The line search algorithm did not converge\n",
      "  warn('The line search algorithm did not converge', LineSearchWarning)\n",
      "C:\\Users\\ajaya\\anaconda3\\lib\\site-packages\\scipy\\optimize\\linesearch.py:327: LineSearchWarning: The line search algorithm did not converge\n",
      "  warn('The line search algorithm did not converge', LineSearchWarning)\n",
      "C:\\Users\\ajaya\\anaconda3\\lib\\site-packages\\scipy\\optimize\\linesearch.py:437: LineSearchWarning: Rounding errors prevent the line search from converging\n",
      "  warn(msg, LineSearchWarning)\n",
      "C:\\Users\\ajaya\\anaconda3\\lib\\site-packages\\scipy\\optimize\\linesearch.py:327: LineSearchWarning: The line search algorithm did not converge\n",
      "  warn('The line search algorithm did not converge', LineSearchWarning)\n",
      "C:\\Users\\ajaya\\anaconda3\\lib\\site-packages\\sklearn\\utils\\optimize.py:204: UserWarning: Line Search failed\n",
      "  warnings.warn('Line Search failed')\n",
      "C:\\Users\\ajaya\\anaconda3\\lib\\site-packages\\scipy\\optimize\\linesearch.py:477: LineSearchWarning: The line search algorithm did not converge\n",
      "  warn('The line search algorithm did not converge', LineSearchWarning)\n",
      "C:\\Users\\ajaya\\anaconda3\\lib\\site-packages\\scipy\\optimize\\linesearch.py:327: LineSearchWarning: The line search algorithm did not converge\n",
      "  warn('The line search algorithm did not converge', LineSearchWarning)\n",
      "C:\\Users\\ajaya\\anaconda3\\lib\\site-packages\\scipy\\optimize\\linesearch.py:477: LineSearchWarning: The line search algorithm did not converge\n",
      "  warn('The line search algorithm did not converge', LineSearchWarning)\n",
      "C:\\Users\\ajaya\\anaconda3\\lib\\site-packages\\scipy\\optimize\\linesearch.py:327: LineSearchWarning: The line search algorithm did not converge\n",
      "  warn('The line search algorithm did not converge', LineSearchWarning)\n",
      "C:\\Users\\ajaya\\anaconda3\\lib\\site-packages\\scipy\\optimize\\linesearch.py:477: LineSearchWarning: The line search algorithm did not converge\n",
      "  warn('The line search algorithm did not converge', LineSearchWarning)\n",
      "C:\\Users\\ajaya\\anaconda3\\lib\\site-packages\\scipy\\optimize\\linesearch.py:327: LineSearchWarning: The line search algorithm did not converge\n",
      "  warn('The line search algorithm did not converge', LineSearchWarning)\n",
      "C:\\Users\\ajaya\\anaconda3\\lib\\site-packages\\scipy\\optimize\\linesearch.py:477: LineSearchWarning: The line search algorithm did not converge\n",
      "  warn('The line search algorithm did not converge', LineSearchWarning)\n",
      "C:\\Users\\ajaya\\anaconda3\\lib\\site-packages\\scipy\\optimize\\linesearch.py:327: LineSearchWarning: The line search algorithm did not converge\n",
      "  warn('The line search algorithm did not converge', LineSearchWarning)\n",
      "C:\\Users\\ajaya\\anaconda3\\lib\\site-packages\\scipy\\optimize\\linesearch.py:477: LineSearchWarning: The line search algorithm did not converge\n",
      "  warn('The line search algorithm did not converge', LineSearchWarning)\n",
      "C:\\Users\\ajaya\\anaconda3\\lib\\site-packages\\scipy\\optimize\\linesearch.py:327: LineSearchWarning: The line search algorithm did not converge\n",
      "  warn('The line search algorithm did not converge', LineSearchWarning)\n",
      "C:\\Users\\ajaya\\anaconda3\\lib\\site-packages\\scipy\\optimize\\linesearch.py:477: LineSearchWarning: The line search algorithm did not converge\n",
      "  warn('The line search algorithm did not converge', LineSearchWarning)\n",
      "C:\\Users\\ajaya\\anaconda3\\lib\\site-packages\\scipy\\optimize\\linesearch.py:327: LineSearchWarning: The line search algorithm did not converge\n",
      "  warn('The line search algorithm did not converge', LineSearchWarning)\n",
      "C:\\Users\\ajaya\\anaconda3\\lib\\site-packages\\scipy\\optimize\\linesearch.py:477: LineSearchWarning: The line search algorithm did not converge\n",
      "  warn('The line search algorithm did not converge', LineSearchWarning)\n",
      "C:\\Users\\ajaya\\anaconda3\\lib\\site-packages\\scipy\\optimize\\linesearch.py:327: LineSearchWarning: The line search algorithm did not converge\n",
      "  warn('The line search algorithm did not converge', LineSearchWarning)\n",
      "C:\\Users\\ajaya\\anaconda3\\lib\\site-packages\\scipy\\optimize\\linesearch.py:477: LineSearchWarning: The line search algorithm did not converge\n",
      "  warn('The line search algorithm did not converge', LineSearchWarning)\n",
      "C:\\Users\\ajaya\\anaconda3\\lib\\site-packages\\scipy\\optimize\\linesearch.py:327: LineSearchWarning: The line search algorithm did not converge\n",
      "  warn('The line search algorithm did not converge', LineSearchWarning)\n",
      "C:\\Users\\ajaya\\anaconda3\\lib\\site-packages\\scipy\\optimize\\linesearch.py:477: LineSearchWarning: The line search algorithm did not converge\n",
      "  warn('The line search algorithm did not converge', LineSearchWarning)\n",
      "C:\\Users\\ajaya\\anaconda3\\lib\\site-packages\\scipy\\optimize\\linesearch.py:327: LineSearchWarning: The line search algorithm did not converge\n",
      "  warn('The line search algorithm did not converge', LineSearchWarning)\n",
      "C:\\Users\\ajaya\\anaconda3\\lib\\site-packages\\scipy\\optimize\\linesearch.py:477: LineSearchWarning: The line search algorithm did not converge\n",
      "  warn('The line search algorithm did not converge', LineSearchWarning)\n",
      "C:\\Users\\ajaya\\anaconda3\\lib\\site-packages\\scipy\\optimize\\linesearch.py:327: LineSearchWarning: The line search algorithm did not converge\n",
      "  warn('The line search algorithm did not converge', LineSearchWarning)\n",
      "C:\\Users\\ajaya\\anaconda3\\lib\\site-packages\\scipy\\optimize\\linesearch.py:477: LineSearchWarning: The line search algorithm did not converge\n",
      "  warn('The line search algorithm did not converge', LineSearchWarning)\n",
      "C:\\Users\\ajaya\\anaconda3\\lib\\site-packages\\scipy\\optimize\\linesearch.py:327: LineSearchWarning: The line search algorithm did not converge\n",
      "  warn('The line search algorithm did not converge', LineSearchWarning)\n",
      "C:\\Users\\ajaya\\anaconda3\\lib\\site-packages\\scipy\\optimize\\linesearch.py:477: LineSearchWarning: The line search algorithm did not converge\n",
      "  warn('The line search algorithm did not converge', LineSearchWarning)\n",
      "C:\\Users\\ajaya\\anaconda3\\lib\\site-packages\\scipy\\optimize\\linesearch.py:327: LineSearchWarning: The line search algorithm did not converge\n",
      "  warn('The line search algorithm did not converge', LineSearchWarning)\n",
      "C:\\Users\\ajaya\\anaconda3\\lib\\site-packages\\scipy\\optimize\\linesearch.py:477: LineSearchWarning: The line search algorithm did not converge\n",
      "  warn('The line search algorithm did not converge', LineSearchWarning)\n",
      "C:\\Users\\ajaya\\anaconda3\\lib\\site-packages\\scipy\\optimize\\linesearch.py:327: LineSearchWarning: The line search algorithm did not converge\n",
      "  warn('The line search algorithm did not converge', LineSearchWarning)\n",
      "C:\\Users\\ajaya\\anaconda3\\lib\\site-packages\\scipy\\optimize\\linesearch.py:477: LineSearchWarning: The line search algorithm did not converge\n",
      "  warn('The line search algorithm did not converge', LineSearchWarning)\n",
      "C:\\Users\\ajaya\\anaconda3\\lib\\site-packages\\scipy\\optimize\\linesearch.py:327: LineSearchWarning: The line search algorithm did not converge\n",
      "  warn('The line search algorithm did not converge', LineSearchWarning)\n",
      "C:\\Users\\ajaya\\anaconda3\\lib\\site-packages\\scipy\\optimize\\linesearch.py:477: LineSearchWarning: The line search algorithm did not converge\n",
      "  warn('The line search algorithm did not converge', LineSearchWarning)\n",
      "C:\\Users\\ajaya\\anaconda3\\lib\\site-packages\\scipy\\optimize\\linesearch.py:327: LineSearchWarning: The line search algorithm did not converge\n",
      "  warn('The line search algorithm did not converge', LineSearchWarning)\n",
      "C:\\Users\\ajaya\\anaconda3\\lib\\site-packages\\scipy\\optimize\\linesearch.py:477: LineSearchWarning: The line search algorithm did not converge\n",
      "  warn('The line search algorithm did not converge', LineSearchWarning)\n",
      "C:\\Users\\ajaya\\anaconda3\\lib\\site-packages\\scipy\\optimize\\linesearch.py:327: LineSearchWarning: The line search algorithm did not converge\n",
      "  warn('The line search algorithm did not converge', LineSearchWarning)\n",
      "C:\\Users\\ajaya\\anaconda3\\lib\\site-packages\\scipy\\optimize\\linesearch.py:477: LineSearchWarning: The line search algorithm did not converge\n",
      "  warn('The line search algorithm did not converge', LineSearchWarning)\n",
      "C:\\Users\\ajaya\\anaconda3\\lib\\site-packages\\scipy\\optimize\\linesearch.py:327: LineSearchWarning: The line search algorithm did not converge\n",
      "  warn('The line search algorithm did not converge', LineSearchWarning)\n",
      "C:\\Users\\ajaya\\anaconda3\\lib\\site-packages\\scipy\\optimize\\linesearch.py:477: LineSearchWarning: The line search algorithm did not converge\n",
      "  warn('The line search algorithm did not converge', LineSearchWarning)\n",
      "C:\\Users\\ajaya\\anaconda3\\lib\\site-packages\\scipy\\optimize\\linesearch.py:327: LineSearchWarning: The line search algorithm did not converge\n",
      "  warn('The line search algorithm did not converge', LineSearchWarning)\n",
      "C:\\Users\\ajaya\\anaconda3\\lib\\site-packages\\scipy\\optimize\\linesearch.py:437: LineSearchWarning: Rounding errors prevent the line search from converging\n",
      "  warn(msg, LineSearchWarning)\n",
      "C:\\Users\\ajaya\\anaconda3\\lib\\site-packages\\scipy\\optimize\\linesearch.py:327: LineSearchWarning: The line search algorithm did not converge\n",
      "  warn('The line search algorithm did not converge', LineSearchWarning)\n",
      "C:\\Users\\ajaya\\anaconda3\\lib\\site-packages\\sklearn\\utils\\optimize.py:204: UserWarning: Line Search failed\n",
      "  warnings.warn('Line Search failed')\n",
      "C:\\Users\\ajaya\\anaconda3\\lib\\site-packages\\scipy\\optimize\\linesearch.py:477: LineSearchWarning: The line search algorithm did not converge\n",
      "  warn('The line search algorithm did not converge', LineSearchWarning)\n",
      "C:\\Users\\ajaya\\anaconda3\\lib\\site-packages\\scipy\\optimize\\linesearch.py:327: LineSearchWarning: The line search algorithm did not converge\n",
      "  warn('The line search algorithm did not converge', LineSearchWarning)\n",
      "C:\\Users\\ajaya\\anaconda3\\lib\\site-packages\\scipy\\optimize\\linesearch.py:477: LineSearchWarning: The line search algorithm did not converge\n",
      "  warn('The line search algorithm did not converge', LineSearchWarning)\n",
      "C:\\Users\\ajaya\\anaconda3\\lib\\site-packages\\scipy\\optimize\\linesearch.py:327: LineSearchWarning: The line search algorithm did not converge\n",
      "  warn('The line search algorithm did not converge', LineSearchWarning)\n",
      "C:\\Users\\ajaya\\anaconda3\\lib\\site-packages\\scipy\\optimize\\linesearch.py:477: LineSearchWarning: The line search algorithm did not converge\n",
      "  warn('The line search algorithm did not converge', LineSearchWarning)\n",
      "C:\\Users\\ajaya\\anaconda3\\lib\\site-packages\\scipy\\optimize\\linesearch.py:327: LineSearchWarning: The line search algorithm did not converge\n",
      "  warn('The line search algorithm did not converge', LineSearchWarning)\n",
      "C:\\Users\\ajaya\\anaconda3\\lib\\site-packages\\scipy\\optimize\\linesearch.py:477: LineSearchWarning: The line search algorithm did not converge\n",
      "  warn('The line search algorithm did not converge', LineSearchWarning)\n",
      "C:\\Users\\ajaya\\anaconda3\\lib\\site-packages\\scipy\\optimize\\linesearch.py:327: LineSearchWarning: The line search algorithm did not converge\n",
      "  warn('The line search algorithm did not converge', LineSearchWarning)\n",
      "C:\\Users\\ajaya\\anaconda3\\lib\\site-packages\\scipy\\optimize\\linesearch.py:477: LineSearchWarning: The line search algorithm did not converge\n",
      "  warn('The line search algorithm did not converge', LineSearchWarning)\n",
      "C:\\Users\\ajaya\\anaconda3\\lib\\site-packages\\scipy\\optimize\\linesearch.py:327: LineSearchWarning: The line search algorithm did not converge\n",
      "  warn('The line search algorithm did not converge', LineSearchWarning)\n",
      "C:\\Users\\ajaya\\anaconda3\\lib\\site-packages\\scipy\\optimize\\linesearch.py:477: LineSearchWarning: The line search algorithm did not converge\n",
      "  warn('The line search algorithm did not converge', LineSearchWarning)\n",
      "C:\\Users\\ajaya\\anaconda3\\lib\\site-packages\\scipy\\optimize\\linesearch.py:327: LineSearchWarning: The line search algorithm did not converge\n",
      "  warn('The line search algorithm did not converge', LineSearchWarning)\n",
      "C:\\Users\\ajaya\\anaconda3\\lib\\site-packages\\scipy\\optimize\\linesearch.py:477: LineSearchWarning: The line search algorithm did not converge\n",
      "  warn('The line search algorithm did not converge', LineSearchWarning)\n",
      "C:\\Users\\ajaya\\anaconda3\\lib\\site-packages\\scipy\\optimize\\linesearch.py:327: LineSearchWarning: The line search algorithm did not converge\n",
      "  warn('The line search algorithm did not converge', LineSearchWarning)\n",
      "C:\\Users\\ajaya\\anaconda3\\lib\\site-packages\\scipy\\optimize\\linesearch.py:477: LineSearchWarning: The line search algorithm did not converge\n",
      "  warn('The line search algorithm did not converge', LineSearchWarning)\n",
      "C:\\Users\\ajaya\\anaconda3\\lib\\site-packages\\scipy\\optimize\\linesearch.py:327: LineSearchWarning: The line search algorithm did not converge\n",
      "  warn('The line search algorithm did not converge', LineSearchWarning)\n",
      "[Parallel(n_jobs=1)]: Done 100 out of 100 | elapsed:   19.0s finished\n"
     ]
    }
   ],
   "source": [
    "np.random.seed(42)\n",
    "\n",
    "Rs_cv = RandomizedSearchCV(LogisticRegression(),\n",
    "                           param_distributions = log_reg_rs,\n",
    "                           cv=5,\n",
    "                           n_iter=20,\n",
    "                           verbose=True)\n",
    "\n",
    "Rs_cv.fit(X_train, y_train);"
   ]
  },
  {
   "cell_type": "code",
   "execution_count": 45,
   "metadata": {},
   "outputs": [
    {
     "data": {
      "text/plain": [
       "{'solver': 'liblinear', 'C': 11.288378916846883}"
      ]
     },
     "execution_count": 45,
     "metadata": {},
     "output_type": "execute_result"
    }
   ],
   "source": [
    "Rs_cv.best_params_"
   ]
  },
  {
   "cell_type": "code",
   "execution_count": 46,
   "metadata": {},
   "outputs": [
    {
     "data": {
      "text/plain": [
       "0.9390862944162437"
      ]
     },
     "execution_count": 46,
     "metadata": {},
     "output_type": "execute_result"
    }
   ],
   "source": [
    "Rs_cv.score(X_test, y_test)"
   ]
  },
  {
   "cell_type": "markdown",
   "metadata": {},
   "source": [
    "### Tuning RandomForestClassifier by using RandomizedSearcchCV"
   ]
  },
  {
   "cell_type": "code",
   "execution_count": 47,
   "metadata": {},
   "outputs": [
    {
     "name": "stdout",
     "output_type": "stream",
     "text": [
      "Fitting 5 folds for each of 20 candidates, totalling 100 fits\n"
     ]
    },
    {
     "name": "stderr",
     "output_type": "stream",
     "text": [
      "[Parallel(n_jobs=1)]: Using backend SequentialBackend with 1 concurrent workers.\n",
      "[Parallel(n_jobs=1)]: Done 100 out of 100 | elapsed:  3.9min finished\n"
     ]
    }
   ],
   "source": [
    "np.random.seed(42)\n",
    "\n",
    "rand_cv  = RandomizedSearchCV(RandomForestClassifier(),\n",
    "                              param_distributions=rf_rs,\n",
    "                              cv=5,\n",
    "                              n_iter=20,\n",
    "                              verbose=True)\n",
    "\n",
    "rand_cv.fit(X_train, y_train);"
   ]
  },
  {
   "cell_type": "code",
   "execution_count": 48,
   "metadata": {},
   "outputs": [
    {
     "data": {
      "text/plain": [
       "{'n_estimators': 460,\n",
       " 'min_samples_split': 2,\n",
       " 'min_samples_leaf': 5,\n",
       " 'max_depth': None}"
      ]
     },
     "execution_count": 48,
     "metadata": {},
     "output_type": "execute_result"
    }
   ],
   "source": [
    "rand_cv.best_params_"
   ]
  },
  {
   "cell_type": "code",
   "execution_count": 49,
   "metadata": {},
   "outputs": [
    {
     "data": {
      "text/plain": [
       "0.9238578680203046"
      ]
     },
     "execution_count": 49,
     "metadata": {},
     "output_type": "execute_result"
    }
   ],
   "source": [
    "rand_cv.score(X_test, y_test)"
   ]
  },
  {
   "cell_type": "code",
   "execution_count": null,
   "metadata": {},
   "outputs": [],
   "source": []
  },
  {
   "cell_type": "markdown",
   "metadata": {},
   "source": [
    "### Tuning LogisticRegression using GridSearchCV"
   ]
  },
  {
   "cell_type": "code",
   "execution_count": 50,
   "metadata": {},
   "outputs": [
    {
     "name": "stdout",
     "output_type": "stream",
     "text": [
      "Fitting 5 folds for each of 20 candidates, totalling 100 fits\n"
     ]
    },
    {
     "name": "stderr",
     "output_type": "stream",
     "text": [
      "[Parallel(n_jobs=1)]: Using backend SequentialBackend with 1 concurrent workers.\n",
      "[Parallel(n_jobs=1)]: Done 100 out of 100 | elapsed:    2.3s finished\n"
     ]
    }
   ],
   "source": [
    "# Different LogisticRegression hyperparameters\n",
    "log_reg_grid = {\"C\": np.logspace(-4, 4, 20),\n",
    "                \"solver\": [\"liblinear\"]}\n",
    "\n",
    "# Setup grid hyperparameter search for LogisticRegression\n",
    "gs_log_reg = GridSearchCV(LogisticRegression(),\n",
    "                          param_grid=log_reg_grid,\n",
    "                          cv=5,\n",
    "                          verbose=True)\n",
    "\n",
    "# Fit grid hyperparameter search model\n",
    "gs_log_reg.fit(X_train, y_train);"
   ]
  },
  {
   "cell_type": "code",
   "execution_count": 51,
   "metadata": {},
   "outputs": [
    {
     "data": {
      "text/plain": [
       "{'C': 0.03359818286283781, 'solver': 'liblinear'}"
      ]
     },
     "execution_count": 51,
     "metadata": {},
     "output_type": "execute_result"
    }
   ],
   "source": [
    "gs_log_reg.best_params_"
   ]
  },
  {
   "cell_type": "code",
   "execution_count": 52,
   "metadata": {},
   "outputs": [
    {
     "data": {
      "text/plain": [
       "0.9390862944162437"
      ]
     },
     "execution_count": 52,
     "metadata": {},
     "output_type": "execute_result"
    }
   ],
   "source": [
    "gs_log_reg.score(X_test, y_test)"
   ]
  },
  {
   "cell_type": "markdown",
   "metadata": {},
   "source": [
    "Now, we can see here that our model has improved a little bit and has a good accuracy after we have tuned the hyperparameters\n",
    "Both of the LogisticRegression and RandomForestClassifier gives a good accuracy and therefore both are the best fit models for \n",
    "this project but since Logistic Regression gives a bit higher score than the Random forest classifier therefore we can give more priority to use that model in this project\n",
    "\n",
    "So this is how we have modelled our project and got an accuracy of above 92% that means that the model can predict 92% correct predictions out of 100%\n",
    "\n",
    "This is the end of our modelling part, Now we are going to make predictions on our data and we will also be evaluating our model by some of the metrics.."
   ]
  },
  {
   "cell_type": "markdown",
   "metadata": {},
   "source": [
    "## Evaluating our model "
   ]
  },
  {
   "cell_type": "markdown",
   "metadata": {},
   "source": [
    "In this section we will be evaluating our model based on the prediction it makes, we will be plotting ROC curve and calculate the AUC(Area under ROC curve) and lots of things to evaluate our model..."
   ]
  },
  {
   "cell_type": "markdown",
   "metadata": {},
   "source": [
    "Now, lets make predictions on our data we can do that by calling predict() method"
   ]
  },
  {
   "cell_type": "code",
   "execution_count": 53,
   "metadata": {},
   "outputs": [],
   "source": [
    "#lets predict our data\n",
    "y_preds = gs_log_reg.predict(X_test)"
   ]
  },
  {
   "cell_type": "code",
   "execution_count": 54,
   "metadata": {},
   "outputs": [
    {
     "data": {
      "text/plain": [
       "array([1, 0, 1, 0, 0, 1, 1, 0, 1, 1, 1, 1, 0, 0, 0, 0, 0, 1, 1, 0, 0, 0,\n",
       "       1, 0, 1, 0, 0, 0, 0, 0, 0, 0, 0, 0, 1, 0, 0, 0, 0, 0, 0, 0, 1, 0,\n",
       "       1, 1, 0, 0, 0, 1, 1, 0, 1, 1, 1, 1, 1, 0, 1, 1, 0, 0, 0, 0, 0, 0,\n",
       "       1, 0, 0, 1, 0, 0, 0, 1, 0, 0, 0, 0, 0, 0, 1, 1, 1, 1, 0, 0, 0, 1,\n",
       "       1, 1, 0, 0, 1, 1, 1, 1, 0, 1, 1, 1, 1, 1, 0, 1, 1, 1, 0, 1, 1, 1,\n",
       "       1, 0, 1, 0, 1, 0, 0, 1, 0, 1, 0, 1, 0, 1, 1, 1, 1, 0, 0, 1, 1, 1,\n",
       "       0, 0, 1, 0, 0, 0, 1, 1, 1, 1, 1, 0, 1, 0, 0, 0, 0, 0, 0, 0, 0, 0,\n",
       "       0, 1, 1, 0, 1, 0, 0, 0, 0, 1, 1, 0, 1, 1, 0, 0, 1, 1, 0, 0, 0, 0,\n",
       "       0, 0, 1, 0, 1, 1, 0, 0, 0, 1, 0, 1, 1, 1, 1, 1, 0, 0, 1, 0, 1],\n",
       "      dtype=int64)"
      ]
     },
     "execution_count": 54,
     "metadata": {},
     "output_type": "execute_result"
    }
   ],
   "source": [
    "y_preds # data our model predicted"
   ]
  },
  {
   "cell_type": "code",
   "execution_count": 55,
   "metadata": {},
   "outputs": [
    {
     "data": {
      "text/plain": [
       "array([1, 0, 1, 0, 0, 1, 1, 0, 1, 1, 0, 1, 1, 1, 0, 0, 0, 1, 1, 0, 0, 0,\n",
       "       1, 0, 1, 0, 0, 0, 0, 0, 0, 0, 0, 0, 1, 0, 0, 0, 0, 0, 0, 0, 1, 0,\n",
       "       1, 1, 1, 0, 0, 1, 1, 0, 1, 1, 1, 1, 1, 0, 1, 1, 0, 0, 0, 0, 0, 0,\n",
       "       1, 0, 0, 1, 0, 0, 0, 1, 1, 0, 1, 0, 1, 0, 1, 1, 1, 1, 0, 1, 0, 1,\n",
       "       1, 1, 0, 0, 1, 1, 1, 1, 1, 1, 1, 1, 1, 1, 0, 1, 1, 1, 0, 1, 1, 1,\n",
       "       1, 0, 1, 0, 1, 0, 0, 1, 0, 1, 0, 1, 0, 1, 1, 1, 1, 0, 0, 1, 1, 1,\n",
       "       0, 0, 1, 0, 0, 0, 1, 1, 1, 1, 1, 0, 1, 0, 0, 0, 0, 0, 0, 0, 0, 1,\n",
       "       0, 1, 1, 0, 1, 0, 0, 0, 0, 1, 1, 1, 1, 1, 0, 0, 1, 1, 0, 0, 0, 0,\n",
       "       0, 0, 1, 0, 1, 1, 0, 0, 0, 0, 0, 1, 1, 1, 1, 1, 0, 0, 1, 0, 1],\n",
       "      dtype=int64)"
      ]
     },
     "execution_count": 55,
     "metadata": {},
     "output_type": "execute_result"
    }
   ],
   "source": [
    "np.array(y_test) # original data"
   ]
  },
  {
   "cell_type": "markdown",
   "metadata": {},
   "source": [
    "From above it is clear that on the test data our model predicted almost predicted correct and now we can find the metrics we want\n",
    "\n",
    "lets start with ROC curve and AUC score"
   ]
  },
  {
   "cell_type": "markdown",
   "metadata": {},
   "source": [
    "### ROC Curve and AUC Score "
   ]
  },
  {
   "cell_type": "markdown",
   "metadata": {},
   "source": [
    "ROC curve is a way of understanding how your model is performing by comparing the true positive rate to the false positive rate.\n",
    "\n",
    "Scikit-Learn implements a function plot_roc_curve(which we have already imported in the beginning) which can help us create a ROC curve as well as calculate the area under the curve (AUC) metric.\n",
    "\n",
    "We'll use the GridSearchCV version of our LogisticRegression estimator, gs_log_reg as well as the test data, X_test and y_test."
   ]
  },
  {
   "cell_type": "code",
   "execution_count": 56,
   "metadata": {},
   "outputs": [
    {
     "data": {
      "text/plain": [
       "<sklearn.metrics._plot.roc_curve.RocCurveDisplay at 0x22e00560820>"
      ]
     },
     "execution_count": 56,
     "metadata": {},
     "output_type": "execute_result"
    },
    {
     "data": {
      "image/png": "[encoded data removed]",
      "text/plain": [
       "<Figure size 432x288 with 1 Axes>"
      ]
     },
     "metadata": {
      "needs_background": "light"
     },
     "output_type": "display_data"
    }
   ],
   "source": [
    "#lets plot roc curve\n",
    "plot_roc_curve(gs_log_reg, X_test, y_test)"
   ]
  },
  {
   "cell_type": "markdown",
   "metadata": {},
   "source": [
    "Our model does far better than guessing which would be a line going from the bottom left corner to the top right corner, AUC = 0.5. But a perfect model would achieve an AUC score of 1.0, so there's still room for improvement.\n",
    "\n",
    "Let's move onto the next evaluation, a confusion matrix."
   ]
  },
  {
   "cell_type": "markdown",
   "metadata": {},
   "source": [
    "### Confusion Matrix"
   ]
  },
  {
   "cell_type": "markdown",
   "metadata": {},
   "source": [
    "A confusion matrix is a visual way to show where your model made the right predictions and where it made the wrong predictions (or in other words, got confused)."
   ]
  },
  {
   "cell_type": "code",
   "execution_count": 57,
   "metadata": {},
   "outputs": [
    {
     "data": {
      "text/plain": [
       "array([[97,  2],\n",
       "       [10, 88]], dtype=int64)"
      ]
     },
     "execution_count": 57,
     "metadata": {},
     "output_type": "execute_result"
    }
   ],
   "source": [
    "k = confusion_matrix(y_test, y_preds)\n",
    "k"
   ]
  },
  {
   "cell_type": "markdown",
   "metadata": {},
   "source": [
    "As this matrix is not that much attractive Lets make this matrix visual using sklearn's seaborn heatmap( which we have imported in the beginning)"
   ]
  },
  {
   "cell_type": "code",
   "execution_count": 58,
   "metadata": {},
   "outputs": [
    {
     "data": {
      "image/png": "[encoded data removed]",
      "text/plain": [
       "<Figure size 216x216 with 1 Axes>"
      ]
     },
     "metadata": {
      "needs_background": "light"
     },
     "output_type": "display_data"
    }
   ],
   "source": [
    "#lets make the matrix visual\n",
    "#creating a function to plot the matrix\n",
    "\n",
    "def confusion_mat(y_test, y_preds):\n",
    "    \"\"\"\n",
    "    Plots a confusion matrix using Seaborn's heatmap().\n",
    "    \"\"\"\n",
    "    fig, ax = plt.subplots(figsize=(3, 3))\n",
    "    ax = sns.heatmap(confusion_matrix(y_test, y_preds), \n",
    "                          annot=True, #annote the boxes\n",
    "                          cbar=False)\n",
    "    plt.xlabel(\"True value\")\n",
    "    plt.ylabel(\"Predicted value\")\n",
    "    \n",
    "confusion_mat(y_test, y_preds)"
   ]
  },
  {
   "cell_type": "markdown",
   "metadata": {},
   "source": [
    "We can see the model gets confused (predicts the wrong label) relatively the same across both classes. In essence, there are 3 occasaions where the model predicted 0 when it should've been 1 (false negative) and 10 occasions where the model predicted 1 instead of 0 (false positive)"
   ]
  },
  {
   "cell_type": "markdown",
   "metadata": {},
   "source": [
    "### Classification report"
   ]
  },
  {
   "cell_type": "markdown",
   "metadata": {},
   "source": [
    "We can create a classification report just by calling classification_report() and passing it the true labels as well as our models predicted labels.\n",
    "\n",
    "A classification report will also give us information of the precision and recall of our model for each class."
   ]
  },
  {
   "cell_type": "code",
   "execution_count": 59,
   "metadata": {},
   "outputs": [
    {
     "data": {
      "text/plain": [
       "'              precision    recall  f1-score   support\\n\\n           0       0.91      0.98      0.94        99\\n           1       0.98      0.90      0.94        98\\n\\n    accuracy                           0.94       197\\n   macro avg       0.94      0.94      0.94       197\\nweighted avg       0.94      0.94      0.94       197\\n'"
      ]
     },
     "execution_count": 59,
     "metadata": {},
     "output_type": "execute_result"
    }
   ],
   "source": [
    "# Show classification report\n",
    "classification_report(y_test, y_preds)"
   ]
  },
  {
   "cell_type": "markdown",
   "metadata": {},
   "source": [
    "* Precision - Indicates the proportion of positive identifications (model predicted class 1) which were actually correct. A model which produces no false positives has a precision of 1.0.\n",
    "* Recall - Indicates the proportion of actual positives which were correctly classified. A model which produces no false negatives has a recall of 1.0.\n",
    "* F1 score - A combination of precision and recall. A perfect model achieves an F1 score of 1.0.\n",
    "* Support - The number of samples each metric was calculated on.\n",
    "* Accuracy - The accuracy of the model in decimal form. Perfect accuracy is equal to 1.0.\n",
    "* Macro avg - Short for macro average, the average precision, recall and F1 score between classes. Macro avg doesn’t class imbalance into effort, so if you do have class imbalances, pay attention to this metric.\n",
    "* Weighted avg - Short for weighted average, the weighted average precision, recall and F1 score between classes. Weighted means each metric is calculated with respect to how many samples there are in each class. This metric will favour the majority class (e.g. will give a high value when one class out performs another due to having more samples)."
   ]
  },
  {
   "cell_type": "markdown",
   "metadata": {},
   "source": [
    "Now as we have seen the curves and few metrics lets go to cross validation \n",
    "\n",
    "We'll take the best model along with the best hyperparameters and use cross_val_score() along with various scoring parameter values.\n",
    "\n",
    "cross_val_score() works by taking an estimator (machine learning model) along with data and labels. It then evaluates the machine learning model on the data and labels using cross-validation and a defined scoring parameter.\n"
   ]
  },
  {
   "cell_type": "code",
   "execution_count": 60,
   "metadata": {},
   "outputs": [
    {
     "data": {
      "text/plain": [
       "{'C': 0.03359818286283781, 'solver': 'liblinear'}"
      ]
     },
     "execution_count": 60,
     "metadata": {},
     "output_type": "execute_result"
    }
   ],
   "source": [
    "#check best params\n",
    "gs_log_reg.best_params_"
   ]
  },
  {
   "cell_type": "code",
   "execution_count": 61,
   "metadata": {},
   "outputs": [],
   "source": [
    "# lets instantiate the model again with the best parameters we found in gridsearchcv\n",
    "clf = LogisticRegression(C= 0.23357214690901212,solver= 'liblinear')"
   ]
  },
  {
   "cell_type": "markdown",
   "metadata": {},
   "source": [
    "Now lets perform cross-validation in this model"
   ]
  },
  {
   "cell_type": "code",
   "execution_count": 62,
   "metadata": {},
   "outputs": [
    {
     "data": {
      "text/plain": [
       "0.915606547187403"
      ]
     },
     "execution_count": 62,
     "metadata": {},
     "output_type": "execute_result"
    }
   ],
   "source": [
    "#lets start with accuracy...\n",
    "cross_acc = np.mean(cross_val_score(clf, X, y, cv=5, scoring=\"accuracy\"))\n",
    "cross_acc"
   ]
  },
  {
   "cell_type": "code",
   "execution_count": 63,
   "metadata": {},
   "outputs": [
    {
     "data": {
      "text/plain": [
       "0.9677918827105311"
      ]
     },
     "execution_count": 63,
     "metadata": {},
     "output_type": "execute_result"
    }
   ],
   "source": [
    "#precision\n",
    "cross_pre = np.mean(cross_val_score(clf, X, y, cv=5, scoring=\"precision\"))\n",
    "cross_pre"
   ]
  },
  {
   "cell_type": "code",
   "execution_count": 64,
   "metadata": {},
   "outputs": [
    {
     "data": {
      "text/plain": [
       "0.9094497914565525"
      ]
     },
     "execution_count": 64,
     "metadata": {},
     "output_type": "execute_result"
    }
   ],
   "source": [
    "#f1_score\n",
    "f1 = cross_pre = np.mean(cross_val_score(clf, X, y, cv=5, scoring=\"f1\"))\n",
    "f1"
   ]
  },
  {
   "cell_type": "code",
   "execution_count": 65,
   "metadata": {},
   "outputs": [
    {
     "data": {
      "text/plain": [
       "0.8596784168212739"
      ]
     },
     "execution_count": 65,
     "metadata": {},
     "output_type": "execute_result"
    }
   ],
   "source": [
    "#recall score\n",
    "recall = np.mean(cross_val_score(clf, X, y, cv=5, scoring=\"recall\"))\n",
    "recall"
   ]
  },
  {
   "cell_type": "markdown",
   "metadata": {},
   "source": [
    "Now, lets visualize this metrics by plotting the bar graph"
   ]
  },
  {
   "cell_type": "code",
   "execution_count": 66,
   "metadata": {},
   "outputs": [
    {
     "data": {
      "text/plain": [
       "<AxesSubplot:title={'center':'accuracy scores'}>"
      ]
     },
     "execution_count": 66,
     "metadata": {},
     "output_type": "execute_result"
    },
    {
     "data": {
      "image/png": "[encoded data removed]",
      "text/plain": [
       "<Figure size 432x288 with 1 Axes>"
      ]
     },
     "metadata": {
      "needs_background": "light"
     },
     "output_type": "display_data"
    }
   ],
   "source": [
    "cv_metrics = pd.DataFrame({\"Accuracy\": cross_acc,\n",
    "              \"Precision\": cross_pre,\n",
    "              \"F1 score\": f1,\n",
    "              \"Recall score\": recall}, index=[0])\n",
    "cv_metrics.T.plot.bar(title=\"accuracy scores\")"
   ]
  },
  {
   "cell_type": "markdown",
   "metadata": {},
   "source": [
    "So yes! we're almost done with our project,\n",
    "The final thing to check off the list of our model evaluation techniques is feature importance."
   ]
  },
  {
   "cell_type": "markdown",
   "metadata": {},
   "source": [
    "## Feature importance"
   ]
  },
  {
   "cell_type": "markdown",
   "metadata": {},
   "source": [
    "Feature importance is actually which features contributing most to the outcomes of the model...\n",
    "\n",
    "In our problem we are trying to predict Class(i.e which transaction is fraudulent and which is normal) using the principal component analysis, amount and other features,which charateristics contribute most to a model predicting whether the transaction is fraudulent or not?\n",
    "\n",
    "Unlike some of the other functions we've seen, because how each model finds patterns in data is slightly different, how a model judges how important those patterns are is different as well. This means for each model, there's a slightly different way of finding which features were most important.\n",
    "\n",
    "Since we're using LogisticRegression, we'll look at one way we can calculate feature importance for it.\n",
    "\n",
    "We'll use the coef_ attribute."
   ]
  },
  {
   "cell_type": "code",
   "execution_count": 67,
   "metadata": {},
   "outputs": [],
   "source": [
    "# Fit an instance of LogisticRegression (taken from above)\n",
    "clf.fit(X_train, y_train);"
   ]
  },
  {
   "cell_type": "code",
   "execution_count": 68,
   "metadata": {},
   "outputs": [
    {
     "data": {
      "text/plain": [
       "array([[-2.34438130e-05, -1.04081503e-01,  1.87106134e-02,\n",
       "        -3.77290904e-01,  4.65486187e-01,  2.21178668e-01,\n",
       "        -1.18760984e-01, -1.75223835e-02, -2.07601354e-01,\n",
       "        -1.22270249e-01, -1.84842363e-01,  1.25829030e-01,\n",
       "        -2.28492566e-01, -1.03321798e-01, -5.91807388e-01,\n",
       "        -8.38293079e-02, -6.87968534e-02,  4.89100989e-02,\n",
       "         7.78072270e-02, -3.57473897e-02,  3.49849376e-02,\n",
       "         4.69134787e-02,  1.06919787e-01,  6.77472491e-02,\n",
       "        -1.71278974e-02, -3.43447489e-02, -3.96874594e-02,\n",
       "        -1.26433536e-02,  1.78717508e-02,  1.50542383e-04]])"
      ]
     },
     "execution_count": 68,
     "metadata": {},
     "output_type": "execute_result"
    }
   ],
   "source": [
    "clf.coef_"
   ]
  },
  {
   "cell_type": "markdown",
   "metadata": {},
   "source": [
    "We cannot understand which features are which so lets visualize this ,so lets match features with columns"
   ]
  },
  {
   "cell_type": "code",
   "execution_count": 69,
   "metadata": {},
   "outputs": [
    {
     "data": {
      "text/plain": [
       "{'Time': -2.3443813043614797e-05,\n",
       " 'V1': -0.10408150273260543,\n",
       " 'V2': 0.018710613356886268,\n",
       " 'V3': -0.37729090446306923,\n",
       " 'V4': 0.4654861872549193,\n",
       " 'V5': 0.22117866824030477,\n",
       " 'V6': -0.1187609835599194,\n",
       " 'V7': -0.01752238354397819,\n",
       " 'V8': -0.2076013537092434,\n",
       " 'V9': -0.12227024853774537,\n",
       " 'V10': -0.18484236327310138,\n",
       " 'V11': 0.12582902956729008,\n",
       " 'V12': -0.2284925663726004,\n",
       " 'V13': -0.10332179839489815,\n",
       " 'V14': -0.5918073878322873,\n",
       " 'V15': -0.08382930790264727,\n",
       " 'V16': -0.06879685337882463,\n",
       " 'V17': 0.04891009885573375,\n",
       " 'V18': 0.077807226990121,\n",
       " 'V19': -0.035747389676792606,\n",
       " 'V20': 0.03498493760233344,\n",
       " 'V21': 0.04691347865828126,\n",
       " 'V22': 0.10691978726490249,\n",
       " 'V23': 0.0677472490548386,\n",
       " 'V24': -0.01712789740874259,\n",
       " 'V25': -0.03434474890008433,\n",
       " 'V26': -0.03968745936307287,\n",
       " 'V27': -0.012643353616517788,\n",
       " 'V28': 0.01787175079948594,\n",
       " 'Amount': 0.00015054238329962604}"
      ]
     },
     "execution_count": 69,
     "metadata": {},
     "output_type": "execute_result"
    }
   ],
   "source": [
    "feat_dict = dict(zip(df.columns, clf.coef_[0]))\n",
    "feat_dict"
   ]
  },
  {
   "cell_type": "markdown",
   "metadata": {},
   "source": [
    "So in this way all features contributing values to the model\n",
    "Now lets visulaize it by plotting it"
   ]
  },
  {
   "cell_type": "code",
   "execution_count": 70,
   "metadata": {},
   "outputs": [
    {
     "data": {
      "image/png": "[encoded data removed]",
      "text/plain": [
       "<Figure size 432x288 with 1 Axes>"
      ]
     },
     "metadata": {
      "needs_background": "light"
     },
     "output_type": "display_data"
    }
   ],
   "source": [
    "# Visualize feature importance\n",
    "features_df = pd.DataFrame(feat_dict, index=[0])\n",
    "features_df.T.plot.bar(title=\"Feature Importance\", legend=False);"
   ]
  },
  {
   "cell_type": "markdown",
   "metadata": {},
   "source": [
    "So some are negative and some are positive.\n",
    "\n",
    "The larger the value (bigger bar), the more the feature contributes to the models decision.\n",
    "\n",
    "If the value is negative, it means there's a negative correlation. And vice versa for positive values."
   ]
  },
  {
   "cell_type": "markdown",
   "metadata": {},
   "source": [
    "Let us again see the model predictions and actual values"
   ]
  },
  {
   "cell_type": "code",
   "execution_count": 71,
   "metadata": {},
   "outputs": [
    {
     "data": {
      "text/plain": [
       "array([1, 0, 1, 0, 0, 1, 1, 0, 1, 1, 1, 1, 0, 0, 0, 0, 0, 1, 1, 0, 0, 0,\n",
       "       1, 0, 1, 0, 0, 0, 0, 0, 0, 0, 0, 0, 1, 0, 0, 0, 0, 0, 0, 0, 1, 0,\n",
       "       1, 1, 0, 0, 0, 1, 1, 0, 1, 1, 1, 1, 1, 0, 1, 1, 0, 0, 0, 0, 0, 0,\n",
       "       1, 0, 0, 1, 0, 0, 0, 1, 0, 0, 0, 0, 0, 0, 1, 1, 1, 1, 0, 0, 0, 1,\n",
       "       1, 1, 0, 0, 1, 1, 1, 1, 0, 1, 1, 1, 1, 1, 0, 1, 1, 1, 0, 1, 1, 1,\n",
       "       1, 0, 1, 0, 1, 0, 0, 1, 0, 1, 0, 1, 0, 1, 1, 1, 1, 0, 0, 1, 1, 1,\n",
       "       0, 0, 1, 0, 0, 0, 1, 1, 1, 1, 1, 0, 1, 0, 0, 0, 0, 0, 0, 0, 0, 0,\n",
       "       0, 1, 1, 0, 1, 0, 0, 0, 0, 1, 1, 0, 1, 1, 0, 0, 1, 1, 0, 0, 0, 0,\n",
       "       0, 0, 1, 0, 1, 1, 0, 0, 0, 1, 0, 1, 1, 1, 1, 1, 0, 0, 1, 0, 1],\n",
       "      dtype=int64)"
      ]
     },
     "execution_count": 71,
     "metadata": {},
     "output_type": "execute_result"
    }
   ],
   "source": [
    "#predictions of model on test data\n",
    "y_preds"
   ]
  },
  {
   "cell_type": "code",
   "execution_count": 72,
   "metadata": {},
   "outputs": [
    {
     "data": {
      "text/plain": [
       "array([1, 0, 1, 0, 0, 1, 1, 0, 1, 1, 0, 1, 1, 1, 0, 0, 0, 1, 1, 0, 0, 0,\n",
       "       1, 0, 1, 0, 0, 0, 0, 0, 0, 0, 0, 0, 1, 0, 0, 0, 0, 0, 0, 0, 1, 0,\n",
       "       1, 1, 1, 0, 0, 1, 1, 0, 1, 1, 1, 1, 1, 0, 1, 1, 0, 0, 0, 0, 0, 0,\n",
       "       1, 0, 0, 1, 0, 0, 0, 1, 1, 0, 1, 0, 1, 0, 1, 1, 1, 1, 0, 1, 0, 1,\n",
       "       1, 1, 0, 0, 1, 1, 1, 1, 1, 1, 1, 1, 1, 1, 0, 1, 1, 1, 0, 1, 1, 1,\n",
       "       1, 0, 1, 0, 1, 0, 0, 1, 0, 1, 0, 1, 0, 1, 1, 1, 1, 0, 0, 1, 1, 1,\n",
       "       0, 0, 1, 0, 0, 0, 1, 1, 1, 1, 1, 0, 1, 0, 0, 0, 0, 0, 0, 0, 0, 1,\n",
       "       0, 1, 1, 0, 1, 0, 0, 0, 0, 1, 1, 1, 1, 1, 0, 0, 1, 1, 0, 0, 0, 0,\n",
       "       0, 0, 1, 0, 1, 1, 0, 0, 0, 0, 0, 1, 1, 1, 1, 1, 0, 0, 1, 0, 1],\n",
       "      dtype=int64)"
      ]
     },
     "execution_count": 72,
     "metadata": {},
     "output_type": "execute_result"
    }
   ],
   "source": [
    "# Actual values\n",
    "np.array(y_test)"
   ]
  },
  {
   "cell_type": "markdown",
   "metadata": {},
   "source": [
    "## Conclusion"
   ]
  },
  {
   "cell_type": "markdown",
   "metadata": {},
   "source": [
    "So, yeah! We've completed this project so in this project at first we have performed an EDA and discovered that our dataset is imbalanced so we undersampled the data after that we have performed train test split and then we have used three models to check which model gives a good accuracy and we've got a good accuracy from the logisticRegression model with an overall score of 92% , so we have performed the rest of the work like evaluation of the model by logistic regression after tuning the hyperparameters, and in the evaluation we have performed all the metrics and also the cross validation score and then we had checked the feature importance that means which features contributed most to the outcome model.. and observed the results \n",
    "\n",
    "Our main goal is reached that is we made a model which has an overall score of above 92%.."
   ]
  },
  {
   "cell_type": "markdown",
   "metadata": {},
   "source": []
  },
  {
   "cell_type": "code",
   "execution_count": null,
   "metadata": {},
   "outputs": [],
   "source": []
  }
 ],
 "metadata": {
  "kernelspec": {
   "display_name": "Python 3",
   "language": "python",
   "name": "python3"
  },
  "language_info": {
   "codemirror_mode": {
    "name": "ipython",
    "version": 3
   },
   "file_extension": ".py",
   "mimetype": "text/x-python",
   "name": "python",
   "nbconvert_exporter": "python",
   "pygments_lexer": "ipython3",
   "version": "3.8.5"
  }
 },
 "nbformat": 4,
 "nbformat_minor": 4
}
